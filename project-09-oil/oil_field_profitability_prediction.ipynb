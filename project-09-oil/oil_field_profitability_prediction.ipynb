{
 "cells": [
  {
   "cell_type": "markdown",
   "metadata": {},
   "source": [
    "Привет, меня зовут Артем. Сегодня я проверю твой проект.\n",
    "<br> Дальнейшее общение будет происходить на \"ты\" если это не вызывает никаких проблем.\n",
    "<br> Желательно реагировать на каждый мой комментарий ('исправил', 'не понятно как исправить ошибку', ...)\n",
    "<br> Пожалуйста, не удаляй комментарии ревьюера, так как они повышают качество повторного ревью.\n",
    "\n",
    "Комментарии будут в <font color='green'>зеленой</font>, <font color='blue'>синей</font> или <font color='red'>красной</font> рамках:\n",
    "\n",
    "<div class=\"alert alert-block alert-success\">\n",
    "<b>Успех:</b> Если все сделано отлично\n",
    "</div>\n",
    "\n",
    "<div class=\"alert alert-block alert-info\">\n",
    "<b>Совет: </b> Если можно немного улучшить\n",
    "</div>\n",
    "\n",
    "<div class=\"alert alert-block alert-danger\">\n",
    "<b>Ошибка:</b> Если требуются исправления. Работа не может быть принята с красными комментариями.\n",
    "</div>\n",
    "\n",
    "-------------------\n",
    "\n",
    "Будет очень хорошо, если ты будешь помечать свои действия следующим образом:\n",
    "<div class=\"alert alert-block alert-warning\">\n",
    "<b>Комментарий студента:</b> ...\n",
    "</div>\n",
    "\n",
    "<div class=\"alert alert-block alert-warning\">\n",
    "<b>Изменения:</b> Были внесены следующие изменения ...\n",
    "</div>\n",
    "\n",
    "### <font color='orange'>Общее впечатление</font>\n",
    "* Большое спасибо за проделанную работу. Видно, что приложено много усилий.\n",
    "* Выводы и рассуждения получились содержательными, их было интересно читать.\n",
    "* Отлично, что доверительный интервал и риск убытков посчитаны верно.\n",
    "* Над этим проектом нужно будет еще немного поработать. Однако, изменения не должны занять много времени.\n",
    "* В работе я оставил несколько советов. Буду рад, если ты учтешь их.\n",
    "* С радостью отвечу на твои вопросы, если они есть. Лучше всего их собрать в следующей ячейке. Жду новую версию проекта."
   ]
  },
  {
   "cell_type": "markdown",
   "metadata": {},
   "source": [
    "### <font color='orange'>Общее впечатление (ревью 2)</font>\n",
    "* После исправлений проект улучшился и теперь он может быть зачтен.\n",
    "* С выбором региона согласен.\n",
    "* Удачи в дальнейшем обучении и следующих работах!"
   ]
  },
  {
   "cell_type": "markdown",
   "metadata": {},
   "source": [
    "# Выбор локации для скважины"
   ]
  },
  {
   "cell_type": "markdown",
   "metadata": {},
   "source": [
    "Допустим, вы работаете в добывающей компании «ГлавРосГосНефть». Нужно решить, где бурить новую скважину.\n",
    "\n",
    "Вам предоставлены пробы нефти в трёх регионах: в каждом 10 000 месторождений, где измерили качество нефти и объём её запасов. Постройте модель машинного обучения, которая поможет определить регион, где добыча принесёт наибольшую прибыль. Проанализируйте возможную прибыль и риски техникой *Bootstrap.*\n",
    "\n",
    "Шаги для выбора локации:\n",
    "\n",
    "- В избранном регионе ищут месторождения, для каждого определяют значения признаков;\n",
    "- Строят модель и оценивают объём запасов;\n",
    "- Выбирают месторождения с самым высокими оценками значений. Количество месторождений зависит от бюджета компании и стоимости разработки одной скважины;\n",
    "- Прибыль равна суммарной прибыли отобранных месторождений."
   ]
  },
  {
   "cell_type": "code",
   "execution_count": 1,
   "metadata": {},
   "outputs": [],
   "source": [
    "import pandas as pd\n",
    "import numpy as np\n",
    "import matplotlib.pyplot as plt\n",
    "import seaborn as sns\n",
    "\n",
    "from sklearn.model_selection import train_test_split\n",
    "from sklearn.pipeline import Pipeline\n",
    "from sklearn.preprocessing import StandardScaler\n",
    "\n",
    "from sklearn.linear_model import LinearRegression\n",
    "\n",
    "from sklearn.metrics import mean_squared_error"
   ]
  },
  {
   "cell_type": "markdown",
   "metadata": {},
   "source": [
    "<div class=\"alert alert-block alert-success\">\n",
    "<b>Успех:</b> Отлично, что все импорты собраны в первой ячейке ноутбука! Если у того, кто будет запускать твой ноутбук будут отсутствовать некоторые библиотеки, то он это увидит сразу, а не в процессе!\n",
    "</div>"
   ]
  },
  {
   "cell_type": "markdown",
   "metadata": {},
   "source": [
    "## Загрузка и подготовка данных"
   ]
  },
  {
   "cell_type": "code",
   "execution_count": null,
   "metadata": {},
   "outputs": [],
   "source": [
    "geo_data_0 = pd.read_csv('/data/geo_data_0.csv')\n",
    "geo_data_1 = pd.read_csv('/data/geo_data_1.csv')\n",
    "geo_data_2 = pd.read_csv('/data/geo_data_2.csv')"
   ]
  },
  {
   "cell_type": "code",
   "execution_count": 3,
   "metadata": {},
   "outputs": [
    {
     "data": {
      "text/html": [
       "<div>\n",
       "<style scoped>\n",
       "    .dataframe tbody tr th:only-of-type {\n",
       "        vertical-align: middle;\n",
       "    }\n",
       "\n",
       "    .dataframe tbody tr th {\n",
       "        vertical-align: top;\n",
       "    }\n",
       "\n",
       "    .dataframe thead th {\n",
       "        text-align: right;\n",
       "    }\n",
       "</style>\n",
       "<table border=\"1\" class=\"dataframe\">\n",
       "  <thead>\n",
       "    <tr style=\"text-align: right;\">\n",
       "      <th></th>\n",
       "      <th>id</th>\n",
       "      <th>f0</th>\n",
       "      <th>f1</th>\n",
       "      <th>f2</th>\n",
       "      <th>product</th>\n",
       "    </tr>\n",
       "  </thead>\n",
       "  <tbody>\n",
       "    <tr>\n",
       "      <th>0</th>\n",
       "      <td>txEyH</td>\n",
       "      <td>0.705745</td>\n",
       "      <td>-0.497823</td>\n",
       "      <td>1.221170</td>\n",
       "      <td>105.280062</td>\n",
       "    </tr>\n",
       "    <tr>\n",
       "      <th>1</th>\n",
       "      <td>2acmU</td>\n",
       "      <td>1.334711</td>\n",
       "      <td>-0.340164</td>\n",
       "      <td>4.365080</td>\n",
       "      <td>73.037750</td>\n",
       "    </tr>\n",
       "    <tr>\n",
       "      <th>2</th>\n",
       "      <td>409Wp</td>\n",
       "      <td>1.022732</td>\n",
       "      <td>0.151990</td>\n",
       "      <td>1.419926</td>\n",
       "      <td>85.265647</td>\n",
       "    </tr>\n",
       "    <tr>\n",
       "      <th>3</th>\n",
       "      <td>iJLyR</td>\n",
       "      <td>-0.032172</td>\n",
       "      <td>0.139033</td>\n",
       "      <td>2.978566</td>\n",
       "      <td>168.620776</td>\n",
       "    </tr>\n",
       "    <tr>\n",
       "      <th>4</th>\n",
       "      <td>Xdl7t</td>\n",
       "      <td>1.988431</td>\n",
       "      <td>0.155413</td>\n",
       "      <td>4.751769</td>\n",
       "      <td>154.036647</td>\n",
       "    </tr>\n",
       "    <tr>\n",
       "      <th>5</th>\n",
       "      <td>wX4Hy</td>\n",
       "      <td>0.969570</td>\n",
       "      <td>0.489775</td>\n",
       "      <td>-0.735383</td>\n",
       "      <td>64.741541</td>\n",
       "    </tr>\n",
       "    <tr>\n",
       "      <th>6</th>\n",
       "      <td>tL6pL</td>\n",
       "      <td>0.645075</td>\n",
       "      <td>0.530656</td>\n",
       "      <td>1.780266</td>\n",
       "      <td>49.055285</td>\n",
       "    </tr>\n",
       "    <tr>\n",
       "      <th>7</th>\n",
       "      <td>BYPU6</td>\n",
       "      <td>-0.400648</td>\n",
       "      <td>0.808337</td>\n",
       "      <td>-5.624670</td>\n",
       "      <td>72.943292</td>\n",
       "    </tr>\n",
       "    <tr>\n",
       "      <th>8</th>\n",
       "      <td>j9Oui</td>\n",
       "      <td>0.643105</td>\n",
       "      <td>-0.551583</td>\n",
       "      <td>2.372141</td>\n",
       "      <td>113.356160</td>\n",
       "    </tr>\n",
       "    <tr>\n",
       "      <th>9</th>\n",
       "      <td>OLuZU</td>\n",
       "      <td>2.173381</td>\n",
       "      <td>0.563698</td>\n",
       "      <td>9.441852</td>\n",
       "      <td>127.910945</td>\n",
       "    </tr>\n",
       "  </tbody>\n",
       "</table>\n",
       "</div>"
      ],
      "text/plain": [
       "      id        f0        f1        f2     product\n",
       "0  txEyH  0.705745 -0.497823  1.221170  105.280062\n",
       "1  2acmU  1.334711 -0.340164  4.365080   73.037750\n",
       "2  409Wp  1.022732  0.151990  1.419926   85.265647\n",
       "3  iJLyR -0.032172  0.139033  2.978566  168.620776\n",
       "4  Xdl7t  1.988431  0.155413  4.751769  154.036647\n",
       "5  wX4Hy  0.969570  0.489775 -0.735383   64.741541\n",
       "6  tL6pL  0.645075  0.530656  1.780266   49.055285\n",
       "7  BYPU6 -0.400648  0.808337 -5.624670   72.943292\n",
       "8  j9Oui  0.643105 -0.551583  2.372141  113.356160\n",
       "9  OLuZU  2.173381  0.563698  9.441852  127.910945"
      ]
     },
     "metadata": {},
     "output_type": "display_data"
    },
    {
     "name": "stdout",
     "output_type": "stream",
     "text": [
      "<class 'pandas.core.frame.DataFrame'>\n",
      "RangeIndex: 100000 entries, 0 to 99999\n",
      "Data columns (total 5 columns):\n",
      " #   Column   Non-Null Count   Dtype  \n",
      "---  ------   --------------   -----  \n",
      " 0   id       100000 non-null  object \n",
      " 1   f0       100000 non-null  float64\n",
      " 2   f1       100000 non-null  float64\n",
      " 3   f2       100000 non-null  float64\n",
      " 4   product  100000 non-null  float64\n",
      "dtypes: float64(4), object(1)\n",
      "memory usage: 3.8+ MB\n"
     ]
    }
   ],
   "source": [
    "display(geo_data_0.head(10))\n",
    "geo_data_0.info()"
   ]
  },
  {
   "cell_type": "code",
   "execution_count": 4,
   "metadata": {},
   "outputs": [
    {
     "data": {
      "text/html": [
       "<div>\n",
       "<style scoped>\n",
       "    .dataframe tbody tr th:only-of-type {\n",
       "        vertical-align: middle;\n",
       "    }\n",
       "\n",
       "    .dataframe tbody tr th {\n",
       "        vertical-align: top;\n",
       "    }\n",
       "\n",
       "    .dataframe thead th {\n",
       "        text-align: right;\n",
       "    }\n",
       "</style>\n",
       "<table border=\"1\" class=\"dataframe\">\n",
       "  <thead>\n",
       "    <tr style=\"text-align: right;\">\n",
       "      <th></th>\n",
       "      <th>id</th>\n",
       "      <th>f0</th>\n",
       "      <th>f1</th>\n",
       "      <th>f2</th>\n",
       "      <th>product</th>\n",
       "    </tr>\n",
       "  </thead>\n",
       "  <tbody>\n",
       "    <tr>\n",
       "      <th>0</th>\n",
       "      <td>kBEdx</td>\n",
       "      <td>-15.001348</td>\n",
       "      <td>-8.276000</td>\n",
       "      <td>-0.005876</td>\n",
       "      <td>3.179103</td>\n",
       "    </tr>\n",
       "    <tr>\n",
       "      <th>1</th>\n",
       "      <td>62mP7</td>\n",
       "      <td>14.272088</td>\n",
       "      <td>-3.475083</td>\n",
       "      <td>0.999183</td>\n",
       "      <td>26.953261</td>\n",
       "    </tr>\n",
       "    <tr>\n",
       "      <th>2</th>\n",
       "      <td>vyE1P</td>\n",
       "      <td>6.263187</td>\n",
       "      <td>-5.948386</td>\n",
       "      <td>5.001160</td>\n",
       "      <td>134.766305</td>\n",
       "    </tr>\n",
       "    <tr>\n",
       "      <th>3</th>\n",
       "      <td>KcrkZ</td>\n",
       "      <td>-13.081196</td>\n",
       "      <td>-11.506057</td>\n",
       "      <td>4.999415</td>\n",
       "      <td>137.945408</td>\n",
       "    </tr>\n",
       "    <tr>\n",
       "      <th>4</th>\n",
       "      <td>AHL4O</td>\n",
       "      <td>12.702195</td>\n",
       "      <td>-8.147433</td>\n",
       "      <td>5.004363</td>\n",
       "      <td>134.766305</td>\n",
       "    </tr>\n",
       "    <tr>\n",
       "      <th>5</th>\n",
       "      <td>HHckp</td>\n",
       "      <td>-3.327590</td>\n",
       "      <td>-2.205276</td>\n",
       "      <td>3.003647</td>\n",
       "      <td>84.038886</td>\n",
       "    </tr>\n",
       "    <tr>\n",
       "      <th>6</th>\n",
       "      <td>h5Ujo</td>\n",
       "      <td>-11.142655</td>\n",
       "      <td>-10.133399</td>\n",
       "      <td>4.002382</td>\n",
       "      <td>110.992147</td>\n",
       "    </tr>\n",
       "    <tr>\n",
       "      <th>7</th>\n",
       "      <td>muH9x</td>\n",
       "      <td>4.234715</td>\n",
       "      <td>-0.001354</td>\n",
       "      <td>2.004588</td>\n",
       "      <td>53.906522</td>\n",
       "    </tr>\n",
       "    <tr>\n",
       "      <th>8</th>\n",
       "      <td>YiRkx</td>\n",
       "      <td>13.355129</td>\n",
       "      <td>-0.332068</td>\n",
       "      <td>4.998647</td>\n",
       "      <td>134.766305</td>\n",
       "    </tr>\n",
       "    <tr>\n",
       "      <th>9</th>\n",
       "      <td>jG6Gi</td>\n",
       "      <td>1.069227</td>\n",
       "      <td>-11.025667</td>\n",
       "      <td>4.997844</td>\n",
       "      <td>137.945408</td>\n",
       "    </tr>\n",
       "  </tbody>\n",
       "</table>\n",
       "</div>"
      ],
      "text/plain": [
       "      id         f0         f1        f2     product\n",
       "0  kBEdx -15.001348  -8.276000 -0.005876    3.179103\n",
       "1  62mP7  14.272088  -3.475083  0.999183   26.953261\n",
       "2  vyE1P   6.263187  -5.948386  5.001160  134.766305\n",
       "3  KcrkZ -13.081196 -11.506057  4.999415  137.945408\n",
       "4  AHL4O  12.702195  -8.147433  5.004363  134.766305\n",
       "5  HHckp  -3.327590  -2.205276  3.003647   84.038886\n",
       "6  h5Ujo -11.142655 -10.133399  4.002382  110.992147\n",
       "7  muH9x   4.234715  -0.001354  2.004588   53.906522\n",
       "8  YiRkx  13.355129  -0.332068  4.998647  134.766305\n",
       "9  jG6Gi   1.069227 -11.025667  4.997844  137.945408"
      ]
     },
     "metadata": {},
     "output_type": "display_data"
    },
    {
     "name": "stdout",
     "output_type": "stream",
     "text": [
      "<class 'pandas.core.frame.DataFrame'>\n",
      "RangeIndex: 100000 entries, 0 to 99999\n",
      "Data columns (total 5 columns):\n",
      " #   Column   Non-Null Count   Dtype  \n",
      "---  ------   --------------   -----  \n",
      " 0   id       100000 non-null  object \n",
      " 1   f0       100000 non-null  float64\n",
      " 2   f1       100000 non-null  float64\n",
      " 3   f2       100000 non-null  float64\n",
      " 4   product  100000 non-null  float64\n",
      "dtypes: float64(4), object(1)\n",
      "memory usage: 3.8+ MB\n"
     ]
    }
   ],
   "source": [
    "display(geo_data_1.head(10))\n",
    "geo_data_0.info()"
   ]
  },
  {
   "cell_type": "code",
   "execution_count": 5,
   "metadata": {},
   "outputs": [
    {
     "data": {
      "text/html": [
       "<div>\n",
       "<style scoped>\n",
       "    .dataframe tbody tr th:only-of-type {\n",
       "        vertical-align: middle;\n",
       "    }\n",
       "\n",
       "    .dataframe tbody tr th {\n",
       "        vertical-align: top;\n",
       "    }\n",
       "\n",
       "    .dataframe thead th {\n",
       "        text-align: right;\n",
       "    }\n",
       "</style>\n",
       "<table border=\"1\" class=\"dataframe\">\n",
       "  <thead>\n",
       "    <tr style=\"text-align: right;\">\n",
       "      <th></th>\n",
       "      <th>id</th>\n",
       "      <th>f0</th>\n",
       "      <th>f1</th>\n",
       "      <th>f2</th>\n",
       "      <th>product</th>\n",
       "    </tr>\n",
       "  </thead>\n",
       "  <tbody>\n",
       "    <tr>\n",
       "      <th>0</th>\n",
       "      <td>fwXo0</td>\n",
       "      <td>-1.146987</td>\n",
       "      <td>0.963328</td>\n",
       "      <td>-0.828965</td>\n",
       "      <td>27.758673</td>\n",
       "    </tr>\n",
       "    <tr>\n",
       "      <th>1</th>\n",
       "      <td>WJtFt</td>\n",
       "      <td>0.262778</td>\n",
       "      <td>0.269839</td>\n",
       "      <td>-2.530187</td>\n",
       "      <td>56.069697</td>\n",
       "    </tr>\n",
       "    <tr>\n",
       "      <th>2</th>\n",
       "      <td>ovLUW</td>\n",
       "      <td>0.194587</td>\n",
       "      <td>0.289035</td>\n",
       "      <td>-5.586433</td>\n",
       "      <td>62.871910</td>\n",
       "    </tr>\n",
       "    <tr>\n",
       "      <th>3</th>\n",
       "      <td>q6cA6</td>\n",
       "      <td>2.236060</td>\n",
       "      <td>-0.553760</td>\n",
       "      <td>0.930038</td>\n",
       "      <td>114.572842</td>\n",
       "    </tr>\n",
       "    <tr>\n",
       "      <th>4</th>\n",
       "      <td>WPMUX</td>\n",
       "      <td>-0.515993</td>\n",
       "      <td>1.716266</td>\n",
       "      <td>5.899011</td>\n",
       "      <td>149.600746</td>\n",
       "    </tr>\n",
       "    <tr>\n",
       "      <th>5</th>\n",
       "      <td>LzZXx</td>\n",
       "      <td>-0.758092</td>\n",
       "      <td>0.710691</td>\n",
       "      <td>2.585887</td>\n",
       "      <td>90.222465</td>\n",
       "    </tr>\n",
       "    <tr>\n",
       "      <th>6</th>\n",
       "      <td>WBHRv</td>\n",
       "      <td>-0.574891</td>\n",
       "      <td>0.317727</td>\n",
       "      <td>1.773745</td>\n",
       "      <td>45.641478</td>\n",
       "    </tr>\n",
       "    <tr>\n",
       "      <th>7</th>\n",
       "      <td>XO8fn</td>\n",
       "      <td>-1.906649</td>\n",
       "      <td>-2.458350</td>\n",
       "      <td>-0.177097</td>\n",
       "      <td>72.480640</td>\n",
       "    </tr>\n",
       "    <tr>\n",
       "      <th>8</th>\n",
       "      <td>ybmQ5</td>\n",
       "      <td>1.776292</td>\n",
       "      <td>-0.279356</td>\n",
       "      <td>3.004156</td>\n",
       "      <td>106.616832</td>\n",
       "    </tr>\n",
       "    <tr>\n",
       "      <th>9</th>\n",
       "      <td>OilcN</td>\n",
       "      <td>-1.214452</td>\n",
       "      <td>-0.439314</td>\n",
       "      <td>5.922514</td>\n",
       "      <td>52.954532</td>\n",
       "    </tr>\n",
       "  </tbody>\n",
       "</table>\n",
       "</div>"
      ],
      "text/plain": [
       "      id        f0        f1        f2     product\n",
       "0  fwXo0 -1.146987  0.963328 -0.828965   27.758673\n",
       "1  WJtFt  0.262778  0.269839 -2.530187   56.069697\n",
       "2  ovLUW  0.194587  0.289035 -5.586433   62.871910\n",
       "3  q6cA6  2.236060 -0.553760  0.930038  114.572842\n",
       "4  WPMUX -0.515993  1.716266  5.899011  149.600746\n",
       "5  LzZXx -0.758092  0.710691  2.585887   90.222465\n",
       "6  WBHRv -0.574891  0.317727  1.773745   45.641478\n",
       "7  XO8fn -1.906649 -2.458350 -0.177097   72.480640\n",
       "8  ybmQ5  1.776292 -0.279356  3.004156  106.616832\n",
       "9  OilcN -1.214452 -0.439314  5.922514   52.954532"
      ]
     },
     "metadata": {},
     "output_type": "display_data"
    },
    {
     "name": "stdout",
     "output_type": "stream",
     "text": [
      "<class 'pandas.core.frame.DataFrame'>\n",
      "RangeIndex: 100000 entries, 0 to 99999\n",
      "Data columns (total 5 columns):\n",
      " #   Column   Non-Null Count   Dtype  \n",
      "---  ------   --------------   -----  \n",
      " 0   id       100000 non-null  object \n",
      " 1   f0       100000 non-null  float64\n",
      " 2   f1       100000 non-null  float64\n",
      " 3   f2       100000 non-null  float64\n",
      " 4   product  100000 non-null  float64\n",
      "dtypes: float64(4), object(1)\n",
      "memory usage: 3.8+ MB\n"
     ]
    }
   ],
   "source": [
    "display(geo_data_2.head(10))\n",
    "geo_data_0.info()"
   ]
  },
  {
   "cell_type": "markdown",
   "metadata": {},
   "source": [
    "Предварительный просмотр данных показал, что в каждом из трёх датасетов (geo_data_0, geo_data_1, geo_data_2) по 100 000 строк. Датасеты содержат 5 колонок: уникальный идентификатор скважины (id), три числовых признака (f0, f1, f2) и целевой признак — объём запасов нефти в скважине (product). Пропусков данных нет, все числовые признаки представлены типом float64, а идентификатор скважины — object.\n",
    "\n",
    "Далее предстоит:\n",
    "- Разделить данные на обучающую и валидационную выборки.\n",
    "- Обучить модель линейной регрессии для каждого региона.\n",
    "- Оценить средний объём предсказанного сырья и метрику RMSE.\n",
    "- Рассчитать потенциальную прибыль по регионам.\n",
    "- Использовать Bootstrap для оценки рисков и прибыли."
   ]
  },
  {
   "cell_type": "markdown",
   "metadata": {},
   "source": [
    "<div class=\"alert alert-block alert-success\">\n",
    "<b>Успех:</b> Данные загружены и осмотрены корректно.\n",
    "</div>"
   ]
  },
  {
   "cell_type": "markdown",
   "metadata": {},
   "source": [
    "## Обучение и проверка модели"
   ]
  },
  {
   "cell_type": "code",
   "execution_count": 6,
   "metadata": {},
   "outputs": [],
   "source": [
    "# Функция для обучения модели и вывода результатов\n",
    "def train_and_evaluate_model(data):\n",
    "    # Разделение данных на признаки (X) и целевой признак (y)\n",
    "    X = data.drop(['id', 'product'], axis=1)\n",
    "    y = data['product']\n",
    "    \n",
    "    # Разделение на обучающую и валидационную выборки в соотношении 75:25\n",
    "    X_train, X_val, y_train, y_val = train_test_split(X, y, test_size=0.25, random_state=42)\n",
    "    \n",
    "    # Создание пайплайна: масштабирование + линейная регрессия\n",
    "    model_pipeline = Pipeline([\n",
    "        ('scaler', StandardScaler()),\n",
    "        ('regressor', LinearRegression())\n",
    "    ])\n",
    "    \n",
    "    # Обучение модели\n",
    "    model_pipeline.fit(X_train, y_train)\n",
    "    \n",
    "    # Предсказания на валидационной выборке\n",
    "    predictions = model_pipeline.predict(X_val)\n",
    "    \n",
    "    # Средний запас предсказанного сырья и RMSE модели\n",
    "    mean_predicted = predictions.mean()\n",
    "    rmse = np.sqrt(mean_squared_error(y_val, predictions))\n",
    "    \n",
    "    print(f\"Средний запас предсказанного сырья: {mean_predicted:.2f} тыс. баррелей\")\n",
    "    print(f\"RMSE модели: {rmse:.2f}\")\n",
    "    \n",
    "    # Возвращаем предсказания и правильные ответы для дальнейшего анализа\n",
    "    return y_val, predictions"
   ]
  },
  {
   "cell_type": "code",
   "execution_count": 7,
   "metadata": {},
   "outputs": [],
   "source": [
    "def plot_predictions_distribution(predictions, region):\n",
    "    print(f\"Среднее значение: {np.mean(predictions):.2f}\")\n",
    "    print(f\"Медиана: {np.median(predictions):.2f}\")\n",
    "    print(f\"Стандартное отклонение: {np.std(predictions):.2f}\")\n",
    "    print(f\"Минимум: {np.min(predictions):.2f}\")\n",
    "    print(f\"Максимум: {np.max(predictions):.2f}\")\n",
    "    print(f\"25-й процентиль: {np.percentile(predictions, 25):.2f}\")\n",
    "    print(f\"75-й процентиль: {np.percentile(predictions, 75):.2f}\")\n",
    "        \n",
    "    # Гистограмма распределения предсказаний\n",
    "    plt.figure(figsize=(10, 6))\n",
    "    sns.histplot(predictions, kde=True, bins=30, color='blue')\n",
    "    \n",
    "    plt.title(f'Распределение предсказанных значений нефти для региона {region}')\n",
    "    plt.xlabel('Предсказанный объем нефти (тыс. баррелей)')\n",
    "    plt.ylabel('Частота')\n",
    "    plt.grid(True)\n",
    "    plt.show()"
   ]
  },
  {
   "cell_type": "code",
   "execution_count": 8,
   "metadata": {},
   "outputs": [
    {
     "name": "stdout",
     "output_type": "stream",
     "text": [
      "Регион 0:\n",
      "Средний запас предсказанного сырья: 92.40 тыс. баррелей\n",
      "RMSE модели: 37.76\n",
      "Распределение предсказаний для региона 0:\n",
      "Среднее значение: 92.40\n",
      "Медиана: 92.41\n",
      "Стандартное отклонение: 23.22\n",
      "Минимум: -9.84\n",
      "Максимум: 176.54\n",
      "25-й процентиль: 76.79\n",
      "75-й процентиль: 108.04\n"
     ]
    },
    {
     "data": {
      "image/png": "[encoded data removed]",
      "text/plain": [
       "<Figure size 720x432 with 1 Axes>"
      ]
     },
     "metadata": {
      "needs_background": "light"
     },
     "output_type": "display_data"
    }
   ],
   "source": [
    "print(\"Регион 0:\")\n",
    "target_0, pred_0 = train_and_evaluate_model(geo_data_0)\n",
    "print(\"Распределение предсказаний для региона 0:\")\n",
    "plot_predictions_distribution(pred_0, 0)"
   ]
  },
  {
   "cell_type": "markdown",
   "metadata": {},
   "source": [
    "Средний предсказанный запас сырья в этом регионе довольно высок (92.40 тыс. баррелей), но ошибка модели (RMSE = 37.76) относительно велика. Это указывает на значительную вариативность между фактическими и предсказанными значениями, что может свидетельствовать о том, что модель недостаточно точно предсказывает объёмы запасов.\n",
    "\n",
    "Среднее и медиана почти равны, что говорит о симметричном распределении предсказаний.\n",
    "Стандартное отклонение (23.22) и минимальное значение (-9.84) указывают на наличие негативных предсказаний, но их немного."
   ]
  },
  {
   "cell_type": "code",
   "execution_count": 9,
   "metadata": {},
   "outputs": [
    {
     "name": "stdout",
     "output_type": "stream",
     "text": [
      "\n",
      "Регион 1:\n",
      "Средний запас предсказанного сырья: 68.71 тыс. баррелей\n",
      "RMSE модели: 0.89\n",
      "Распределение предсказаний для региона 1:\n",
      "Среднее значение: 68.71\n",
      "Медиана: 57.92\n",
      "Стандартное отклонение: 45.95\n",
      "Минимум: -2.07\n",
      "Максимум: 139.98\n",
      "25-й процентиль: 28.58\n",
      "75-й процентиль: 109.31\n"
     ]
    },
    {
     "data": {
      "image/png": "[encoded data removed]",
      "text/plain": [
       "<Figure size 720x432 with 1 Axes>"
      ]
     },
     "metadata": {
      "needs_background": "light"
     },
     "output_type": "display_data"
    }
   ],
   "source": [
    "print(\"\\nРегион 1:\")\n",
    "target_1, pred_1 = train_and_evaluate_model(geo_data_1)\n",
    "print(\"Распределение предсказаний для региона 1:\")\n",
    "plot_predictions_distribution(pred_1, 1)"
   ]
  },
  {
   "cell_type": "markdown",
   "metadata": {},
   "source": [
    "В этом регионе модель демонстрирует практически идеальные результаты. Средний запас сырья меньше, чем в первом регионе (68.71 тыс. баррелей), но RMSE чрезвычайно низкий (0.89), что означает, что предсказания модели очень близки к фактическим значениям. Это свидетельствует о хорошей модели для этого региона.\n",
    "\n",
    "Однако стандартное отклонение (45.95) и значительный разброс в данных (от -2.07 до 139.98 тыс. баррелей) показывают, что предсказания сильно варьируются."
   ]
  },
  {
   "cell_type": "code",
   "execution_count": 10,
   "metadata": {},
   "outputs": [
    {
     "name": "stdout",
     "output_type": "stream",
     "text": [
      "\n",
      "Регион 2:\n",
      "Средний запас предсказанного сырья: 94.77 тыс. баррелей\n",
      "RMSE модели: 40.15\n",
      "Распределение предсказаний для региона 2:\n",
      "Среднее значение: 94.77\n",
      "Медиана: 94.61\n",
      "Стандартное отклонение: 19.93\n",
      "Минимум: 16.20\n",
      "Максимум: 170.53\n",
      "25-й процентиль: 81.16\n",
      "75-й процентиль: 108.36\n"
     ]
    },
    {
     "data": {
      "image/png": "[encoded data removed]",
      "text/plain": [
       "<Figure size 720x432 with 1 Axes>"
      ]
     },
     "metadata": {
      "needs_background": "light"
     },
     "output_type": "display_data"
    }
   ],
   "source": [
    "print(\"\\nРегион 2:\")\n",
    "target_2, pred_2 = train_and_evaluate_model(geo_data_2)\n",
    "print(\"Распределение предсказаний для региона 2:\")\n",
    "plot_predictions_distribution(pred_2, 2)"
   ]
  },
  {
   "cell_type": "markdown",
   "metadata": {},
   "source": [
    "Регион 2 имеет самый высокий средний предсказанный запас сырья (94.77 тыс. баррелей), однако RMSE также высок (40.15), что указывает на большую ошибку модели и, следовательно, низкую точность предсказаний, как и в первом регионе.\n",
    "\n",
    "Стандартное отклонение (19.93) относительно невелико, а минимум (16.20 тыс. баррелей) показывает, что в этом регионе все предсказания положительны."
   ]
  },
  {
   "cell_type": "markdown",
   "metadata": {},
   "source": [
    "<div class=\"alert alert-block alert-success\">\n",
    "<b>Успех:</b> Модели обучены корректно. Радует, что ты активно используешь функции. Это помогает избежать дублирования кода, а значит уменьшает вероятность совершить ошибку/опечатку!\n",
    "</div>"
   ]
  },
  {
   "cell_type": "markdown",
   "metadata": {},
   "source": [
    "## Подготовка к расчёту прибыли"
   ]
  },
  {
   "cell_type": "code",
   "execution_count": 11,
   "metadata": {},
   "outputs": [],
   "source": [
    "# Исходные данные\n",
    "BUDGET = 10000000000\n",
    "REVENUE_PER_THOUSAND_BARREL = 450000\n",
    "NUM_WELLS = 200"
   ]
  },
  {
   "cell_type": "code",
   "execution_count": 12,
   "metadata": {},
   "outputs": [
    {
     "name": "stdout",
     "output_type": "stream",
     "text": [
      "Достаточный объём нефти для безубыточности: 111.11 тыс. баррелей\n"
     ]
    }
   ],
   "source": [
    "# Расчёт достаточного объёма сырья на одну скважину\n",
    "# Сумма, которую должна принести одна скважина\n",
    "total_revenue_needed = BUDGET / NUM_WELLS\n",
    "# Минимальный объём сырья в тысячах баррелей\n",
    "min_volume_per_well = total_revenue_needed / REVENUE_PER_THOUSAND_BARREL\n",
    "\n",
    "print(f'Достаточный объём нефти для безубыточности: {min_volume_per_well:.2f} тыс. баррелей')"
   ]
  },
  {
   "cell_type": "markdown",
   "metadata": {},
   "source": [
    "Если средний запас нефти в регионе выше, чем рассчитанный минимальный объём - 111.11 тыс.баррелей, можно рассчитывать на безубыточность или прибыль."
   ]
  },
  {
   "cell_type": "markdown",
   "metadata": {},
   "source": [
    "<div class=\"alert alert-block alert-info\">\n",
    "\n",
    "<b>Совет: </b> В названиях константных переменных лучше использовать только БОЛЬШИЕ буквы. Это соглашение между программистами: https://pythonworld.ru/osnovy/pep-8-rukovodstvo-po-napisaniyu-koda-na-python.html#id29 .\n",
    "</div>\n",
    "\n",
    "<div class=\"alert alert-block alert-success\">\n",
    "<b>Успех:</b> Точка безубыточности найдена верно, сравнение проведено!\n",
    "</div>"
   ]
  },
  {
   "cell_type": "markdown",
   "metadata": {},
   "source": [
    "## Расчёт прибыли и рисков "
   ]
  },
  {
   "cell_type": "code",
   "execution_count": 13,
   "metadata": {},
   "outputs": [],
   "source": [
    "def calculate_profit(target, predictions, count_wells=NUM_WELLS):\n",
    "    \n",
    "    # Выбираем индексы лучших скважин по предсказаниям\n",
    "    selected_indices = predictions.argsort()[-count_wells:][::-1]\n",
    "    \n",
    "    # Суммируем целевые значения объёма сырья для выбранных скважин\n",
    "    selected_wells = target.iloc[selected_indices]\n",
    "    total_volume = selected_wells.sum()\n",
    "\n",
    "    # Рассчитываем прибыль\n",
    "    profit = total_volume * REVENUE_PER_THOUSAND_BARREL - BUDGET\n",
    "\n",
    "    return profit"
   ]
  },
  {
   "cell_type": "code",
   "execution_count": 14,
   "metadata": {},
   "outputs": [
    {
     "name": "stdout",
     "output_type": "stream",
     "text": [
      "Прибыль региона 0: 3.359 млрд. рублей\n"
     ]
    }
   ],
   "source": [
    "profit_region_0 = calculate_profit(target_0, pred_0)\n",
    "print(f'Прибыль региона 0: {profit_region_0/1000000000:.3f} млрд. рублей')"
   ]
  },
  {
   "cell_type": "code",
   "execution_count": 15,
   "metadata": {},
   "outputs": [
    {
     "name": "stdout",
     "output_type": "stream",
     "text": [
      "Прибыль региона 1: 2.415 млрд. рублей\n"
     ]
    }
   ],
   "source": [
    "profit_region_1 = calculate_profit(target_1, pred_1)\n",
    "print(f'Прибыль региона 1: {profit_region_1/1000000000:.3f} млрд. рублей')"
   ]
  },
  {
   "cell_type": "code",
   "execution_count": 16,
   "metadata": {},
   "outputs": [
    {
     "name": "stdout",
     "output_type": "stream",
     "text": [
      "Прибыль региона 2: 2.599 млрд. рублей\n"
     ]
    }
   ],
   "source": [
    "profit_region_2 = calculate_profit(target_2, pred_2)\n",
    "print(f'Прибыль региона 2: {profit_region_2/1000000000:.3f} млрд. рублей')"
   ]
  },
  {
   "cell_type": "markdown",
   "metadata": {},
   "source": [
    "По результатам расчётов прибыли для трёх регионов можно сделать следующие выводы:\n",
    "- Регион 0 является наиболее выгодным для разработки, поскольку демонстрирует максимальную прибыль при выбранных 200 лучших скважинах, несмотря на более высокую ошибку модели.\n",
    "- Регион 1 показал наилучшую точность предсказаний, но меньшие объёмы сырья привели к более низкой прибыли.\n",
    "- Регион 2 обладает значительной неопределённостью из-за самой высокой ошибки предсказаний, что делает его менее привлекательным для разработки, несмотря на чуть большую прибыль по сравнению с регионом 1."
   ]
  },
  {
   "cell_type": "markdown",
   "metadata": {},
   "source": [
    "Посчитайте риски и прибыль для каждого региона:\n",
    "1. Примените технику Bootstrap с 1000 выборок, чтобы найти распределение прибыли.\n",
    "2. Найдите среднюю прибыль, 95%-й доверительный интервал и риск убытков. Убыток — это отрицательная прибыль.\n",
    "3. Напишите выводы: предложите регион для разработки скважин и обоснуйте выбор."
   ]
  },
  {
   "cell_type": "code",
   "execution_count": 17,
   "metadata": {},
   "outputs": [],
   "source": [
    "def bootstrap_profit(target, predictions, n_samples=1000, sample_size=500):\n",
    "    profits = []\n",
    "    state = np.random.RandomState(12345)\n",
    "    \n",
    "    # Преобразуем predictions в pandas.Series, если это не так\n",
    "    if isinstance(predictions, np.ndarray):\n",
    "        predictions = pd.Series(predictions, index=target.index)\n",
    "    \n",
    "    for i in range(n_samples):\n",
    "        # Случайная выборка с повторениями из индексов\n",
    "        subsample_target = target.sample(n=sample_size, replace=True, random_state=state) # подвыборка с 500 значениями\n",
    "        subsample_predictions = predictions.loc[subsample_target.index]\n",
    "        \n",
    "        # Рассчитаем прибыль для этой выборки\n",
    "        profit = calculate_profit(subsample_target, subsample_predictions)\n",
    "        profits.append(profit)\n",
    "    \n",
    "    profits = pd.Series(profits)\n",
    "    \n",
    "    # Найдем среднюю прибыль, доверительный интервал и риск\n",
    "    mean_profit = profits.mean()\n",
    "    lower = profits.quantile(0.025)\n",
    "    upper = profits.quantile(0.975)\n",
    "    risk = (profits < 0).mean()\n",
    "    \n",
    "    return mean_profit, lower, upper, risk"
   ]
  },
  {
   "cell_type": "markdown",
   "metadata": {},
   "source": [
    "<div class=\"alert alert-block alert-danger\">\n",
    "<b>Ошибка:</b> Этот шаг нужно будет переработать.\n",
    "    \n",
    "1. В предыдущих шагах было получено 25000 настоящих и предсказанных значений для каждого региона.\n",
    "2. Здесь нужно определить функцию, которая на вход будет принимать 500 настоящих и 500 предсказанных значений для каждого региона. Для выбора 200 лучших скважин нужно использовать предсказанные значения. А вот для подсчета прибыли должны использоваться настоящие значения соответствующих ячеек.\n",
    "3. В следующем шаге нужно семплить 500 случайных скважин и передавать их в функцию для подсчета прибыли.\n",
    "4. В результате у тебя получится 1000 значений прибыли для каждого региона. По нему нужно посчитать 3 статистики:\n",
    "    * Среднюю прибыль\n",
    "    * Интервал с помощью метода квантилей\n",
    "    * Риск убытков – долю случаев, в которых прибыль отрицательна.\n",
    "</div>\n"
   ]
  },
  {
   "cell_type": "markdown",
   "metadata": {},
   "source": [
    "<div class=\"alert alert-block alert-warning\">\n",
    "<b>Изменения:</b> Были внесены следующие изменения:\n",
    "    \n",
    "1. Для функции bootstrap добавил аргумент sample_size, по умолчанию равным 500.\n",
    "2. Теперь функция в каждом цикле for берет подвыборку равную sample_size = 500.\n",
    "3. Логика подсчета прибыли по подвыборкам с помошью функции calculate_profit не поменялась, так как функция и так определяла 200 лучших по предсказанным данным, а считала прибыль по настоящим.\n",
    "</div>"
   ]
  },
  {
   "cell_type": "markdown",
   "metadata": {},
   "source": [
    "<div class=\"alert alert-block alert-success\">\n",
    "<b>Успех:</b> Отлично, что для подсчета доверительного интервала использовался именно метод квантилей!\n",
    "</div>\n",
    "\n",
    "<div class=\"alert alert-block alert-success\">\n",
    "<b>Успех:</b> Риск найден очень элегантно.\n",
    "</div>"
   ]
  },
  {
   "cell_type": "code",
   "execution_count": 18,
   "metadata": {},
   "outputs": [],
   "source": [
    "# Применим функцию для каждого региона\n",
    "mean_profit_0, lower_0, upper_0, risk_0 = bootstrap_profit(target_0, pred_0)\n",
    "mean_profit_1, lower_1, upper_1, risk_1 = bootstrap_profit(target_1, pred_1)\n",
    "mean_profit_2, lower_2, upper_2, risk_2 = bootstrap_profit(target_2, pred_2)"
   ]
  },
  {
   "cell_type": "code",
   "execution_count": 19,
   "metadata": {},
   "outputs": [
    {
     "name": "stdout",
     "output_type": "stream",
     "text": [
      "Регион 0: Средняя прибыль = 406.28 млн руб.\n",
      "95%-й доверительный интервал: от -117.74 до 911.74 млн руб.\n",
      "Риск убытков: 6.7%\n",
      "Регион 1: Средняя прибыль = 432.62 млн руб.\n",
      "95%-й доверительный интервал: от 16.85 до 815.97 млн руб.\n",
      "Риск убытков: 1.9%\n",
      "Регион 2: Средняя прибыль = 377.36 млн руб.\n",
      "95%-й доверительный интервал: от -170.78 до 901.77 млн руб.\n",
      "Риск убытков: 7.4%\n"
     ]
    }
   ],
   "source": [
    "# Вывод результатов\n",
    "print(f\"Регион 0: Средняя прибыль = {mean_profit_0/1e6:.2f} млн руб.\")\n",
    "print(f\"95%-й доверительный интервал: от {lower_0/1e6:.2f} до {upper_0/1e6:.2f} млн руб.\")\n",
    "print(f\"Риск убытков: {risk_0 * 100:.1f}%\")\n",
    "\n",
    "print(f\"Регион 1: Средняя прибыль = {mean_profit_1/1e6:.2f} млн руб.\")\n",
    "print(f\"95%-й доверительный интервал: от {lower_1/1e6:.2f} до {upper_1/1e6:.2f} млн руб.\")\n",
    "print(f\"Риск убытков: {risk_1 * 100:.1f}%\")\n",
    "\n",
    "print(f\"Регион 2: Средняя прибыль = {mean_profit_2/1e6:.2f} млн руб.\")\n",
    "print(f\"95%-й доверительный интервал: от {lower_2/1e6:.2f} до {upper_2/1e6:.2f} млн руб.\")\n",
    "print(f\"Риск убытков: {risk_2 * 100:.1f}%\")"
   ]
  },
  {
   "cell_type": "markdown",
   "metadata": {},
   "source": [
    "По результатам анализа:\n",
    "\n",
    "**1. Средняя прибыль:**\n",
    "- Наибольшая средняя прибыль ожидается в регионе 1 — 432.62 млн руб., что больше, чем в других регионах.\n",
    "- Регион 0 с прибылью в 406.28 млн руб. чуть уступает региону 1.\n",
    "- Регион 2 имеет наименьшую ожидаемую прибыль — 377.36 млн руб.\n",
    "\n",
    "**2. Доверительный интервал:**\n",
    "- Регион 1 также имеет наилучший 95%-й доверительный интервал — от 16.85 млн руб., что выше нуля. Это говорит о том, что вероятность получения прибыли выше.\n",
    "- Регионы 0 и 2 имеют отрицательные значения в нижней границе доверительного интервала, что указывает на возможность получения убытков.\n",
    "\n",
    "**3. Риск убытков:**\n",
    "- Наименьший риск убытков у региона 1 — 1.9%. Это делает его наиболее безопасным вариантом.\n",
    "- Регион 0 имеет риск убытков 6.7%, что заметно выше.\n",
    "- Регион 2 имеет самый высокий риск убытков — 7.4%, что делает его наименее привлекательным."
   ]
  },
  {
   "cell_type": "markdown",
   "metadata": {},
   "source": [
    "## Общий вывод\n",
    "\n",
    "В ходе выполнения задачи по оценке регионов для разработки нефтяных скважин были последовательно выполнены следующие этапы:\n",
    "\n",
    "1. **Загрузка и предварительная обработка данных**:\n",
    "   - Все три датасета содержат по 100 000 строк и пять колонок: уникальный идентификатор скважины, три числовых признака, и целевой признак — объём запасов нефти.\n",
    "   - Пропусков в данных нет, и все признаки были в корректных форматах для дальнейшего анализа.\n",
    "   \n",
    "2. **Разделение данных и обучение моделей**:\n",
    "   - Данные каждого региона были разделены на обучающую и валидационную выборки в пропорции 75% на 25%.\n",
    "   - Для каждого региона была обучена модель линейной регрессии с применением масштабирования признаков.\n",
    "   - Для каждого региона были получены следующие результаты по среднему объёму предсказанного сырья и метрике RMSE:\n",
    "     - **Регион 0**: Средний запас предсказанного сырья составил 92.40 тыс. баррелей, а RMSE модели — 37.76.\n",
    "     - **Регион 1**: Средний запас предсказанного сырья составил 68.71 тыс. баррелей, а RMSE модели — всего 0.89.\n",
    "     - **Регион 2**: Средний запас предсказанного сырья составил 94.77 тыс. баррелей, а RMSE модели — 40.15.\n",
    "   \n",
    "3. **Анализ распределения предсказанных запасов нефти**:\n",
    "   - Для каждого региона была проведена диагностика распределения предсказаний. Были получены такие показатели, как среднее значение, медиана, стандартное отклонение, минимальные и максимальные значения, а также квартильные значения.\n",
    "   - Распределения показали, что во всех регионах значения распределяются относительно симметрично, однако в каждом регионе наблюдаются свои особенности по диапазону предсказаний и их разбросу.\n",
    "\n",
    "4. **Расчёт минимального объёма нефти для безубыточности**:\n",
    "   - На основе бюджета в 10 млрд рублей и дохода в 450 тыс. рублей за 1000 баррелей нефти было рассчитано, что для безубыточной работы каждой скважины необходимо добывать не менее 111.11 тыс. баррелей нефти.\n",
    "\n",
    "5. **Оценка потенциальной прибыли**:\n",
    "   - Для каждого региона была рассчитана потенциальная прибыль, исходя из 200 лучших скважин по предсказанным данным. Результаты прибыли составили:\n",
    "     - Регион 0: 3.36 млрд руб.\n",
    "     - Регион 1: 2.42 млрд руб.\n",
    "     - Регион 2: 2.60 млрд руб.\n",
    "\n",
    "6. **Оценка рисков и прибыли методом Bootstrap**:\n",
    "   - Для каждого региона был проведён бутстреп-анализ, который оценил среднюю прибыль, доверительные интервалы (95%) и вероятность убытков.\n",
    "     - Регион 0: Средняя прибыль — 406.3 млн руб., доверительный интервал — от -117.7 до 911.7 млн руб., риск убытков — 6.7%.\n",
    "     - Регион 1: Средняя прибыль — 432.6 млн руб., доверительный интервал — 16.9 до 816.0 млн руб., риск убытков — 1.9%.\n",
    "     - Регион 2: Средняя прибыль — 377.4 млн руб., доверительный интервал — от -170.8 до 901.8 млрд руб., риск убытков — 7.4%.\n",
    "\n",
    "На основе условий задачи были рассмотрены регионы с риском убытков менее 2.5%. Только в Регионе 1 риск убытков оказался меньше указанного порога, что позволяет рассматривать его для дальнейшего анализа.\n",
    "\n",
    "Среди всех регионов:\n",
    "- **Регион 1** показал наибольшую среднюю прибыль — 432.6 млн рублей, с доверительным интервалом от 16.9 до 816.0 млн рублей.\n",
    "- Это делает **Регион 1** наилучшим вариантом для разработки нефтяных скважин с точки зрения максимальной прибыли при низком уровне рисков.\n",
    "\n",
    "    Таким образом, на основании всех проведённых расчётов и анализа, **рекомендуется инвестировать в Регион 1**, поскольку он демонстрирует наивысшую прибыль и приемлемый риск убытков."
   ]
  },
  {
   "cell_type": "markdown",
   "metadata": {},
   "source": [
    "<div class=\"alert alert-block alert-warning\">\n",
    "<b>Изменения:</b>\n",
    "    Были обновлены выводы в соответсвии с результатами обновленной функции bootstrap_profit\n",
    "</div>"
   ]
  },
  {
   "cell_type": "markdown",
   "metadata": {},
   "source": [
    "## Чек-лист готовности проекта"
   ]
  },
  {
   "cell_type": "markdown",
   "metadata": {},
   "source": [
    "Поставьте 'x' в выполненных пунктах. Далее нажмите Shift+Enter."
   ]
  },
  {
   "cell_type": "markdown",
   "metadata": {},
   "source": [
    "- [x]  Jupyter Notebook открыт\n",
    "- [x]  Весь код выполняется без ошибок\n",
    "- [x]  Ячейки с кодом расположены в порядке исполнения\n",
    "- [x]  Выполнен шаг 1: данные подготовлены\n",
    "- [x]  Выполнен шаг 2: модели обучены и проверены\n",
    "    - [x]  Данные корректно разбиты на обучающую и валидационную выборки\n",
    "    - [x]  Модели обучены, предсказания сделаны\n",
    "    - [x]  Предсказания и правильные ответы на валидационной выборке сохранены\n",
    "    - [x]  На экране напечатаны результаты\n",
    "    - [X]  Сделаны выводы\n",
    "- [x]  Выполнен шаг 3: проведена подготовка к расчёту прибыли\n",
    "    - [x]  Для всех ключевых значений созданы константы Python\n",
    "    - [x]  Посчитано минимальное среднее количество продукта в месторождениях региона, достаточное для разработки\n",
    "    - [x]  По предыдущему пункту сделаны выводы\n",
    "    - [x]  Написана функция расчёта прибыли\n",
    "- [x]  Выполнен шаг 4: посчитаны риски и прибыль\n",
    "    - [x]  Проведена процедура *Bootstrap*\n",
    "    - [x]  Все параметры бутстрепа соответствуют условию\n",
    "    - [x]  Найдены все нужные величины\n",
    "    - [x]  Предложен регион для разработки месторождения\n",
    "    - [x]  Выбор региона обоснован"
   ]
  },
  {
   "cell_type": "code",
   "execution_count": null,
   "metadata": {},
   "outputs": [],
   "source": []
  }
 ],
 "metadata": {
  "ExecuteTimeLog": [
   {
    "duration": 437,
    "start_time": "2024-10-03T15:28:08.213Z"
   },
   {
    "duration": 66,
    "start_time": "2024-10-03T15:30:06.555Z"
   },
   {
    "duration": 1782,
    "start_time": "2024-10-03T15:30:20.328Z"
   },
   {
    "duration": 29,
    "start_time": "2024-10-03T15:33:25.901Z"
   },
   {
    "duration": 22,
    "start_time": "2024-10-03T15:34:09.850Z"
   },
   {
    "duration": 22,
    "start_time": "2024-10-03T15:34:12.904Z"
   },
   {
    "duration": 793,
    "start_time": "2024-10-03T15:49:01.797Z"
   },
   {
    "duration": 5,
    "start_time": "2024-10-03T15:50:30.662Z"
   },
   {
    "duration": 42,
    "start_time": "2024-10-03T15:50:52.751Z"
   },
   {
    "duration": 105,
    "start_time": "2024-10-03T15:51:06.327Z"
   },
   {
    "duration": 36,
    "start_time": "2024-10-03T15:51:18.317Z"
   },
   {
    "duration": 48,
    "start_time": "2024-10-03T16:01:09.247Z"
   },
   {
    "duration": 3,
    "start_time": "2024-10-03T16:01:10.661Z"
   },
   {
    "duration": 4,
    "start_time": "2024-10-03T16:01:11.948Z"
   },
   {
    "duration": 12,
    "start_time": "2024-10-03T17:43:26.656Z"
   },
   {
    "duration": 11,
    "start_time": "2024-10-03T17:43:30.495Z"
   },
   {
    "duration": 4,
    "start_time": "2024-10-03T17:43:41.732Z"
   },
   {
    "duration": 8,
    "start_time": "2024-10-03T17:43:43.597Z"
   },
   {
    "duration": 5,
    "start_time": "2024-10-03T17:43:51.398Z"
   },
   {
    "duration": 1144,
    "start_time": "2024-10-03T17:43:55.434Z"
   },
   {
    "duration": 450,
    "start_time": "2024-10-03T17:43:56.581Z"
   },
   {
    "duration": 31,
    "start_time": "2024-10-03T17:43:57.032Z"
   },
   {
    "duration": 22,
    "start_time": "2024-10-03T17:43:57.065Z"
   },
   {
    "duration": 48,
    "start_time": "2024-10-03T17:43:57.089Z"
   },
   {
    "duration": 6,
    "start_time": "2024-10-03T17:43:57.139Z"
   },
   {
    "duration": 82,
    "start_time": "2024-10-03T17:43:57.147Z"
   },
   {
    "duration": 125,
    "start_time": "2024-10-03T17:43:57.232Z"
   },
   {
    "duration": 126,
    "start_time": "2024-10-03T17:43:57.427Z"
   },
   {
    "duration": 4,
    "start_time": "2024-10-03T17:43:57.627Z"
   },
   {
    "duration": 93,
    "start_time": "2024-10-03T17:43:57.634Z"
   },
   {
    "duration": 4,
    "start_time": "2024-10-03T17:43:57.729Z"
   },
   {
    "duration": 135,
    "start_time": "2024-10-03T17:43:57.734Z"
   },
   {
    "duration": 0,
    "start_time": "2024-10-03T17:45:01.074Z"
   },
   {
    "duration": 0,
    "start_time": "2024-10-03T17:45:01.075Z"
   },
   {
    "duration": 0,
    "start_time": "2024-10-03T17:45:01.076Z"
   },
   {
    "duration": 0,
    "start_time": "2024-10-03T17:45:01.077Z"
   },
   {
    "duration": 0,
    "start_time": "2024-10-03T17:45:01.078Z"
   },
   {
    "duration": 0,
    "start_time": "2024-10-03T17:45:01.079Z"
   },
   {
    "duration": 0,
    "start_time": "2024-10-03T17:45:01.080Z"
   },
   {
    "duration": 0,
    "start_time": "2024-10-03T17:45:01.081Z"
   },
   {
    "duration": 0,
    "start_time": "2024-10-03T17:45:01.082Z"
   },
   {
    "duration": 0,
    "start_time": "2024-10-03T17:45:01.083Z"
   },
   {
    "duration": 0,
    "start_time": "2024-10-03T17:45:01.125Z"
   },
   {
    "duration": 0,
    "start_time": "2024-10-03T17:45:01.126Z"
   },
   {
    "duration": 0,
    "start_time": "2024-10-03T17:45:01.127Z"
   },
   {
    "duration": 1137,
    "start_time": "2024-10-03T17:45:09.741Z"
   },
   {
    "duration": 438,
    "start_time": "2024-10-03T17:45:10.880Z"
   },
   {
    "duration": 30,
    "start_time": "2024-10-03T17:45:11.320Z"
   },
   {
    "duration": 22,
    "start_time": "2024-10-03T17:45:11.351Z"
   },
   {
    "duration": 22,
    "start_time": "2024-10-03T17:45:11.375Z"
   },
   {
    "duration": 44,
    "start_time": "2024-10-03T17:45:11.425Z"
   },
   {
    "duration": 53,
    "start_time": "2024-10-03T17:45:11.471Z"
   },
   {
    "duration": 216,
    "start_time": "2024-10-03T17:45:11.527Z"
   },
   {
    "duration": 197,
    "start_time": "2024-10-03T17:45:11.745Z"
   },
   {
    "duration": 3,
    "start_time": "2024-10-03T17:45:11.944Z"
   },
   {
    "duration": 99,
    "start_time": "2024-10-03T17:45:12.027Z"
   },
   {
    "duration": 4,
    "start_time": "2024-10-03T17:45:12.128Z"
   },
   {
    "duration": 128,
    "start_time": "2024-10-03T17:45:12.133Z"
   },
   {
    "duration": 4,
    "start_time": "2024-10-03T17:47:29.262Z"
   },
   {
    "duration": 5,
    "start_time": "2024-10-03T17:47:31.964Z"
   },
   {
    "duration": 6,
    "start_time": "2024-10-03T17:47:43.048Z"
   },
   {
    "duration": 6,
    "start_time": "2024-10-03T17:48:10.821Z"
   },
   {
    "duration": 6,
    "start_time": "2024-10-03T17:48:46.046Z"
   },
   {
    "duration": 6,
    "start_time": "2024-10-03T17:48:52.993Z"
   },
   {
    "duration": 5,
    "start_time": "2024-10-03T17:49:35.966Z"
   },
   {
    "duration": 5,
    "start_time": "2024-10-03T17:49:37.926Z"
   },
   {
    "duration": 60,
    "start_time": "2024-10-04T16:48:24.423Z"
   },
   {
    "duration": 1232,
    "start_time": "2024-10-04T16:48:31.443Z"
   },
   {
    "duration": 944,
    "start_time": "2024-10-04T16:48:32.677Z"
   },
   {
    "duration": 29,
    "start_time": "2024-10-04T16:48:33.623Z"
   },
   {
    "duration": 27,
    "start_time": "2024-10-04T16:48:33.654Z"
   },
   {
    "duration": 30,
    "start_time": "2024-10-04T16:48:33.683Z"
   },
   {
    "duration": 6,
    "start_time": "2024-10-04T16:48:33.714Z"
   },
   {
    "duration": 135,
    "start_time": "2024-10-04T16:48:33.721Z"
   },
   {
    "duration": 125,
    "start_time": "2024-10-04T16:48:33.858Z"
   },
   {
    "duration": 175,
    "start_time": "2024-10-04T16:48:33.985Z"
   },
   {
    "duration": 2,
    "start_time": "2024-10-04T16:48:34.162Z"
   },
   {
    "duration": 79,
    "start_time": "2024-10-04T16:48:34.166Z"
   },
   {
    "duration": 98,
    "start_time": "2024-10-04T16:48:34.247Z"
   },
   {
    "duration": 9,
    "start_time": "2024-10-04T16:48:34.347Z"
   },
   {
    "duration": 9,
    "start_time": "2024-10-04T16:48:34.359Z"
   },
   {
    "duration": 101,
    "start_time": "2024-10-04T16:48:34.369Z"
   },
   {
    "duration": 23,
    "start_time": "2024-10-04T16:48:34.472Z"
   },
   {
    "duration": 110,
    "start_time": "2024-10-04T16:48:55.362Z"
   },
   {
    "duration": 9,
    "start_time": "2024-10-04T16:50:15.916Z"
   },
   {
    "duration": 19,
    "start_time": "2024-10-04T16:50:17.665Z"
   },
   {
    "duration": 1112,
    "start_time": "2024-10-04T16:50:25.120Z"
   },
   {
    "duration": 406,
    "start_time": "2024-10-04T16:50:26.234Z"
   },
   {
    "duration": 31,
    "start_time": "2024-10-04T16:50:26.642Z"
   },
   {
    "duration": 27,
    "start_time": "2024-10-04T16:50:26.674Z"
   },
   {
    "duration": 40,
    "start_time": "2024-10-04T16:50:26.703Z"
   },
   {
    "duration": 5,
    "start_time": "2024-10-04T16:50:26.745Z"
   },
   {
    "duration": 100,
    "start_time": "2024-10-04T16:50:26.752Z"
   },
   {
    "duration": 188,
    "start_time": "2024-10-04T16:50:26.855Z"
   },
   {
    "duration": 132,
    "start_time": "2024-10-04T16:50:27.045Z"
   },
   {
    "duration": 92,
    "start_time": "2024-10-04T16:50:27.251Z"
   },
   {
    "duration": 4,
    "start_time": "2024-10-04T16:50:27.344Z"
   },
   {
    "duration": 42,
    "start_time": "2024-10-04T16:50:27.349Z"
   },
   {
    "duration": 40,
    "start_time": "2024-10-04T16:50:27.393Z"
   },
   {
    "duration": 36,
    "start_time": "2024-10-04T16:50:27.437Z"
   },
   {
    "duration": 49,
    "start_time": "2024-10-04T16:50:27.475Z"
   },
   {
    "duration": 25,
    "start_time": "2024-10-04T16:50:27.527Z"
   },
   {
    "duration": 140,
    "start_time": "2024-10-04T16:50:27.554Z"
   },
   {
    "duration": 1106,
    "start_time": "2024-10-04T16:50:43.438Z"
   },
   {
    "duration": 430,
    "start_time": "2024-10-04T16:50:44.546Z"
   },
   {
    "duration": 29,
    "start_time": "2024-10-04T16:50:44.978Z"
   },
   {
    "duration": 34,
    "start_time": "2024-10-04T16:50:45.009Z"
   },
   {
    "duration": 31,
    "start_time": "2024-10-04T16:50:45.045Z"
   },
   {
    "duration": 50,
    "start_time": "2024-10-04T16:50:45.077Z"
   },
   {
    "duration": 115,
    "start_time": "2024-10-04T16:50:45.128Z"
   },
   {
    "duration": 116,
    "start_time": "2024-10-04T16:50:45.246Z"
   },
   {
    "duration": 187,
    "start_time": "2024-10-04T16:50:45.364Z"
   },
   {
    "duration": 3,
    "start_time": "2024-10-04T16:50:45.553Z"
   },
   {
    "duration": 186,
    "start_time": "2024-10-04T16:50:45.558Z"
   },
   {
    "duration": 28,
    "start_time": "2024-10-04T16:50:45.746Z"
   },
   {
    "duration": 6,
    "start_time": "2024-10-04T16:50:45.776Z"
   },
   {
    "duration": 6,
    "start_time": "2024-10-04T16:50:45.784Z"
   },
   {
    "duration": 10,
    "start_time": "2024-10-04T16:50:45.791Z"
   },
   {
    "duration": 6,
    "start_time": "2024-10-04T16:50:45.803Z"
   },
   {
    "duration": 119,
    "start_time": "2024-10-04T16:50:45.810Z"
   },
   {
    "duration": 6,
    "start_time": "2024-10-04T16:51:46.372Z"
   },
   {
    "duration": 15,
    "start_time": "2024-10-04T16:51:48.999Z"
   },
   {
    "duration": 6,
    "start_time": "2024-10-04T17:00:51.607Z"
   },
   {
    "duration": 19,
    "start_time": "2024-10-04T17:00:53.898Z"
   },
   {
    "duration": 1121,
    "start_time": "2024-10-05T12:41:53.926Z"
   },
   {
    "duration": 1831,
    "start_time": "2024-10-05T12:41:55.049Z"
   },
   {
    "duration": 30,
    "start_time": "2024-10-05T12:41:56.882Z"
   },
   {
    "duration": 21,
    "start_time": "2024-10-05T12:41:56.913Z"
   },
   {
    "duration": 21,
    "start_time": "2024-10-05T12:41:56.937Z"
   },
   {
    "duration": 5,
    "start_time": "2024-10-05T12:41:56.960Z"
   },
   {
    "duration": 71,
    "start_time": "2024-10-05T12:41:56.966Z"
   },
   {
    "duration": 214,
    "start_time": "2024-10-05T12:41:57.039Z"
   },
   {
    "duration": 126,
    "start_time": "2024-10-05T12:41:57.326Z"
   },
   {
    "duration": 4,
    "start_time": "2024-10-05T12:41:57.524Z"
   },
   {
    "duration": 95,
    "start_time": "2024-10-05T12:41:57.531Z"
   },
   {
    "duration": 4,
    "start_time": "2024-10-05T12:41:57.628Z"
   },
   {
    "duration": 41,
    "start_time": "2024-10-05T12:41:57.633Z"
   },
   {
    "duration": 6,
    "start_time": "2024-10-05T12:41:57.676Z"
   },
   {
    "duration": 6,
    "start_time": "2024-10-05T12:41:57.683Z"
   },
   {
    "duration": 6,
    "start_time": "2024-10-05T12:41:57.690Z"
   },
   {
    "duration": 113,
    "start_time": "2024-10-05T12:41:57.697Z"
   },
   {
    "duration": 4,
    "start_time": "2024-10-05T13:14:05.760Z"
   },
   {
    "duration": 19,
    "start_time": "2024-10-05T13:14:09.326Z"
   },
   {
    "duration": 3,
    "start_time": "2024-10-05T13:15:50.879Z"
   },
   {
    "duration": 1071,
    "start_time": "2024-10-05T13:15:55.183Z"
   },
   {
    "duration": 453,
    "start_time": "2024-10-05T13:15:56.256Z"
   },
   {
    "duration": 31,
    "start_time": "2024-10-05T13:15:56.711Z"
   },
   {
    "duration": 23,
    "start_time": "2024-10-05T13:15:56.743Z"
   },
   {
    "duration": 23,
    "start_time": "2024-10-05T13:15:56.768Z"
   },
   {
    "duration": 6,
    "start_time": "2024-10-05T13:15:56.792Z"
   },
   {
    "duration": 47,
    "start_time": "2024-10-05T13:15:56.799Z"
   },
   {
    "duration": 200,
    "start_time": "2024-10-05T13:15:56.848Z"
   },
   {
    "duration": 195,
    "start_time": "2024-10-05T13:15:57.050Z"
   },
   {
    "duration": 80,
    "start_time": "2024-10-05T13:15:57.247Z"
   },
   {
    "duration": 5,
    "start_time": "2024-10-05T13:15:57.329Z"
   },
   {
    "duration": 7,
    "start_time": "2024-10-05T13:15:57.426Z"
   },
   {
    "duration": 134,
    "start_time": "2024-10-05T13:15:57.435Z"
   },
   {
    "duration": 0,
    "start_time": "2024-10-05T13:15:57.571Z"
   },
   {
    "duration": 0,
    "start_time": "2024-10-05T13:15:57.572Z"
   },
   {
    "duration": 0,
    "start_time": "2024-10-05T13:15:57.573Z"
   },
   {
    "duration": 1,
    "start_time": "2024-10-05T13:15:57.574Z"
   },
   {
    "duration": 4,
    "start_time": "2024-10-05T13:16:22.271Z"
   },
   {
    "duration": 6,
    "start_time": "2024-10-05T13:16:24.725Z"
   },
   {
    "duration": 6,
    "start_time": "2024-10-05T13:16:26.919Z"
   },
   {
    "duration": 5,
    "start_time": "2024-10-05T13:17:30.544Z"
   },
   {
    "duration": 15,
    "start_time": "2024-10-05T13:17:40.475Z"
   },
   {
    "duration": 4,
    "start_time": "2024-10-05T13:18:06.850Z"
   },
   {
    "duration": 14,
    "start_time": "2024-10-05T13:18:09.894Z"
   },
   {
    "duration": 5,
    "start_time": "2024-10-05T13:18:12.287Z"
   },
   {
    "duration": 13,
    "start_time": "2024-10-05T13:18:13.675Z"
   },
   {
    "duration": 1135,
    "start_time": "2024-10-05T13:18:24.901Z"
   },
   {
    "duration": 436,
    "start_time": "2024-10-05T13:18:26.038Z"
   },
   {
    "duration": 30,
    "start_time": "2024-10-05T13:18:26.475Z"
   },
   {
    "duration": 30,
    "start_time": "2024-10-05T13:18:26.507Z"
   },
   {
    "duration": 22,
    "start_time": "2024-10-05T13:18:26.539Z"
   },
   {
    "duration": 6,
    "start_time": "2024-10-05T13:18:26.562Z"
   },
   {
    "duration": 58,
    "start_time": "2024-10-05T13:18:26.569Z"
   },
   {
    "duration": 197,
    "start_time": "2024-10-05T13:18:26.629Z"
   },
   {
    "duration": 123,
    "start_time": "2024-10-05T13:18:26.828Z"
   },
   {
    "duration": 73,
    "start_time": "2024-10-05T13:18:26.953Z"
   },
   {
    "duration": 91,
    "start_time": "2024-10-05T13:18:27.035Z"
   },
   {
    "duration": 63,
    "start_time": "2024-10-05T13:18:27.128Z"
   },
   {
    "duration": 11,
    "start_time": "2024-10-05T13:18:27.193Z"
   },
   {
    "duration": 5,
    "start_time": "2024-10-05T13:18:27.207Z"
   },
   {
    "duration": 70,
    "start_time": "2024-10-05T13:18:27.213Z"
   },
   {
    "duration": 6,
    "start_time": "2024-10-05T13:18:27.284Z"
   },
   {
    "duration": 115,
    "start_time": "2024-10-05T13:18:27.291Z"
   },
   {
    "duration": 5,
    "start_time": "2024-10-05T13:20:41.996Z"
   },
   {
    "duration": 4,
    "start_time": "2024-10-05T13:20:45.071Z"
   },
   {
    "duration": 5,
    "start_time": "2024-10-05T13:20:47.043Z"
   },
   {
    "duration": 5,
    "start_time": "2024-10-05T13:20:49.313Z"
   },
   {
    "duration": 5,
    "start_time": "2024-10-05T13:20:51.552Z"
   },
   {
    "duration": 4,
    "start_time": "2024-10-05T13:22:46.162Z"
   },
   {
    "duration": 13,
    "start_time": "2024-10-05T13:22:48.011Z"
   },
   {
    "duration": 5,
    "start_time": "2024-10-05T13:24:21.937Z"
   },
   {
    "duration": 13,
    "start_time": "2024-10-05T13:24:23.622Z"
   },
   {
    "duration": 5,
    "start_time": "2024-10-05T13:24:48.147Z"
   },
   {
    "duration": 19,
    "start_time": "2024-10-05T13:24:49.911Z"
   },
   {
    "duration": 6,
    "start_time": "2024-10-05T13:25:55.022Z"
   },
   {
    "duration": 12820,
    "start_time": "2024-10-05T13:25:57.791Z"
   },
   {
    "duration": 6,
    "start_time": "2024-10-05T13:26:28.050Z"
   },
   {
    "duration": 6,
    "start_time": "2024-10-05T15:09:15.102Z"
   },
   {
    "duration": 494,
    "start_time": "2024-10-05T15:14:21.998Z"
   },
   {
    "duration": 4,
    "start_time": "2024-10-05T15:22:03.566Z"
   },
   {
    "duration": 258,
    "start_time": "2024-10-05T15:22:17.884Z"
   },
   {
    "duration": 4,
    "start_time": "2024-10-05T15:22:30.502Z"
   },
   {
    "duration": 781,
    "start_time": "2024-10-05T15:22:33.618Z"
   },
   {
    "duration": 37,
    "start_time": "2024-10-05T15:22:51.082Z"
   },
   {
    "duration": 679,
    "start_time": "2024-10-05T15:23:05.330Z"
   },
   {
    "duration": 702,
    "start_time": "2024-10-05T15:23:36.082Z"
   },
   {
    "duration": 4,
    "start_time": "2024-10-05T15:25:34.376Z"
   },
   {
    "duration": 795,
    "start_time": "2024-10-05T15:25:36.493Z"
   },
   {
    "duration": 4,
    "start_time": "2024-10-05T15:25:52.534Z"
   },
   {
    "duration": 686,
    "start_time": "2024-10-05T15:25:54.577Z"
   },
   {
    "duration": 5,
    "start_time": "2024-10-05T15:26:22.827Z"
   },
   {
    "duration": 620,
    "start_time": "2024-10-05T15:26:24.963Z"
   },
   {
    "duration": 4,
    "start_time": "2024-10-05T15:26:34.853Z"
   },
   {
    "duration": 714,
    "start_time": "2024-10-05T15:26:36.172Z"
   },
   {
    "duration": 642,
    "start_time": "2024-10-05T15:26:43.156Z"
   },
   {
    "duration": 627,
    "start_time": "2024-10-05T15:26:53.858Z"
   },
   {
    "duration": 7,
    "start_time": "2024-10-05T15:42:33.311Z"
   },
   {
    "duration": 1361,
    "start_time": "2024-10-05T15:52:25.117Z"
   },
   {
    "duration": 459,
    "start_time": "2024-10-05T15:52:26.481Z"
   },
   {
    "duration": 26,
    "start_time": "2024-10-05T15:52:26.942Z"
   },
   {
    "duration": 21,
    "start_time": "2024-10-05T15:52:26.970Z"
   },
   {
    "duration": 42,
    "start_time": "2024-10-05T15:52:26.993Z"
   },
   {
    "duration": 5,
    "start_time": "2024-10-05T15:52:27.036Z"
   },
   {
    "duration": 6,
    "start_time": "2024-10-05T15:52:27.042Z"
   },
   {
    "duration": 647,
    "start_time": "2024-10-05T15:52:27.049Z"
   },
   {
    "duration": 674,
    "start_time": "2024-10-05T15:52:27.698Z"
   },
   {
    "duration": 606,
    "start_time": "2024-10-05T15:52:28.374Z"
   },
   {
    "duration": 2,
    "start_time": "2024-10-05T15:52:28.982Z"
   },
   {
    "duration": 4,
    "start_time": "2024-10-05T15:52:28.986Z"
   },
   {
    "duration": 4,
    "start_time": "2024-10-05T15:52:28.991Z"
   },
   {
    "duration": 6,
    "start_time": "2024-10-05T15:52:28.997Z"
   },
   {
    "duration": 5,
    "start_time": "2024-10-05T15:52:29.025Z"
   },
   {
    "duration": 5,
    "start_time": "2024-10-05T15:52:29.032Z"
   },
   {
    "duration": 4,
    "start_time": "2024-10-05T15:52:29.039Z"
   },
   {
    "duration": 13664,
    "start_time": "2024-10-05T15:52:29.045Z"
   },
   {
    "duration": 6,
    "start_time": "2024-10-05T15:52:42.711Z"
   },
   {
    "duration": 1572,
    "start_time": "2024-10-06T09:52:55.037Z"
   },
   {
    "duration": 1809,
    "start_time": "2024-10-06T09:52:56.612Z"
   },
   {
    "duration": 29,
    "start_time": "2024-10-06T09:52:58.423Z"
   },
   {
    "duration": 25,
    "start_time": "2024-10-06T09:52:58.454Z"
   },
   {
    "duration": 46,
    "start_time": "2024-10-06T09:52:58.481Z"
   },
   {
    "duration": 5,
    "start_time": "2024-10-06T09:52:58.529Z"
   },
   {
    "duration": 5,
    "start_time": "2024-10-06T09:52:58.535Z"
   },
   {
    "duration": 647,
    "start_time": "2024-10-06T09:52:58.542Z"
   },
   {
    "duration": 701,
    "start_time": "2024-10-06T09:52:59.191Z"
   },
   {
    "duration": 681,
    "start_time": "2024-10-06T09:52:59.893Z"
   },
   {
    "duration": 3,
    "start_time": "2024-10-06T09:53:00.576Z"
   },
   {
    "duration": 120,
    "start_time": "2024-10-06T09:53:00.580Z"
   },
   {
    "duration": 0,
    "start_time": "2024-10-06T09:53:00.702Z"
   },
   {
    "duration": 0,
    "start_time": "2024-10-06T09:53:00.703Z"
   },
   {
    "duration": 0,
    "start_time": "2024-10-06T09:53:00.704Z"
   },
   {
    "duration": 0,
    "start_time": "2024-10-06T09:53:00.705Z"
   },
   {
    "duration": 0,
    "start_time": "2024-10-06T09:53:00.706Z"
   },
   {
    "duration": 0,
    "start_time": "2024-10-06T09:53:00.707Z"
   },
   {
    "duration": 0,
    "start_time": "2024-10-06T09:53:00.709Z"
   },
   {
    "duration": 1420,
    "start_time": "2024-10-06T09:53:31.661Z"
   },
   {
    "duration": 426,
    "start_time": "2024-10-06T09:53:33.085Z"
   },
   {
    "duration": 31,
    "start_time": "2024-10-06T09:53:33.512Z"
   },
   {
    "duration": 30,
    "start_time": "2024-10-06T09:53:33.545Z"
   },
   {
    "duration": 21,
    "start_time": "2024-10-06T09:53:33.577Z"
   },
   {
    "duration": 5,
    "start_time": "2024-10-06T09:53:33.600Z"
   },
   {
    "duration": 21,
    "start_time": "2024-10-06T09:53:33.606Z"
   },
   {
    "duration": 654,
    "start_time": "2024-10-06T09:53:33.629Z"
   },
   {
    "duration": 708,
    "start_time": "2024-10-06T09:53:34.284Z"
   },
   {
    "duration": 689,
    "start_time": "2024-10-06T09:53:34.994Z"
   },
   {
    "duration": 3,
    "start_time": "2024-10-06T09:53:35.684Z"
   },
   {
    "duration": 5,
    "start_time": "2024-10-06T09:53:35.688Z"
   },
   {
    "duration": 19,
    "start_time": "2024-10-06T09:53:35.695Z"
   },
   {
    "duration": 13,
    "start_time": "2024-10-06T09:53:35.717Z"
   },
   {
    "duration": 5,
    "start_time": "2024-10-06T09:53:35.731Z"
   },
   {
    "duration": 88,
    "start_time": "2024-10-06T09:53:35.738Z"
   },
   {
    "duration": 22,
    "start_time": "2024-10-06T09:53:35.827Z"
   },
   {
    "duration": 13696,
    "start_time": "2024-10-06T09:53:35.851Z"
   },
   {
    "duration": 6,
    "start_time": "2024-10-06T09:53:49.548Z"
   },
   {
    "duration": 1365,
    "start_time": "2024-10-06T10:52:33.942Z"
   },
   {
    "duration": 428,
    "start_time": "2024-10-06T10:52:35.310Z"
   },
   {
    "duration": 27,
    "start_time": "2024-10-06T10:52:35.740Z"
   },
   {
    "duration": 22,
    "start_time": "2024-10-06T10:52:35.769Z"
   },
   {
    "duration": 45,
    "start_time": "2024-10-06T10:52:35.793Z"
   },
   {
    "duration": 5,
    "start_time": "2024-10-06T10:52:35.840Z"
   },
   {
    "duration": 17,
    "start_time": "2024-10-06T10:52:35.846Z"
   },
   {
    "duration": 615,
    "start_time": "2024-10-06T10:52:35.864Z"
   },
   {
    "duration": 700,
    "start_time": "2024-10-06T10:52:36.481Z"
   },
   {
    "duration": 689,
    "start_time": "2024-10-06T10:52:37.183Z"
   },
   {
    "duration": 3,
    "start_time": "2024-10-06T10:52:37.874Z"
   },
   {
    "duration": 71,
    "start_time": "2024-10-06T10:52:37.879Z"
   },
   {
    "duration": 9,
    "start_time": "2024-10-06T10:52:37.952Z"
   },
   {
    "duration": 13,
    "start_time": "2024-10-06T10:52:37.964Z"
   },
   {
    "duration": 7,
    "start_time": "2024-10-06T10:52:37.979Z"
   },
   {
    "duration": 6,
    "start_time": "2024-10-06T10:52:37.987Z"
   },
   {
    "duration": 6,
    "start_time": "2024-10-06T10:52:37.995Z"
   },
   {
    "duration": 1429,
    "start_time": "2024-10-06T11:00:52.573Z"
   },
   {
    "duration": 442,
    "start_time": "2024-10-06T11:00:54.005Z"
   },
   {
    "duration": 29,
    "start_time": "2024-10-06T11:00:54.449Z"
   },
   {
    "duration": 22,
    "start_time": "2024-10-06T11:00:54.479Z"
   },
   {
    "duration": 39,
    "start_time": "2024-10-06T11:00:54.504Z"
   },
   {
    "duration": 19,
    "start_time": "2024-10-06T11:00:54.545Z"
   },
   {
    "duration": 6,
    "start_time": "2024-10-06T11:00:54.565Z"
   },
   {
    "duration": 722,
    "start_time": "2024-10-06T11:00:54.573Z"
   },
   {
    "duration": 677,
    "start_time": "2024-10-06T11:00:55.296Z"
   },
   {
    "duration": 706,
    "start_time": "2024-10-06T11:00:55.974Z"
   },
   {
    "duration": 3,
    "start_time": "2024-10-06T11:00:56.682Z"
   },
   {
    "duration": 7,
    "start_time": "2024-10-06T11:00:56.686Z"
   },
   {
    "duration": 5,
    "start_time": "2024-10-06T11:00:56.694Z"
   },
   {
    "duration": 7,
    "start_time": "2024-10-06T11:00:56.701Z"
   },
   {
    "duration": 5,
    "start_time": "2024-10-06T11:00:56.725Z"
   },
   {
    "duration": 5,
    "start_time": "2024-10-06T11:00:56.732Z"
   },
   {
    "duration": 5,
    "start_time": "2024-10-06T11:00:56.739Z"
   },
   {
    "duration": 13329,
    "start_time": "2024-10-06T11:00:56.746Z"
   },
   {
    "duration": 6,
    "start_time": "2024-10-06T11:01:10.076Z"
   },
   {
    "duration": 1442,
    "start_time": "2024-10-06T11:01:17.980Z"
   },
   {
    "duration": 453,
    "start_time": "2024-10-06T11:01:19.425Z"
   },
   {
    "duration": 28,
    "start_time": "2024-10-06T11:01:19.881Z"
   },
   {
    "duration": 28,
    "start_time": "2024-10-06T11:01:19.910Z"
   },
   {
    "duration": 58,
    "start_time": "2024-10-06T11:01:19.941Z"
   },
   {
    "duration": 6,
    "start_time": "2024-10-06T11:01:20.000Z"
   },
   {
    "duration": 29,
    "start_time": "2024-10-06T11:01:20.008Z"
   },
   {
    "duration": 658,
    "start_time": "2024-10-06T11:01:20.039Z"
   },
   {
    "duration": 690,
    "start_time": "2024-10-06T11:01:20.699Z"
   },
   {
    "duration": 688,
    "start_time": "2024-10-06T11:01:21.391Z"
   },
   {
    "duration": 3,
    "start_time": "2024-10-06T11:01:22.081Z"
   },
   {
    "duration": 4,
    "start_time": "2024-10-06T11:01:22.086Z"
   },
   {
    "duration": 5,
    "start_time": "2024-10-06T11:01:22.091Z"
   },
   {
    "duration": 5,
    "start_time": "2024-10-06T11:01:22.099Z"
   },
   {
    "duration": 6,
    "start_time": "2024-10-06T11:01:22.125Z"
   },
   {
    "duration": 5,
    "start_time": "2024-10-06T11:01:22.133Z"
   },
   {
    "duration": 5,
    "start_time": "2024-10-06T11:01:22.140Z"
   },
   {
    "duration": 2529,
    "start_time": "2024-10-06T11:01:22.147Z"
   },
   {
    "duration": 7,
    "start_time": "2024-10-06T11:01:24.678Z"
   },
   {
    "duration": 1493,
    "start_time": "2024-10-06T11:02:17.005Z"
   },
   {
    "duration": 451,
    "start_time": "2024-10-06T11:02:18.501Z"
   },
   {
    "duration": 34,
    "start_time": "2024-10-06T11:02:18.954Z"
   },
   {
    "duration": 35,
    "start_time": "2024-10-06T11:02:18.990Z"
   },
   {
    "duration": 22,
    "start_time": "2024-10-06T11:02:19.027Z"
   },
   {
    "duration": 5,
    "start_time": "2024-10-06T11:02:19.051Z"
   },
   {
    "duration": 10,
    "start_time": "2024-10-06T11:02:19.057Z"
   },
   {
    "duration": 849,
    "start_time": "2024-10-06T11:02:19.068Z"
   },
   {
    "duration": 796,
    "start_time": "2024-10-06T11:02:19.919Z"
   },
   {
    "duration": 677,
    "start_time": "2024-10-06T11:02:20.725Z"
   },
   {
    "duration": 3,
    "start_time": "2024-10-06T11:02:21.403Z"
   },
   {
    "duration": 18,
    "start_time": "2024-10-06T11:02:21.408Z"
   },
   {
    "duration": 9,
    "start_time": "2024-10-06T11:02:21.428Z"
   },
   {
    "duration": 16,
    "start_time": "2024-10-06T11:02:21.438Z"
   },
   {
    "duration": 7,
    "start_time": "2024-10-06T11:02:21.456Z"
   },
   {
    "duration": 7,
    "start_time": "2024-10-06T11:02:21.465Z"
   },
   {
    "duration": 8,
    "start_time": "2024-10-06T11:02:21.473Z"
   },
   {
    "duration": 820304,
    "start_time": "2024-10-06T11:02:21.483Z"
   },
   {
    "duration": 0,
    "start_time": "2024-10-06T11:16:01.788Z"
   },
   {
    "duration": 1399,
    "start_time": "2024-10-06T11:16:14.521Z"
   },
   {
    "duration": 433,
    "start_time": "2024-10-06T11:16:15.923Z"
   },
   {
    "duration": 27,
    "start_time": "2024-10-06T11:16:16.358Z"
   },
   {
    "duration": 23,
    "start_time": "2024-10-06T11:16:16.387Z"
   },
   {
    "duration": 22,
    "start_time": "2024-10-06T11:16:16.426Z"
   },
   {
    "duration": 5,
    "start_time": "2024-10-06T11:16:16.450Z"
   },
   {
    "duration": 14,
    "start_time": "2024-10-06T11:16:16.457Z"
   },
   {
    "duration": 725,
    "start_time": "2024-10-06T11:16:16.473Z"
   },
   {
    "duration": 686,
    "start_time": "2024-10-06T11:16:17.200Z"
   },
   {
    "duration": 695,
    "start_time": "2024-10-06T11:16:17.887Z"
   },
   {
    "duration": 2,
    "start_time": "2024-10-06T11:16:18.584Z"
   },
   {
    "duration": 13,
    "start_time": "2024-10-06T11:16:18.588Z"
   },
   {
    "duration": 5,
    "start_time": "2024-10-06T11:16:18.602Z"
   },
   {
    "duration": 17,
    "start_time": "2024-10-06T11:16:18.609Z"
   },
   {
    "duration": 5,
    "start_time": "2024-10-06T11:16:18.627Z"
   },
   {
    "duration": 5,
    "start_time": "2024-10-06T11:16:18.633Z"
   },
   {
    "duration": 5,
    "start_time": "2024-10-06T11:16:18.640Z"
   },
   {
    "duration": 2519,
    "start_time": "2024-10-06T11:16:18.646Z"
   },
   {
    "duration": 6,
    "start_time": "2024-10-06T11:16:21.167Z"
   },
   {
    "duration": 1409,
    "start_time": "2024-10-06T13:41:25.991Z"
   },
   {
    "duration": 466,
    "start_time": "2024-10-06T13:41:27.404Z"
   },
   {
    "duration": 27,
    "start_time": "2024-10-06T13:41:27.871Z"
   },
   {
    "duration": 42,
    "start_time": "2024-10-06T13:41:27.900Z"
   },
   {
    "duration": 22,
    "start_time": "2024-10-06T13:41:27.944Z"
   },
   {
    "duration": 5,
    "start_time": "2024-10-06T13:41:27.968Z"
   },
   {
    "duration": 7,
    "start_time": "2024-10-06T13:41:27.974Z"
   },
   {
    "duration": 724,
    "start_time": "2024-10-06T13:41:27.983Z"
   },
   {
    "duration": 692,
    "start_time": "2024-10-06T13:41:28.709Z"
   },
   {
    "duration": 672,
    "start_time": "2024-10-06T13:41:29.403Z"
   },
   {
    "duration": 3,
    "start_time": "2024-10-06T13:41:30.077Z"
   },
   {
    "duration": 35,
    "start_time": "2024-10-06T13:41:30.081Z"
   },
   {
    "duration": 43,
    "start_time": "2024-10-06T13:41:30.118Z"
   },
   {
    "duration": 23,
    "start_time": "2024-10-06T13:41:30.163Z"
   },
   {
    "duration": 7,
    "start_time": "2024-10-06T13:41:30.188Z"
   },
   {
    "duration": 53,
    "start_time": "2024-10-06T13:41:30.197Z"
   },
   {
    "duration": 110,
    "start_time": "2024-10-06T13:41:30.251Z"
   },
   {
    "duration": 2476,
    "start_time": "2024-10-06T13:41:30.363Z"
   },
   {
    "duration": 6,
    "start_time": "2024-10-06T13:41:32.841Z"
   },
   {
    "duration": 5,
    "start_time": "2024-10-06T13:42:23.355Z"
   },
   {
    "duration": 5,
    "start_time": "2024-10-06T13:43:18.513Z"
   },
   {
    "duration": 1496,
    "start_time": "2024-10-06T13:43:35.641Z"
   },
   {
    "duration": 456,
    "start_time": "2024-10-06T13:43:37.141Z"
   },
   {
    "duration": 42,
    "start_time": "2024-10-06T13:43:37.598Z"
   },
   {
    "duration": 22,
    "start_time": "2024-10-06T13:43:37.642Z"
   },
   {
    "duration": 21,
    "start_time": "2024-10-06T13:43:37.666Z"
   },
   {
    "duration": 5,
    "start_time": "2024-10-06T13:43:37.689Z"
   },
   {
    "duration": 4,
    "start_time": "2024-10-06T13:43:37.696Z"
   },
   {
    "duration": 673,
    "start_time": "2024-10-06T13:43:37.725Z"
   },
   {
    "duration": 704,
    "start_time": "2024-10-06T13:43:38.399Z"
   },
   {
    "duration": 699,
    "start_time": "2024-10-06T13:43:39.106Z"
   },
   {
    "duration": 4,
    "start_time": "2024-10-06T13:43:39.807Z"
   },
   {
    "duration": 21,
    "start_time": "2024-10-06T13:43:39.812Z"
   },
   {
    "duration": 5,
    "start_time": "2024-10-06T13:43:39.835Z"
   },
   {
    "duration": 6,
    "start_time": "2024-10-06T13:43:39.842Z"
   },
   {
    "duration": 5,
    "start_time": "2024-10-06T13:43:39.850Z"
   },
   {
    "duration": 5,
    "start_time": "2024-10-06T13:43:39.857Z"
   },
   {
    "duration": 6,
    "start_time": "2024-10-06T13:43:39.864Z"
   },
   {
    "duration": 2530,
    "start_time": "2024-10-06T13:43:39.871Z"
   },
   {
    "duration": 5,
    "start_time": "2024-10-06T13:43:42.403Z"
   },
   {
    "duration": 63,
    "start_time": "2024-10-06T15:14:05.111Z"
   },
   {
    "duration": 5,
    "start_time": "2024-10-06T15:16:56.718Z"
   },
   {
    "duration": 6,
    "start_time": "2024-10-06T15:17:33.779Z"
   },
   {
    "duration": 1446,
    "start_time": "2024-10-06T15:28:13.886Z"
   },
   {
    "duration": 470,
    "start_time": "2024-10-06T15:28:15.340Z"
   },
   {
    "duration": 38,
    "start_time": "2024-10-06T15:28:15.812Z"
   },
   {
    "duration": 22,
    "start_time": "2024-10-06T15:28:15.852Z"
   },
   {
    "duration": 23,
    "start_time": "2024-10-06T15:28:15.875Z"
   },
   {
    "duration": 26,
    "start_time": "2024-10-06T15:28:15.900Z"
   },
   {
    "duration": 21,
    "start_time": "2024-10-06T15:28:15.928Z"
   },
   {
    "duration": 658,
    "start_time": "2024-10-06T15:28:15.950Z"
   },
   {
    "duration": 711,
    "start_time": "2024-10-06T15:28:16.609Z"
   },
   {
    "duration": 666,
    "start_time": "2024-10-06T15:28:17.327Z"
   },
   {
    "duration": 3,
    "start_time": "2024-10-06T15:28:17.994Z"
   },
   {
    "duration": 7,
    "start_time": "2024-10-06T15:28:17.998Z"
   },
   {
    "duration": 6,
    "start_time": "2024-10-06T15:28:18.006Z"
   },
   {
    "duration": 15,
    "start_time": "2024-10-06T15:28:18.027Z"
   },
   {
    "duration": 5,
    "start_time": "2024-10-06T15:28:18.043Z"
   },
   {
    "duration": 5,
    "start_time": "2024-10-06T15:28:18.050Z"
   },
   {
    "duration": 5,
    "start_time": "2024-10-06T15:28:18.056Z"
   },
   {
    "duration": 2620,
    "start_time": "2024-10-06T15:28:18.063Z"
   },
   {
    "duration": 6,
    "start_time": "2024-10-06T15:28:20.685Z"
   }
  ],
  "kernelspec": {
   "display_name": "Python 3 (ipykernel)",
   "language": "python",
   "name": "python3"
  },
  "language_info": {
   "codemirror_mode": {
    "name": "ipython",
    "version": 3
   },
   "file_extension": ".py",
   "mimetype": "text/x-python",
   "name": "python",
   "nbconvert_exporter": "python",
   "pygments_lexer": "ipython3",
   "version": "3.9.5"
  },
  "toc": {
   "base_numbering": 1,
   "nav_menu": {},
   "number_sections": true,
   "sideBar": true,
   "skip_h1_title": true,
   "title_cell": "Table of Contents",
   "title_sidebar": "Contents",
   "toc_cell": false,
   "toc_position": {},
   "toc_section_display": true,
   "toc_window_display": false
  }
 },
 "nbformat": 4,
 "nbformat_minor": 2
}
