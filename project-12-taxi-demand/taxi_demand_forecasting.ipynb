{
 "cells": [
  {
   "cell_type": "markdown",
   "metadata": {},
   "source": [
    "Привет, меня зовут Люман Аблаев. Сегодня я проверю твой проект.\n",
    "<br> Дальнейшее общение будет происходить на \"ты\" если это не вызывает никаких проблем.\n",
    "<br> Желательно реагировать на каждый мой комментарий ('исправил', 'не понятно как исправить ошибку', ...)\n",
    "<br> Пожалуйста, не удаляй комментарии ревьюера, так как они повышают качество повторного ревью.\n",
    "\n",
    "Комментарии будут в <font color='green'>зеленой</font>, <font color='blue'>синей</font> или <font color='red'>красной</font> рамках:\n",
    "\n",
    "<div class=\"alert alert-block alert-success\">\n",
    "<b>Успех:</b> Если все сделано отлично\n",
    "</div>\n",
    "\n",
    "<div class=\"alert alert-block alert-info\">\n",
    "<b>Совет: </b> Если можно немного улучшить\n",
    "</div>\n",
    "\n",
    "<div class=\"alert alert-block alert-danger\">\n",
    "<b>Ошибка:</b> Если требуются исправления. Работа не может быть принята с красными комментариями.\n",
    "</div>\n",
    "\n",
    "-------------------\n",
    "\n",
    "Будет очень хорошо, если ты будешь помечать свои действия следующим образом:\n",
    "<div class=\"alert alert-block alert-warning\">\n",
    "<b>Комментарий студента:</b> ..\n",
    "</div>\n",
    "<div class=\"alert alert-block alert-warning\">\n",
    "<b>Изменения:</b> Были внесены следующие изменения ...\n",
    "</div>\n",
    "\n",
    "<font color='orange' style='font-size:24px; font-weight:bold'>Полезные ссылки:</font>\n",
    "* Полезная лекция про временные ряды: https://www.youtube.com/watch?v=u433nrxdf5k .\n",
    "\n",
    "<font color='orange' style='font-size:24px; font-weight:bold'>Общее впечатление</font>\n",
    "* Большое спасибо за проделанную работу. Видно, что приложено много усилий.\n",
    "- Приятное оформление выводов и структурированность кода в целом!  Приятно проверять такие работы.\n",
    "* Над этим проектом нужно будет еще немного поработать. Однако, изменения не должны занять много времени.\n",
    "* В работе я оставил несколько советов. Буду рад, если ты учтешь их.\n",
    "- Жду твой обновленный проект =)\n",
    "\n"
   ]
  },
  {
   "cell_type": "markdown",
   "metadata": {},
   "source": [
    "<font color='orange' style='font-size:24px; font-weight:bold'>Общее впечатление[3]</font>\n",
    "* Спасибо за оперативность\n",
    "- Недочеты исправлены - работа полностью корректна\n",
    "- Рад был быть полезен. Удачи в дальнейшем обучении!\n"
   ]
  },
  {
   "cell_type": "markdown",
   "metadata": {
    "toc": true
   },
   "source": [
    "<h1>Содержание<span class=\"tocSkip\"></span></h1>\n",
    "<div class=\"toc\"><ul class=\"toc-item\"><li><span><a href=\"#Подготовка\" data-toc-modified-id=\"Подготовка-1\"><span class=\"toc-item-num\">1&nbsp;&nbsp;</span>Подготовка</a></span></li><li><span><a href=\"#Анализ\" data-toc-modified-id=\"Анализ-2\"><span class=\"toc-item-num\">2&nbsp;&nbsp;</span>Анализ</a></span></li><li><span><a href=\"#Обучение\" data-toc-modified-id=\"Обучение-3\"><span class=\"toc-item-num\">3&nbsp;&nbsp;</span>Обучение</a></span></li><li><span><a href=\"#Тестирование\" data-toc-modified-id=\"Тестирование-4\"><span class=\"toc-item-num\">4&nbsp;&nbsp;</span>Тестирование</a></span></li><li><span><a href=\"#Чек-лист-проверки\" data-toc-modified-id=\"Чек-лист-проверки-5\"><span class=\"toc-item-num\">5&nbsp;&nbsp;</span>Чек-лист проверки</a></span></li></ul></div>"
   ]
  },
  {
   "cell_type": "markdown",
   "metadata": {},
   "source": [
    "#  Прогнозирование заказов такси"
   ]
  },
  {
   "cell_type": "markdown",
   "metadata": {},
   "source": [
    "Компания «Чётенькое такси» собрала исторические данные о заказах такси в аэропортах. Чтобы привлекать больше водителей в период пиковой нагрузки, нужно спрогнозировать количество заказов такси на следующий час. Постройте модель для такого предсказания.\n",
    "\n",
    "Значение метрики *RMSE* на тестовой выборке должно быть не больше 48.\n",
    "\n",
    "Вам нужно:\n",
    "\n",
    "1. Загрузить данные и выполнить их ресемплирование по одному часу.\n",
    "2. Проанализировать данные.\n",
    "3. Обучить разные модели с различными гиперпараметрами. Сделать тестовую выборку размером 10% от исходных данных.\n",
    "4. Проверить данные на тестовой выборке и сделать выводы.\n",
    "\n",
    "\n",
    "Данные лежат в файле `taxi.csv`. Количество заказов находится в столбце `num_orders` (от англ. *number of orders*, «число заказов»)."
   ]
  },
  {
   "cell_type": "code",
   "execution_count": 1,
   "metadata": {},
   "outputs": [],
   "source": [
    "import pandas as pd\n",
    "import numpy as np\n",
    "import statsmodels.api as sm\n",
    "\n",
    "import seaborn as sns\n",
    "import matplotlib.pyplot as plt\n",
    "\n",
    "from sklearn.pipeline import Pipeline\n",
    "from sklearn.compose import ColumnTransformer\n",
    "from sklearn.model_selection import (\n",
    "    train_test_split,\n",
    "    RandomizedSearchCV,\n",
    "    TimeSeriesSplit\n",
    ")\n",
    "from sklearn.impute import SimpleImputer\n",
    "from sklearn.preprocessing import (\n",
    "    StandardScaler,\n",
    "    MinMaxScaler,\n",
    "    OneHotEncoder,\n",
    "    OrdinalEncoder\n",
    ")\n",
    "from sklearn.linear_model import LinearRegression, Ridge\n",
    "from sklearn.ensemble import RandomForestRegressor\n",
    "import lightgbm as lgb\n",
    "from sklearn.metrics import mean_squared_error\n",
    "from sklearn.metrics import make_scorer"
   ]
  },
  {
   "cell_type": "markdown",
   "metadata": {},
   "source": [
    "<div class=\"alert alert-block alert-success\">\n",
    "<b>Успех:</b> Импорты  на месте\n",
    "</div>\n"
   ]
  },
  {
   "cell_type": "markdown",
   "metadata": {},
   "source": [
    "## Подготовка"
   ]
  },
  {
   "cell_type": "code",
   "execution_count": null,
   "metadata": {},
   "outputs": [],
   "source": [
    "data = pd.read_csv('/data/taxi.csv', index_col=[0], parse_dates=[0])"
   ]
  },
  {
   "cell_type": "markdown",
   "metadata": {},
   "source": [
    "\n",
    "\n",
    "<div class=\"alert alert-block alert-success\">\n",
    "<b>Успех:</b> Отлично, что использолованы параметры index_col и parse_dates\n",
    "</div>\n"
   ]
  },
  {
   "cell_type": "code",
   "execution_count": 3,
   "metadata": {},
   "outputs": [
    {
     "data": {
      "text/html": [
       "<div>\n",
       "<style scoped>\n",
       "    .dataframe tbody tr th:only-of-type {\n",
       "        vertical-align: middle;\n",
       "    }\n",
       "\n",
       "    .dataframe tbody tr th {\n",
       "        vertical-align: top;\n",
       "    }\n",
       "\n",
       "    .dataframe thead th {\n",
       "        text-align: right;\n",
       "    }\n",
       "</style>\n",
       "<table border=\"1\" class=\"dataframe\">\n",
       "  <thead>\n",
       "    <tr style=\"text-align: right;\">\n",
       "      <th></th>\n",
       "      <th>num_orders</th>\n",
       "    </tr>\n",
       "    <tr>\n",
       "      <th>datetime</th>\n",
       "      <th></th>\n",
       "    </tr>\n",
       "  </thead>\n",
       "  <tbody>\n",
       "    <tr>\n",
       "      <th>2018-03-01 00:00:00</th>\n",
       "      <td>9</td>\n",
       "    </tr>\n",
       "    <tr>\n",
       "      <th>2018-03-01 00:10:00</th>\n",
       "      <td>14</td>\n",
       "    </tr>\n",
       "    <tr>\n",
       "      <th>2018-03-01 00:20:00</th>\n",
       "      <td>28</td>\n",
       "    </tr>\n",
       "    <tr>\n",
       "      <th>2018-03-01 00:30:00</th>\n",
       "      <td>20</td>\n",
       "    </tr>\n",
       "    <tr>\n",
       "      <th>2018-03-01 00:40:00</th>\n",
       "      <td>32</td>\n",
       "    </tr>\n",
       "    <tr>\n",
       "      <th>2018-03-01 00:50:00</th>\n",
       "      <td>21</td>\n",
       "    </tr>\n",
       "    <tr>\n",
       "      <th>2018-03-01 01:00:00</th>\n",
       "      <td>7</td>\n",
       "    </tr>\n",
       "    <tr>\n",
       "      <th>2018-03-01 01:10:00</th>\n",
       "      <td>5</td>\n",
       "    </tr>\n",
       "    <tr>\n",
       "      <th>2018-03-01 01:20:00</th>\n",
       "      <td>17</td>\n",
       "    </tr>\n",
       "    <tr>\n",
       "      <th>2018-03-01 01:30:00</th>\n",
       "      <td>12</td>\n",
       "    </tr>\n",
       "  </tbody>\n",
       "</table>\n",
       "</div>"
      ],
      "text/plain": [
       "                     num_orders\n",
       "datetime                       \n",
       "2018-03-01 00:00:00           9\n",
       "2018-03-01 00:10:00          14\n",
       "2018-03-01 00:20:00          28\n",
       "2018-03-01 00:30:00          20\n",
       "2018-03-01 00:40:00          32\n",
       "2018-03-01 00:50:00          21\n",
       "2018-03-01 01:00:00           7\n",
       "2018-03-01 01:10:00           5\n",
       "2018-03-01 01:20:00          17\n",
       "2018-03-01 01:30:00          12"
      ]
     },
     "metadata": {},
     "output_type": "display_data"
    },
    {
     "name": "stdout",
     "output_type": "stream",
     "text": [
      "<class 'pandas.core.frame.DataFrame'>\n",
      "DatetimeIndex: 26496 entries, 2018-03-01 00:00:00 to 2018-08-31 23:50:00\n",
      "Data columns (total 1 columns):\n",
      " #   Column      Non-Null Count  Dtype\n",
      "---  ------      --------------  -----\n",
      " 0   num_orders  26496 non-null  int64\n",
      "dtypes: int64(1)\n",
      "memory usage: 414.0 KB\n"
     ]
    }
   ],
   "source": [
    "display(data.head(10))\n",
    "data.info()"
   ]
  },
  {
   "cell_type": "code",
   "execution_count": 4,
   "metadata": {},
   "outputs": [],
   "source": [
    "data.sort_index(inplace=True)\n",
    "data = data.resample('1H').sum()"
   ]
  },
  {
   "cell_type": "markdown",
   "metadata": {},
   "source": [
    "\n",
    "<div class=\"alert alert-block alert-success\">\n",
    "<b>Успех:</b> ресемпилнг был сделан верно.\n",
    "</div>\n"
   ]
  },
  {
   "cell_type": "markdown",
   "metadata": {},
   "source": [
    "<div class=\"alert alert-block alert-danger\">\n",
    "<b>Ошибка:</b> Признаки нужно выбирать после проведенного анализа. Наши календарные признаки подчеркивают сезонность. Относительно сезонности признаки идут на один уровень ниже. Если у нас суточная сезонность, то логично создавать признак часа (час одного дня похож на тот же час другого), если недельная - день недели.\n",
    "    \n",
    "Поэтому фактор месяц нам не сильно подходит: у нас в истории всего один март, май.... Да и горизонт прогноза - часы. \n",
    "    \n",
    "\n",
    "\n",
    "\n",
    "</div>      "
   ]
  },
  {
   "cell_type": "markdown",
   "metadata": {},
   "source": [
    "\n",
    "<div class=\"alert alert-block alert-info\">\n",
    "<b>Совет:</b> пару строк про lag и скользящее среднее\n",
    "    \n",
    "Lag: его называют ещё параметром авторегрессии.<br>Допустим lag=1 - учитывает (для удобства будем считать, что продажи собраны по дням) как вчерашние продажи - вчерашние события - влияют на сегодняшние.<br>Lag=2: учитывает как позавчерашние продажи влияютна сегодняшние.....<br><br><br>\n",
    "    \n",
    "По скользящему среднего:<br>\n",
    "Предположим rolling=10 - скользящее среднее. По сути, ищем среднее по 10 точкам, потом следующие 10 точек, и т.д. - это некое подобие тренда будет - средней линии. Т.е. - сглаживание колебаний/выбросов. Это легко увидеть на пределе: допустим длина ряда 100 дней. rolling(100) - это просто одно число - среднее всего ряда. <br><br><br>\n",
    "    \n",
    "    \n",
    "    \n",
    "**Обычно так происходит поиск параметров:**\n",
    "\n",
    "1) узнаём , какая у нас сезонность: в нашем случае их две - часовая и день недели (суточная и недельная)<br>\n",
    "2) Узнайм, какой у нас тренд. пусть будет пока rolling (24) - сутки<br>\n",
    "3) строим модель (без лагов).<br>\n",
    "4) строим график автокорреляции остатков (факт - прогноз). Если видим \"зубья\" на сезонных лагах: 24, 24*7 - то мы плохо жанной моделью учли сезонность.<br>\n",
    "Если высокий \"зуб\"(столбец на графике) на на первом лаге, то ндо вводить в модель фактор lag=1.\n",
    "и перестроить модель. И так по кругу.<br><br>   \n",
    "    \n",
    "Поэтому, если выставить сезонности - час и день недели, то дополнительные факторы желательно начинать с таких значений : лаг =1,2 а скользящее среднее = 24 (среднее за сутки).  В итоге модель будет приемлемая по точности и не много факторов.. а это значит и для бизнеса будет легче доносить решение). Но, если нужно улучшить качество, то в нашем же случае лаг в 24 (день) и 168 (неделя) - тоже имеют смысл.\n",
    "</div>\n"
   ]
  },
  {
   "cell_type": "markdown",
   "metadata": {},
   "source": [
    "## Анализ"
   ]
  },
  {
   "cell_type": "code",
   "execution_count": 5,
   "metadata": {},
   "outputs": [
    {
     "name": "stdout",
     "output_type": "stream",
     "text": [
      "2018-03-01 00:00:00 : 2018-08-31 23:00:00\n"
     ]
    }
   ],
   "source": [
    "min_date = data.index.min()\n",
    "max_date = data.index.max()\n",
    "print(f'{min_date} : {max_date}')"
   ]
  },
  {
   "cell_type": "code",
   "execution_count": 6,
   "metadata": {},
   "outputs": [
    {
     "data": {
      "text/html": [
       "<div>\n",
       "<style scoped>\n",
       "    .dataframe tbody tr th:only-of-type {\n",
       "        vertical-align: middle;\n",
       "    }\n",
       "\n",
       "    .dataframe tbody tr th {\n",
       "        vertical-align: top;\n",
       "    }\n",
       "\n",
       "    .dataframe thead th {\n",
       "        text-align: right;\n",
       "    }\n",
       "</style>\n",
       "<table border=\"1\" class=\"dataframe\">\n",
       "  <thead>\n",
       "    <tr style=\"text-align: right;\">\n",
       "      <th></th>\n",
       "      <th>num_orders</th>\n",
       "    </tr>\n",
       "  </thead>\n",
       "  <tbody>\n",
       "    <tr>\n",
       "      <th>count</th>\n",
       "      <td>4416.000000</td>\n",
       "    </tr>\n",
       "    <tr>\n",
       "      <th>mean</th>\n",
       "      <td>84.422781</td>\n",
       "    </tr>\n",
       "    <tr>\n",
       "      <th>std</th>\n",
       "      <td>45.023853</td>\n",
       "    </tr>\n",
       "    <tr>\n",
       "      <th>min</th>\n",
       "      <td>0.000000</td>\n",
       "    </tr>\n",
       "    <tr>\n",
       "      <th>25%</th>\n",
       "      <td>54.000000</td>\n",
       "    </tr>\n",
       "    <tr>\n",
       "      <th>50%</th>\n",
       "      <td>78.000000</td>\n",
       "    </tr>\n",
       "    <tr>\n",
       "      <th>75%</th>\n",
       "      <td>107.000000</td>\n",
       "    </tr>\n",
       "    <tr>\n",
       "      <th>max</th>\n",
       "      <td>462.000000</td>\n",
       "    </tr>\n",
       "  </tbody>\n",
       "</table>\n",
       "</div>"
      ],
      "text/plain": [
       "        num_orders\n",
       "count  4416.000000\n",
       "mean     84.422781\n",
       "std      45.023853\n",
       "min       0.000000\n",
       "25%      54.000000\n",
       "50%      78.000000\n",
       "75%     107.000000\n",
       "max     462.000000"
      ]
     },
     "metadata": {},
     "output_type": "display_data"
    }
   ],
   "source": [
    "display(data.describe())"
   ]
  },
  {
   "cell_type": "markdown",
   "metadata": {},
   "source": [
    "Стандартное отклонение 45, указывает на значительную изменчивость в данных.\n",
    "Большинство значений (50% данных) лежат в диапазоне от 54 до 104, что согласуется с наличием редких пиковых значений."
   ]
  },
  {
   "cell_type": "code",
   "execution_count": 7,
   "metadata": {},
   "outputs": [
    {
     "data": {
      "text/plain": [
       "<AxesSubplot:title={'center':'Number of orders over time'}, xlabel='datetime', ylabel='Number of orders'>"
      ]
     },
     "execution_count": 7,
     "metadata": {},
     "output_type": "execute_result"
    },
    {
     "data": {
      "image/png": "[encoded data removed]",
      "text/plain": [
       "<Figure size 864x432 with 1 Axes>"
      ]
     },
     "metadata": {
      "needs_background": "light"
     },
     "output_type": "display_data"
    }
   ],
   "source": [
    "data['num_orders'].plot(figsize=(12, 6), title='Number of orders over time', ylabel='Number of orders')"
   ]
  },
  {
   "cell_type": "markdown",
   "metadata": {},
   "source": [
    "Наблюдается тренд на увеличение числа заказов с течением времени. Это может указывать на общий рост спроса на такси в рассматриваемом периоде.\n",
    "Также видны флуктуации — периоды резкого увеличения и уменьшения заказов. Это может быть связано с сезонностью или внешними факторами (например, праздниками или событиями)."
   ]
  },
  {
   "cell_type": "code",
   "execution_count": 8,
   "metadata": {},
   "outputs": [
    {
     "data": {
      "text/plain": [
       "<AxesSubplot:title={'center':'Average orders per hour of the day'}, xlabel='datetime'>"
      ]
     },
     "execution_count": 8,
     "metadata": {},
     "output_type": "execute_result"
    },
    {
     "data": {
      "image/png": "[encoded data removed]",
      "text/plain": [
       "<Figure size 864x432 with 1 Axes>"
      ]
     },
     "metadata": {
      "needs_background": "light"
     },
     "output_type": "display_data"
    }
   ],
   "source": [
    "data.groupby(data.index.hour)['num_orders'].mean().plot(\n",
    "    kind='bar', figsize=(12, 6), title='Average orders per hour of the day'\n",
    ")"
   ]
  },
  {
   "cell_type": "markdown",
   "metadata": {},
   "source": [
    "Максимальное число заказов наблюдается в 00:00–02:00, что может быть связано с возвращением людей из аэропорта после вечерних рейсов.\n",
    "Низкий спрос на такси с 3:00 до 6:00, что естественно для ночных часов.\n",
    "Снова наблюдается рост с 7:00 (начало рабочего дня) и пик в 18:00–22:00 (возвращение домой или поздние поездки)."
   ]
  },
  {
   "cell_type": "code",
   "execution_count": 9,
   "metadata": {},
   "outputs": [
    {
     "data": {
      "text/plain": [
       "<AxesSubplot:title={'center':'Average orders per day'}, xlabel='datetime'>"
      ]
     },
     "execution_count": 9,
     "metadata": {},
     "output_type": "execute_result"
    },
    {
     "data": {
      "image/png": "[encoded data removed]",
      "text/plain": [
       "<Figure size 864x432 with 1 Axes>"
      ]
     },
     "metadata": {
      "needs_background": "light"
     },
     "output_type": "display_data"
    }
   ],
   "source": [
    "data.groupby(data.index.day)['num_orders'].mean().plot(\n",
    "    kind='bar', figsize=(12, 6), title='Average orders per day'\n",
    ")"
   ]
  },
  {
   "cell_type": "markdown",
   "metadata": {},
   "source": [
    "Распределение относительно равномерное, но видна тенденция роста заказов в конце месяца. Это может быть связано с определёнными циклами активности (например, зарплатные дни или повышенный спрос в конце месяца)."
   ]
  },
  {
   "cell_type": "code",
   "execution_count": 10,
   "metadata": {},
   "outputs": [
    {
     "data": {
      "text/plain": [
       "<AxesSubplot:title={'center':'Average orders per weekday'}, xlabel='datetime'>"
      ]
     },
     "execution_count": 10,
     "metadata": {},
     "output_type": "execute_result"
    },
    {
     "data": {
      "image/png": "[encoded data removed]",
      "text/plain": [
       "<Figure size 864x432 with 1 Axes>"
      ]
     },
     "metadata": {
      "needs_background": "light"
     },
     "output_type": "display_data"
    }
   ],
   "source": [
    "data.groupby(data.index.weekday)['num_orders'].mean().plot(\n",
    "    kind='bar', figsize=(12, 6), title='Average orders per weekday'\n",
    ")"
   ]
  },
  {
   "cell_type": "code",
   "execution_count": 11,
   "metadata": {},
   "outputs": [
    {
     "data": {
      "text/plain": [
       "<AxesSubplot:title={'center':'Average orders per month'}, xlabel='datetime'>"
      ]
     },
     "execution_count": 11,
     "metadata": {},
     "output_type": "execute_result"
    },
    {
     "data": {
      "image/png": "[encoded data removed]",
      "text/plain": [
       "<Figure size 864x432 with 1 Axes>"
      ]
     },
     "metadata": {
      "needs_background": "light"
     },
     "output_type": "display_data"
    }
   ],
   "source": [
    "data.groupby(data.index.month)['num_orders'].mean().plot(\n",
    "    kind='bar', figsize=(12, 6), title='Average orders per month'\n",
    ")"
   ]
  },
  {
   "cell_type": "markdown",
   "metadata": {},
   "source": [
    "График среднего количества заказов по месяцам также показывает явный рост заказов от марта до августа."
   ]
  },
  {
   "cell_type": "code",
   "execution_count": 12,
   "metadata": {},
   "outputs": [
    {
     "data": {
      "text/plain": [
       "<Figure size 864x576 with 0 Axes>"
      ]
     },
     "metadata": {},
     "output_type": "display_data"
    },
    {
     "data": {
      "image/png": "[encoded data removed]",
      "text/plain": [
       "<Figure size 432x288 with 4 Axes>"
      ]
     },
     "metadata": {
      "needs_background": "light"
     },
     "output_type": "display_data"
    }
   ],
   "source": [
    "# Выявление тренда и сезонности\n",
    "decomposition = sm.tsa.seasonal_decompose(data['num_orders'], period=24)\n",
    "fig = plt.figure(figsize=(12, 8))\n",
    "decomposition.plot()\n",
    "plt.show()"
   ]
  },
  {
   "cell_type": "markdown",
   "metadata": {},
   "source": [
    "Trend (тренд): Видно постепенное увеличение количества заказов во времени, что подтверждает выводы из предыдущих графиков.\n",
    "\n",
    "Seasonal (сезонность): Сезонные колебания хорошо видны. Пример: высокий спрос в определённое время суток (например, вечер), а также недельные циклы (выходные или будние дни).\n",
    "\n",
    "Residual (остатки): Остатки указывают на случайные флуктуации, которые не объясняются трендом или сезонностью."
   ]
  },
  {
   "cell_type": "markdown",
   "metadata": {},
   "source": [
    "<div class=\"alert alert-block alert-success\">\n",
    "  \n",
    "<b>Успех:</b> Осмотр сделан неплохо.\n",
    "\n",
    "Здесь можно дополнить вывод по аналитике: тренд постоянный, с ускорением? Растет число заказов по август? а в августе как обстоят дела?\n",
    "    \n",
    "    \n",
    "Важно также изучить недельную сезонность. Удобнее всего ее увидеть, если сделать дополнительное ресемплирование (сохраняем в другую переменную, так как дальше в проекте будем работать с ресемплированием по часам и важно его не потерять) по дням. И также берем несколько недель.\n",
    "\n",
    "\n",
    "По «остаткам» или шуму. Нужно посмотреть, на всем ли протяжении доля остатков одинаковая? Если если «остатков» к концу графика больше, значит в тестовую выборку попадет чуть больше данных, которые сложно объяснить и на которых модели будет сложнее предсказывать. Поэтому относительно большая (по сравнению с другими задачами машинного обучения) разница между метриками при обучении и исследовании, и между тестовой выборкой, не обязательно будет объясняться только переобучением модели.\n",
    "\n",
    "       \n",
    "</div>"
   ]
  },
  {
   "cell_type": "markdown",
   "metadata": {},
   "source": [
    "<div class=\"alert alert-block alert-info\">\n",
    "    \n",
    "<b>Совет:</b> Дополнительно  полезно оценивать стационарность ряда с помощью теста Дики-Фуллера: в реальных задачах с временными рядами, в особенности - с финансовыми данными или биржевыми котировками, график не всегда поможет достоверно оценить стационарность ряда, поэтому для оценки стационарности ряда лучше использовать тест Дики — Фуллера (подробнее о нём можно глянуть тут: https://www.statsmodels.org/dev/generated/statsmodels.tsa.stattools.adfuller.html, а вот тут можно глянуть пример реализации: https://www.helenkapatsa.ru/tiest-diki-fulliera/) - он даст наиболее точный результат. Результат нужно проверить на уровнях значимости 1% и 5%, чтобы быть уверенным в выводах. Не забудь при применении теста сформулировать гипотезы - нулевая формулируется как гипотеза о нестацинарности ряда, а альтернативная - как гипотеза о стационарности ряда. Также при проведении теста не забывай, что мы сравниваем `p-value` с уровнем значимости `alpha`.\n",
    "</div>\n",
    "\n"
   ]
  },
  {
   "cell_type": "markdown",
   "metadata": {},
   "source": [
    "## Обучение"
   ]
  },
  {
   "cell_type": "markdown",
   "metadata": {},
   "source": [
    "Чтоб модель учла дневную сезонность временного ряда, добавим:\n",
    "- Лаги до 24 часов — для учёта влияния значений за предыдущие сутки.\n",
    "- Скользящее среднее с окном 24 часа — для сглаживания шума и выделения тренда."
   ]
  },
  {
   "cell_type": "code",
   "execution_count": 13,
   "metadata": {},
   "outputs": [],
   "source": [
    "def make_features(data, max_lag, rolling_mean_size):\n",
    "    data['hour'] = data.index.hour\n",
    "    data['day'] = data.index.day\n",
    "    data['dayofweek'] = data.index.dayofweek\n",
    "    \n",
    "    for lag in range(1, max_lag + 1):\n",
    "        data['lag_{}'.format(lag)] = data['num_orders'].shift(lag)\n",
    "    \n",
    "    data['rolling_mean'] = data['num_orders'].shift().rolling(rolling_mean_size).mean()"
   ]
  },
  {
   "cell_type": "markdown",
   "metadata": {},
   "source": [
    "<div class=\"alert alert-block alert-danger\">\n",
    "    \n",
    "<b>Ошибка[2]:</b> Повторю главное: `Наши календарные признаки подчеркивают сезонность. Относительно сезонности признаки идут на один уровень ниже. Если у нас суточная сезонность, то логично создавать признак часа (час одного дня похож на тот же час другого), если недельная - день недели.`\n",
    "    \n",
    "Поэтому фактор месяц нам не сильно подходит: у нас в истории всего один март, май.... Да и горизонт прогноза - часы. \n",
    "    \n",
    "А вот фактор часа у тебя отсутствует, хотя он был бы актуален здесь\n",
    "\n",
    "\n",
    "\n",
    "</div>      "
   ]
  },
  {
   "cell_type": "markdown",
   "metadata": {},
   "source": [
    "\n",
    "\n",
    "<div class=\"alert alert-block alert-success\">\n",
    "    \n",
    "<b>Успех[3]:</b> 👍 Есть контакт\n",
    "</div>"
   ]
  },
  {
   "cell_type": "code",
   "execution_count": 14,
   "metadata": {},
   "outputs": [
    {
     "name": "stdout",
     "output_type": "stream",
     "text": [
      "<class 'pandas.core.frame.DataFrame'>\n",
      "DatetimeIndex: 4416 entries, 2018-03-01 00:00:00 to 2018-08-31 23:00:00\n",
      "Freq: H\n",
      "Data columns (total 29 columns):\n",
      " #   Column        Non-Null Count  Dtype  \n",
      "---  ------        --------------  -----  \n",
      " 0   num_orders    4416 non-null   int64  \n",
      " 1   hour          4416 non-null   int64  \n",
      " 2   day           4416 non-null   int64  \n",
      " 3   dayofweek     4416 non-null   int64  \n",
      " 4   lag_1         4415 non-null   float64\n",
      " 5   lag_2         4414 non-null   float64\n",
      " 6   lag_3         4413 non-null   float64\n",
      " 7   lag_4         4412 non-null   float64\n",
      " 8   lag_5         4411 non-null   float64\n",
      " 9   lag_6         4410 non-null   float64\n",
      " 10  lag_7         4409 non-null   float64\n",
      " 11  lag_8         4408 non-null   float64\n",
      " 12  lag_9         4407 non-null   float64\n",
      " 13  lag_10        4406 non-null   float64\n",
      " 14  lag_11        4405 non-null   float64\n",
      " 15  lag_12        4404 non-null   float64\n",
      " 16  lag_13        4403 non-null   float64\n",
      " 17  lag_14        4402 non-null   float64\n",
      " 18  lag_15        4401 non-null   float64\n",
      " 19  lag_16        4400 non-null   float64\n",
      " 20  lag_17        4399 non-null   float64\n",
      " 21  lag_18        4398 non-null   float64\n",
      " 22  lag_19        4397 non-null   float64\n",
      " 23  lag_20        4396 non-null   float64\n",
      " 24  lag_21        4395 non-null   float64\n",
      " 25  lag_22        4394 non-null   float64\n",
      " 26  lag_23        4393 non-null   float64\n",
      " 27  lag_24        4392 non-null   float64\n",
      " 28  rolling_mean  4392 non-null   float64\n",
      "dtypes: float64(25), int64(4)\n",
      "memory usage: 1.0 MB\n"
     ]
    }
   ],
   "source": [
    "make_features(data, 24, 24)\n",
    "data.info()"
   ]
  },
  {
   "cell_type": "code",
   "execution_count": 15,
   "metadata": {},
   "outputs": [],
   "source": [
    "# Константа для воспроизводимости\n",
    "RANDOM_STATE = 42\n",
    "\n",
    "# Удаление строк с NaN после создания лагов и скользящей средней\n",
    "data = data.dropna()\n",
    "\n",
    "tscv = TimeSeriesSplit(n_splits=5)\n",
    "\n",
    "# Разделение данных на признаки и целевую переменную\n",
    "target = data['num_orders']\n",
    "features = data.drop(['num_orders'], axis=1)\n",
    "\n",
    "# Категориальные и числовые признаки\n",
    "cat_columns = ['month', 'day', 'dayofweek']\n",
    "num_columns = [col for col in features.columns if col not in cat_columns]"
   ]
  },
  {
   "cell_type": "markdown",
   "metadata": {},
   "source": [
    "<div class=\"alert alert-block alert-success\">\n",
    "<b>Успех:</b> Лайк за TimeSeriesSplit - важно при работе с временными рядами\n",
    "</div>"
   ]
  },
  {
   "cell_type": "code",
   "execution_count": 16,
   "metadata": {},
   "outputs": [],
   "source": [
    "# Разделение на тренировочную и тестовую выборки\n",
    "X_train, X_test, y_train, y_test = train_test_split(\n",
    "    features, target, test_size=0.1, shuffle=False\n",
    ")"
   ]
  },
  {
   "cell_type": "markdown",
   "metadata": {},
   "source": [
    "<div class=\"alert alert-block alert-info\">\n",
    "\n",
    "<b>Совет:</b>\n",
    "Если используем `shuffle = False`, то `random_state` нам уже не нужен.\n",
    "</div> \n",
    "\n"
   ]
  },
  {
   "cell_type": "code",
   "execution_count": 17,
   "metadata": {},
   "outputs": [],
   "source": [
    "# Функция для расчета RMSE\n",
    "def rmse(y_true, y_pred):\n",
    "    return np.sqrt(mean_squared_error(y_true, y_pred))\n",
    "\n",
    "scoring = make_scorer(rmse, greater_is_better=False)"
   ]
  },
  {
   "cell_type": "code",
   "execution_count": 18,
   "metadata": {},
   "outputs": [
    {
     "name": "stderr",
     "output_type": "stream",
     "text": [
      "/opt/conda/lib/python3.9/site-packages/sklearn/model_selection/_search.py:285: UserWarning: The total space of parameters 4 is smaller than n_iter=10. Running 4 iterations. For exhaustive searches, use GridSearchCV.\n",
      "  warnings.warn(\n"
     ]
    },
    {
     "name": "stdout",
     "output_type": "stream",
     "text": [
      "Лучшие параметры для Ridge Regression: {'model__alpha': 100.0}\n",
      "Средний RMSE на кросс-валидации для Ridge Regression: 27.124\n"
     ]
    }
   ],
   "source": [
    "# Создание pipeline для Ridge Regression \n",
    "pipe_ridge = Pipeline(steps=[\n",
    "    ('imputer', SimpleImputer(strategy='mean')), \n",
    "    ('scaler', StandardScaler()), \n",
    "    ('model', Ridge(random_state=RANDOM_STATE)) \n",
    "]) \n",
    "\n",
    "# Указание параметров для RandomizedSearchCV \n",
    "param_ridge = { \n",
    "    'model__alpha': [0.1, 1.0, 10.0, 100.0] \n",
    "} \n",
    "\n",
    "# Перебор параметров для Ridge Regression \n",
    "rs_ridge = RandomizedSearchCV( \n",
    "    pipe_ridge, \n",
    "    param_ridge, \n",
    "    cv=tscv, \n",
    "    scoring='neg_root_mean_squared_error', \n",
    "    n_jobs=-1, \n",
    "    refit=True, \n",
    "    random_state=RANDOM_STATE \n",
    ") \n",
    "\n",
    "# Обучение модели для Ridge Regression \n",
    "rs_ridge.fit(X_train, y_train) \n",
    "\n",
    "# Вывод результатов обучения \n",
    "best_ridge = rs_ridge.best_estimator_ \n",
    "\n",
    "print(\"Лучшие параметры для Ridge Regression:\", rs_ridge.best_params_) \n",
    "print(\"Средний RMSE на кросс-валидации для Ridge Regression:\", round(np.abs(rs_ridge.best_score_), 3))"
   ]
  },
  {
   "cell_type": "code",
   "execution_count": 19,
   "metadata": {},
   "outputs": [
    {
     "name": "stdout",
     "output_type": "stream",
     "text": [
      "Лучшие параметры для Random Forest Regressor: {'model__n_estimators': 200, 'model__min_samples_split': 2, 'model__min_samples_leaf': 1, 'model__max_depth': 30}\n",
      "Средний RMSE на кросс-валидации для Random Forest Regressor: 25.189\n"
     ]
    }
   ],
   "source": [
    "# Создание pipeline для RandomForestRegressor\n",
    "pipe_rf = Pipeline(steps=[\n",
    "    ('imputer', SimpleImputer(strategy='mean')),\n",
    "    ('model', RandomForestRegressor(random_state=RANDOM_STATE))\n",
    "])\n",
    "\n",
    "# Указание параметров для RandomizedSearchCV\n",
    "param_rf = {\n",
    "    'model__n_estimators': [50, 100, 200],\n",
    "    'model__max_depth': [None, 10, 20, 30],\n",
    "    'model__min_samples_split': [2, 5, 10],\n",
    "    'model__min_samples_leaf': [1, 2, 4]\n",
    "}\n",
    "\n",
    "# Перебор параметров для RandomForestRegressor\n",
    "rs_rf = RandomizedSearchCV(\n",
    "    pipe_rf, \n",
    "    param_rf, \n",
    "    cv=tscv, \n",
    "    scoring='neg_root_mean_squared_error',\n",
    "    n_jobs=-1, \n",
    "    refit=True, \n",
    "    random_state=RANDOM_STATE\n",
    ")\n",
    "\n",
    "# Обучение модели для RandomForestRegressor\n",
    "rs_rf.fit(X_train, y_train)\n",
    "\n",
    "# Вывод результатов обучения\n",
    "best_rf = rs_rf.best_estimator_\n",
    "\n",
    "print(\"Лучшие параметры для Random Forest Regressor:\", rs_rf.best_params_)\n",
    "print(\"Средний RMSE на кросс-валидации для Random Forest Regressor:\", round(np.abs(rs_rf.best_score_), 3))"
   ]
  },
  {
   "cell_type": "code",
   "execution_count": 20,
   "metadata": {},
   "outputs": [
    {
     "name": "stdout",
     "output_type": "stream",
     "text": [
      "\n",
      "Лучшие параметры для LightGBM: {'model__num_leaves': 50, 'model__n_estimators': 100, 'model__max_depth': -1, 'model__learning_rate': 0.05}\n",
      "Средний RMSE на кросс-валидации для LightGBM: 25.01\n"
     ]
    }
   ],
   "source": [
    "# Создание pipeline для LightGBM\n",
    "pipe_lgb = Pipeline(steps=[\n",
    "    ('imputer', SimpleImputer(strategy='mean')),\n",
    "    ('model', lgb.LGBMRegressor(random_state=RANDOM_STATE))\n",
    "])\n",
    "\n",
    "# Параметры для RandomizedSearchCV\n",
    "param_lgb = {\n",
    "    'model__num_leaves': [31, 50, 100],\n",
    "    'model__learning_rate': [0.01, 0.05, 0.1],\n",
    "    'model__n_estimators': [50, 100, 200],\n",
    "    'model__max_depth': [-1, 10, 20]\n",
    "}\n",
    "\n",
    "# Подбор параметров с кросс-валидацией\n",
    "rs_lgb = RandomizedSearchCV(\n",
    "    pipe_lgb, \n",
    "    param_lgb, \n",
    "    cv=tscv, \n",
    "    scoring='neg_root_mean_squared_error',\n",
    "    n_jobs=-1,\n",
    "    refit=True,\n",
    "    random_state=RANDOM_STATE\n",
    ")\n",
    "\n",
    "rs_lgb.fit(X_train, y_train)\n",
    "\n",
    "# Сохранение лучшей модели\n",
    "best_lgb_model = rs_lgb.best_estimator_\n",
    "\n",
    "# Вывод результатов\n",
    "print(\"\\nЛучшие параметры для LightGBM:\", rs_lgb.best_params_)\n",
    "print(\"Средний RMSE на кросс-валидации для LightGBM:\", round(np.abs(rs_lgb.best_score_), 3))"
   ]
  },
  {
   "cell_type": "markdown",
   "metadata": {},
   "source": [
    "По результатам кросс валидации, лучшим моделем оказался Light GBM с RMSE 25.01. Сделаем прогноз на этой модели и проверим качество модели на тестовой выборке."
   ]
  },
  {
   "cell_type": "markdown",
   "metadata": {},
   "source": [
    "\n",
    "\n",
    "<div class=\"alert alert-block alert-success\">\n",
    "<b>Успех:</b> Отлично проделан шаг\n",
    "    \n",
    "- Радует количество рассмотренных моделей.   \n",
    "- Кросс-валидационные методы успешно использованы. \n",
    "</div>"
   ]
  },
  {
   "cell_type": "markdown",
   "metadata": {},
   "source": [
    "<div class=\"alert alert-block alert-danger\">\n",
    "<b>Ошибка:</b> Здесь нужно выбрать одну лучшую модель для тестирования. А после анализа и выбора одной наилучшей модели, должно идти  ее тестирование. Другие модели тестовую выборку использовать не должны.\n",
    "</div>"
   ]
  },
  {
   "cell_type": "markdown",
   "metadata": {},
   "source": [
    "\n",
    "<div class=\"alert alert-block alert-success\">\n",
    "    \n",
    "<b>Успех[2]:</b> 👍\n",
    "</div>"
   ]
  },
  {
   "cell_type": "markdown",
   "metadata": {},
   "source": [
    "## Тестирование"
   ]
  },
  {
   "cell_type": "code",
   "execution_count": 21,
   "metadata": {},
   "outputs": [
    {
     "name": "stdout",
     "output_type": "stream",
     "text": [
      "RMSE на тестовой выборке для Light GBM: 41.967\n"
     ]
    }
   ],
   "source": [
    "# Предсказания для тестовой выборки\n",
    "y_pred = best_lgb_model.predict(X_test)\n",
    "\n",
    "# Расчёт RMSE для каждой модели\n",
    "rmse_test = np.sqrt(mean_squared_error(y_test, y_pred))\n",
    "\n",
    "# Вывод результатов\n",
    "print(f\"RMSE на тестовой выборке для Light GBM: {rmse_test:.3f}\")"
   ]
  },
  {
   "cell_type": "markdown",
   "metadata": {},
   "source": [
    "\n",
    "<div class=\"alert alert-block alert-success\">\n",
    "    \n",
    "<b>Успех[2]:</b> Теперь все правильно, молодец\n",
    "</div>"
   ]
  },
  {
   "cell_type": "code",
   "execution_count": 22,
   "metadata": {},
   "outputs": [
    {
     "data": {
      "image/png": "[encoded data removed]",
      "text/plain": [
       "<Figure size 864x432 with 1 Axes>"
      ]
     },
     "metadata": {
      "needs_background": "light"
     },
     "output_type": "display_data"
    }
   ],
   "source": [
    "# Создание графика\n",
    "plt.figure(figsize=(12, 6))\n",
    "plt.plot(y_test.values, label='Actual Values', color='blue', alpha=0.7)\n",
    "plt.plot(y_pred, label='Predicted Values', color='orange', alpha=0.7)\n",
    "plt.title('Comparison of Actual and Predicted Values', fontsize=14)\n",
    "plt.xlabel('Datetime', fontsize=12)\n",
    "plt.ylabel('Order Count', fontsize=12)\n",
    "plt.legend(fontsize=12)\n",
    "plt.grid(alpha=0.3)\n",
    "plt.show()"
   ]
  },
  {
   "cell_type": "markdown",
   "metadata": {},
   "source": [
    "Модель Light GBMхорошо справляется с прогнозом, учитывая дневную сезонность и дополнительные признаки. RMSE на тестовой выборке составил 41.967, что ниже целевого порога в 48, подтверждая достижение цели проекта. Это также видно на графике, где предсказанные значения следуют за реальными данными. Несмотря на небольшие расхождения в экстремальных значениях, модель надежно прогнозирует общий тренд и краткосрочные изменения."
   ]
  },
  {
   "cell_type": "markdown",
   "metadata": {},
   "source": [
    "\n",
    "<div class=\"alert alert-block alert-success\">\n",
    "    \n",
    "<b>Успех[2]:</b> 👍 Есть\n",
    "</div>"
   ]
  },
  {
   "cell_type": "markdown",
   "metadata": {},
   "source": [
    "<div class=\"alert alert-info\">\n",
    "<b>Совет:</b>\n",
    "\n",
    "Здесь также было бы очень полезно визуализировать предсказания твоей лучшей модели и сравнить их с правильными ответами в формате линейного графика - так мы сможем более наглядно понять, в каких местах твоя модель делает хорошие предсказания, а в каких ошибается.\n",
    "        \n",
    "По графику обязательно нужно сделать вывод: стоит отметить, в каких участках ряда модель сильнее ошибается, а какие участки ряда предсказывает хорошо.\n"
   ]
  },
  {
   "cell_type": "markdown",
   "metadata": {},
   "source": [
    "## Чек-лист проверки"
   ]
  },
  {
   "cell_type": "markdown",
   "metadata": {},
   "source": [
    "- [x]  Jupyter Notebook открыт\n",
    "- [x]  Весь код выполняется без ошибок\n",
    "- [x]  Ячейки с кодом расположены в порядке исполнения\n",
    "- [x]  Данные загружены и подготовлены\n",
    "- [x]  Данные проанализированы\n",
    "- [x]  Модель обучена, гиперпараметры подобраны\n",
    "- [x]  Качество моделей проверено, выводы сделаны\n",
    "- [x]  Значение *RMSE* на тестовой выборке не больше 48"
   ]
  },
  {
   "cell_type": "code",
   "execution_count": null,
   "metadata": {},
   "outputs": [],
   "source": []
  }
 ],
 "metadata": {
  "ExecuteTimeLog": [
   {
    "duration": 406,
    "start_time": "2024-11-17T14:28:18.178Z"
   },
   {
    "duration": 93,
    "start_time": "2024-11-17T14:28:49.443Z"
   },
   {
    "duration": 26,
    "start_time": "2024-11-17T14:30:07.027Z"
   },
   {
    "duration": 369,
    "start_time": "2024-11-17T14:31:05.499Z"
   },
   {
    "duration": 44,
    "start_time": "2024-11-17T14:31:05.870Z"
   },
   {
    "duration": 23,
    "start_time": "2024-11-17T14:31:05.916Z"
   },
   {
    "duration": 92,
    "start_time": "2024-11-17T14:31:05.941Z"
   },
   {
    "duration": 378,
    "start_time": "2024-11-17T14:31:47.203Z"
   },
   {
    "duration": 55,
    "start_time": "2024-11-17T14:31:47.584Z"
   },
   {
    "duration": 33,
    "start_time": "2024-11-17T14:31:47.640Z"
   },
   {
    "duration": 9,
    "start_time": "2024-11-17T14:31:47.674Z"
   },
   {
    "duration": 6,
    "start_time": "2024-11-17T14:33:26.360Z"
   },
   {
    "duration": 1097,
    "start_time": "2024-11-17T14:34:45.060Z"
   },
   {
    "duration": 4,
    "start_time": "2024-11-17T14:35:20.698Z"
   },
   {
    "duration": 24,
    "start_time": "2024-11-17T14:35:23.768Z"
   },
   {
    "duration": 1216,
    "start_time": "2024-11-17T14:37:43.320Z"
   },
   {
    "duration": 18,
    "start_time": "2024-11-17T14:38:02.292Z"
   },
   {
    "duration": 174,
    "start_time": "2024-11-17T14:38:11.358Z"
   },
   {
    "duration": 12,
    "start_time": "2024-11-17T14:38:30.672Z"
   },
   {
    "duration": 257,
    "start_time": "2024-11-17T14:38:45.469Z"
   },
   {
    "duration": 9,
    "start_time": "2024-11-17T14:40:24.865Z"
   },
   {
    "duration": 10,
    "start_time": "2024-11-17T14:40:36.006Z"
   },
   {
    "duration": 9,
    "start_time": "2024-11-17T14:40:45.670Z"
   },
   {
    "duration": 931,
    "start_time": "2024-11-17T14:40:53.209Z"
   },
   {
    "duration": 10,
    "start_time": "2024-11-17T14:45:53.793Z"
   },
   {
    "duration": 4,
    "start_time": "2024-11-17T14:46:03.193Z"
   },
   {
    "duration": 437,
    "start_time": "2024-11-17T14:49:28.482Z"
   },
   {
    "duration": 70,
    "start_time": "2024-11-17T14:49:28.920Z"
   },
   {
    "duration": 64,
    "start_time": "2024-11-17T14:49:28.992Z"
   },
   {
    "duration": 15,
    "start_time": "2024-11-17T14:49:29.063Z"
   },
   {
    "duration": 17,
    "start_time": "2024-11-17T14:49:29.080Z"
   },
   {
    "duration": 64,
    "start_time": "2024-11-17T14:49:29.099Z"
   },
   {
    "duration": 19,
    "start_time": "2024-11-17T14:49:29.165Z"
   },
   {
    "duration": 658,
    "start_time": "2024-11-17T14:49:29.189Z"
   },
   {
    "duration": 38,
    "start_time": "2024-11-17T14:51:27.024Z"
   },
   {
    "duration": 263,
    "start_time": "2024-11-17T14:51:45.226Z"
   },
   {
    "duration": 316,
    "start_time": "2024-11-17T14:52:23.034Z"
   },
   {
    "duration": 280,
    "start_time": "2024-11-17T14:53:10.812Z"
   },
   {
    "duration": 295,
    "start_time": "2024-11-17T14:53:40.778Z"
   },
   {
    "duration": 155,
    "start_time": "2024-11-17T14:54:46.142Z"
   },
   {
    "duration": 17,
    "start_time": "2024-11-17T14:55:30.542Z"
   },
   {
    "duration": 593,
    "start_time": "2024-11-17T14:56:08.855Z"
   },
   {
    "duration": 423,
    "start_time": "2024-11-17T14:58:27.900Z"
   },
   {
    "duration": 218,
    "start_time": "2024-11-17T14:59:15.871Z"
   },
   {
    "duration": 407,
    "start_time": "2024-11-17T14:59:29.977Z"
   },
   {
    "duration": 1254,
    "start_time": "2024-11-17T14:59:40.558Z"
   },
   {
    "duration": 56,
    "start_time": "2024-11-17T14:59:41.814Z"
   },
   {
    "duration": 17,
    "start_time": "2024-11-17T14:59:41.872Z"
   },
   {
    "duration": 8,
    "start_time": "2024-11-17T14:59:41.891Z"
   },
   {
    "duration": 4,
    "start_time": "2024-11-17T14:59:41.901Z"
   },
   {
    "duration": 17,
    "start_time": "2024-11-17T14:59:41.906Z"
   },
   {
    "duration": 26,
    "start_time": "2024-11-17T14:59:41.925Z"
   },
   {
    "duration": 27,
    "start_time": "2024-11-17T14:59:41.952Z"
   },
   {
    "duration": 317,
    "start_time": "2024-11-17T14:59:41.980Z"
   },
   {
    "duration": 278,
    "start_time": "2024-11-17T14:59:42.299Z"
   },
   {
    "duration": 300,
    "start_time": "2024-11-17T14:59:42.579Z"
   },
   {
    "duration": 288,
    "start_time": "2024-11-17T14:59:42.881Z"
   },
   {
    "duration": 156,
    "start_time": "2024-11-17T14:59:43.170Z"
   },
   {
    "duration": 22,
    "start_time": "2024-11-17T14:59:43.329Z"
   },
   {
    "duration": 366,
    "start_time": "2024-11-17T14:59:43.352Z"
   },
   {
    "duration": 419,
    "start_time": "2024-11-17T15:00:21.815Z"
   },
   {
    "duration": 1271,
    "start_time": "2024-11-17T15:01:09.720Z"
   },
   {
    "duration": 3,
    "start_time": "2024-11-17T15:02:17.763Z"
   },
   {
    "duration": 12,
    "start_time": "2024-11-17T15:02:26.639Z"
   },
   {
    "duration": 963,
    "start_time": "2024-11-17T15:02:36.668Z"
   },
   {
    "duration": 1043,
    "start_time": "2024-11-17T15:02:43.646Z"
   },
   {
    "duration": 947,
    "start_time": "2024-11-17T15:02:52.263Z"
   },
   {
    "duration": 921,
    "start_time": "2024-11-17T15:03:05.072Z"
   },
   {
    "duration": 49,
    "start_time": "2024-11-18T15:55:11.456Z"
   },
   {
    "duration": 1586,
    "start_time": "2024-11-18T15:55:16.751Z"
   },
   {
    "duration": 161,
    "start_time": "2024-11-18T15:55:18.340Z"
   },
   {
    "duration": 20,
    "start_time": "2024-11-18T15:55:18.502Z"
   },
   {
    "duration": 9,
    "start_time": "2024-11-18T15:55:18.524Z"
   },
   {
    "duration": 3,
    "start_time": "2024-11-18T15:55:18.534Z"
   },
   {
    "duration": 18,
    "start_time": "2024-11-18T15:55:18.539Z"
   },
   {
    "duration": 13,
    "start_time": "2024-11-18T15:55:18.558Z"
   },
   {
    "duration": 25,
    "start_time": "2024-11-18T15:55:18.572Z"
   },
   {
    "duration": 262,
    "start_time": "2024-11-18T15:55:18.598Z"
   },
   {
    "duration": 235,
    "start_time": "2024-11-18T15:55:18.862Z"
   },
   {
    "duration": 354,
    "start_time": "2024-11-18T15:55:19.099Z"
   },
   {
    "duration": 156,
    "start_time": "2024-11-18T15:55:19.455Z"
   },
   {
    "duration": 454,
    "start_time": "2024-11-18T15:55:19.613Z"
   },
   {
    "duration": 315,
    "start_time": "2024-11-18T15:55:20.068Z"
   },
   {
    "duration": 120,
    "start_time": "2024-11-18T15:55:20.384Z"
   },
   {
    "duration": 14,
    "start_time": "2024-11-18T15:58:49.569Z"
   },
   {
    "duration": 3,
    "start_time": "2024-11-18T15:59:31.853Z"
   },
   {
    "duration": 14,
    "start_time": "2024-11-18T15:59:36.337Z"
   },
   {
    "duration": 3,
    "start_time": "2024-11-18T15:59:47.424Z"
   },
   {
    "duration": 125,
    "start_time": "2024-11-18T15:59:51.631Z"
   },
   {
    "duration": 602,
    "start_time": "2024-11-18T16:00:31.388Z"
   },
   {
    "duration": 564,
    "start_time": "2024-11-18T16:00:45.421Z"
   },
   {
    "duration": 626,
    "start_time": "2024-11-18T16:01:18.424Z"
   },
   {
    "duration": 839,
    "start_time": "2024-11-18T16:02:48.509Z"
   },
   {
    "duration": 125,
    "start_time": "2024-11-18T16:02:58.227Z"
   },
   {
    "duration": 544,
    "start_time": "2024-11-18T16:03:09.266Z"
   },
   {
    "duration": 1325,
    "start_time": "2024-11-18T16:05:35.776Z"
   },
   {
    "duration": 48,
    "start_time": "2024-11-18T16:05:37.103Z"
   },
   {
    "duration": 19,
    "start_time": "2024-11-18T16:05:37.152Z"
   },
   {
    "duration": 53,
    "start_time": "2024-11-18T16:05:37.172Z"
   },
   {
    "duration": 4,
    "start_time": "2024-11-18T16:05:37.227Z"
   },
   {
    "duration": 27,
    "start_time": "2024-11-18T16:05:37.232Z"
   },
   {
    "duration": 3,
    "start_time": "2024-11-18T16:05:37.260Z"
   },
   {
    "duration": 35,
    "start_time": "2024-11-18T16:05:37.265Z"
   },
   {
    "duration": 285,
    "start_time": "2024-11-18T16:05:37.302Z"
   },
   {
    "duration": 253,
    "start_time": "2024-11-18T16:05:37.588Z"
   },
   {
    "duration": 344,
    "start_time": "2024-11-18T16:05:37.842Z"
   },
   {
    "duration": 162,
    "start_time": "2024-11-18T16:05:38.188Z"
   },
   {
    "duration": 827,
    "start_time": "2024-11-18T16:05:38.351Z"
   },
   {
    "duration": 335,
    "start_time": "2024-11-18T16:05:39.180Z"
   },
   {
    "duration": 648,
    "start_time": "2024-11-18T16:05:39.516Z"
   },
   {
    "duration": 849,
    "start_time": "2024-11-18T16:08:01.414Z"
   },
   {
    "duration": 1539,
    "start_time": "2024-11-18T16:23:00.918Z"
   },
   {
    "duration": 49,
    "start_time": "2024-11-18T16:23:02.458Z"
   },
   {
    "duration": 19,
    "start_time": "2024-11-18T16:23:02.508Z"
   },
   {
    "duration": 80,
    "start_time": "2024-11-18T16:23:02.529Z"
   },
   {
    "duration": 4,
    "start_time": "2024-11-18T16:23:02.610Z"
   },
   {
    "duration": 36,
    "start_time": "2024-11-18T16:23:02.615Z"
   },
   {
    "duration": 4,
    "start_time": "2024-11-18T16:23:02.652Z"
   },
   {
    "duration": 58,
    "start_time": "2024-11-18T16:23:02.657Z"
   },
   {
    "duration": 262,
    "start_time": "2024-11-18T16:23:02.716Z"
   },
   {
    "duration": 236,
    "start_time": "2024-11-18T16:23:02.980Z"
   },
   {
    "duration": 267,
    "start_time": "2024-11-18T16:23:03.217Z"
   },
   {
    "duration": 148,
    "start_time": "2024-11-18T16:23:03.485Z"
   },
   {
    "duration": 876,
    "start_time": "2024-11-18T16:23:03.634Z"
   },
   {
    "duration": 312,
    "start_time": "2024-11-18T16:23:04.511Z"
   },
   {
    "duration": 748,
    "start_time": "2024-11-18T16:23:04.824Z"
   },
   {
    "duration": 4,
    "start_time": "2024-11-18T16:23:47.075Z"
   },
   {
    "duration": 1640,
    "start_time": "2024-11-18T16:23:51.762Z"
   },
   {
    "duration": 49,
    "start_time": "2024-11-18T16:23:53.404Z"
   },
   {
    "duration": 20,
    "start_time": "2024-11-18T16:23:53.454Z"
   },
   {
    "duration": 9,
    "start_time": "2024-11-18T16:23:53.476Z"
   },
   {
    "duration": 4,
    "start_time": "2024-11-18T16:23:53.487Z"
   },
   {
    "duration": 24,
    "start_time": "2024-11-18T16:23:53.492Z"
   },
   {
    "duration": 4,
    "start_time": "2024-11-18T16:23:53.518Z"
   },
   {
    "duration": 67,
    "start_time": "2024-11-18T16:23:53.523Z"
   },
   {
    "duration": 260,
    "start_time": "2024-11-18T16:23:53.592Z"
   },
   {
    "duration": 233,
    "start_time": "2024-11-18T16:23:53.854Z"
   },
   {
    "duration": 259,
    "start_time": "2024-11-18T16:23:54.089Z"
   },
   {
    "duration": 143,
    "start_time": "2024-11-18T16:23:54.349Z"
   },
   {
    "duration": 840,
    "start_time": "2024-11-18T16:23:54.493Z"
   },
   {
    "duration": 319,
    "start_time": "2024-11-18T16:23:55.336Z"
   },
   {
    "duration": 728,
    "start_time": "2024-11-18T16:23:55.656Z"
   },
   {
    "duration": 5,
    "start_time": "2024-11-18T16:28:24.460Z"
   },
   {
    "duration": 5,
    "start_time": "2024-11-18T16:28:37.362Z"
   },
   {
    "duration": 2304,
    "start_time": "2024-11-18T16:29:19.742Z"
   },
   {
    "duration": 6948,
    "start_time": "2024-11-18T16:29:32.689Z"
   },
   {
    "duration": 1582,
    "start_time": "2024-11-18T16:34:18.412Z"
   },
   {
    "duration": 48,
    "start_time": "2024-11-18T16:34:19.996Z"
   },
   {
    "duration": 17,
    "start_time": "2024-11-18T16:34:20.045Z"
   },
   {
    "duration": 9,
    "start_time": "2024-11-18T16:34:20.064Z"
   },
   {
    "duration": 22,
    "start_time": "2024-11-18T16:34:20.075Z"
   },
   {
    "duration": 24,
    "start_time": "2024-11-18T16:34:20.098Z"
   },
   {
    "duration": 4,
    "start_time": "2024-11-18T16:34:20.123Z"
   },
   {
    "duration": 36,
    "start_time": "2024-11-18T16:34:20.128Z"
   },
   {
    "duration": 262,
    "start_time": "2024-11-18T16:34:20.166Z"
   },
   {
    "duration": 262,
    "start_time": "2024-11-18T16:34:20.430Z"
   },
   {
    "duration": 254,
    "start_time": "2024-11-18T16:34:20.694Z"
   },
   {
    "duration": 147,
    "start_time": "2024-11-18T16:34:20.950Z"
   },
   {
    "duration": 828,
    "start_time": "2024-11-18T16:34:21.099Z"
   },
   {
    "duration": 309,
    "start_time": "2024-11-18T16:34:21.930Z"
   },
   {
    "duration": 731,
    "start_time": "2024-11-18T16:34:22.241Z"
   },
   {
    "duration": 5,
    "start_time": "2024-11-18T16:34:22.974Z"
   },
   {
    "duration": 6,
    "start_time": "2024-11-18T16:34:22.981Z"
   },
   {
    "duration": 330,
    "start_time": "2024-11-18T16:34:22.989Z"
   },
   {
    "duration": 0,
    "start_time": "2024-11-18T16:34:23.320Z"
   },
   {
    "duration": 1613,
    "start_time": "2024-11-18T16:39:51.812Z"
   },
   {
    "duration": 48,
    "start_time": "2024-11-18T16:39:53.427Z"
   },
   {
    "duration": 16,
    "start_time": "2024-11-18T16:39:53.477Z"
   },
   {
    "duration": 8,
    "start_time": "2024-11-18T16:39:53.495Z"
   },
   {
    "duration": 17,
    "start_time": "2024-11-18T16:39:53.505Z"
   },
   {
    "duration": 25,
    "start_time": "2024-11-18T16:39:53.523Z"
   },
   {
    "duration": 3,
    "start_time": "2024-11-18T16:39:53.550Z"
   },
   {
    "duration": 36,
    "start_time": "2024-11-18T16:39:53.570Z"
   },
   {
    "duration": 258,
    "start_time": "2024-11-18T16:39:53.607Z"
   },
   {
    "duration": 238,
    "start_time": "2024-11-18T16:39:53.866Z"
   },
   {
    "duration": 270,
    "start_time": "2024-11-18T16:39:54.106Z"
   },
   {
    "duration": 148,
    "start_time": "2024-11-18T16:39:54.378Z"
   },
   {
    "duration": 880,
    "start_time": "2024-11-18T16:39:54.528Z"
   },
   {
    "duration": 300,
    "start_time": "2024-11-18T16:39:55.411Z"
   },
   {
    "duration": 707,
    "start_time": "2024-11-18T16:39:55.712Z"
   },
   {
    "duration": 150,
    "start_time": "2024-11-18T16:39:56.420Z"
   },
   {
    "duration": 0,
    "start_time": "2024-11-18T16:39:56.571Z"
   },
   {
    "duration": 0,
    "start_time": "2024-11-18T16:39:56.572Z"
   },
   {
    "duration": 0,
    "start_time": "2024-11-18T16:39:56.573Z"
   },
   {
    "duration": 7,
    "start_time": "2024-11-18T16:40:08.069Z"
   },
   {
    "duration": 5,
    "start_time": "2024-11-18T16:40:09.903Z"
   },
   {
    "duration": 275,
    "start_time": "2024-11-18T16:40:11.868Z"
   },
   {
    "duration": 294,
    "start_time": "2024-11-18T16:41:33.808Z"
   },
   {
    "duration": 19,
    "start_time": "2024-11-18T16:59:18.197Z"
   },
   {
    "duration": 8,
    "start_time": "2024-11-18T16:59:24.060Z"
   },
   {
    "duration": 4,
    "start_time": "2024-11-18T16:59:25.788Z"
   },
   {
    "duration": 403,
    "start_time": "2024-11-18T16:59:33.167Z"
   },
   {
    "duration": 4,
    "start_time": "2024-11-18T16:59:50.359Z"
   },
   {
    "duration": 360,
    "start_time": "2024-11-18T16:59:54.522Z"
   },
   {
    "duration": 57892,
    "start_time": "2024-11-18T17:00:46.255Z"
   },
   {
    "duration": 18,
    "start_time": "2024-11-18T17:05:50.528Z"
   },
   {
    "duration": 29,
    "start_time": "2024-11-18T17:06:12.243Z"
   },
   {
    "duration": 332,
    "start_time": "2024-11-18T17:06:21.972Z"
   },
   {
    "duration": 165437,
    "start_time": "2024-11-18T17:06:56.936Z"
   },
   {
    "duration": 1699,
    "start_time": "2024-11-18T17:27:57.766Z"
   },
   {
    "duration": 49,
    "start_time": "2024-11-18T17:27:59.469Z"
   },
   {
    "duration": 20,
    "start_time": "2024-11-18T17:27:59.519Z"
   },
   {
    "duration": 16,
    "start_time": "2024-11-18T17:27:59.541Z"
   },
   {
    "duration": 58,
    "start_time": "2024-11-18T17:27:59.558Z"
   },
   {
    "duration": 26,
    "start_time": "2024-11-18T17:27:59.618Z"
   },
   {
    "duration": 3,
    "start_time": "2024-11-18T17:27:59.645Z"
   },
   {
    "duration": 35,
    "start_time": "2024-11-18T17:27:59.650Z"
   },
   {
    "duration": 260,
    "start_time": "2024-11-18T17:27:59.687Z"
   },
   {
    "duration": 247,
    "start_time": "2024-11-18T17:27:59.950Z"
   },
   {
    "duration": 272,
    "start_time": "2024-11-18T17:28:00.199Z"
   },
   {
    "duration": 161,
    "start_time": "2024-11-18T17:28:00.472Z"
   },
   {
    "duration": 902,
    "start_time": "2024-11-18T17:28:00.635Z"
   },
   {
    "duration": 316,
    "start_time": "2024-11-18T17:28:01.539Z"
   },
   {
    "duration": 732,
    "start_time": "2024-11-18T17:28:01.856Z"
   },
   {
    "duration": 7,
    "start_time": "2024-11-18T17:28:02.590Z"
   },
   {
    "duration": 20,
    "start_time": "2024-11-18T17:28:02.599Z"
   },
   {
    "duration": 3,
    "start_time": "2024-11-18T17:28:02.621Z"
   },
   {
    "duration": 362,
    "start_time": "2024-11-18T17:28:02.625Z"
   },
   {
    "duration": 54279,
    "start_time": "2024-11-18T17:28:02.988Z"
   },
   {
    "duration": 43602,
    "start_time": "2024-11-18T17:28:57.270Z"
   },
   {
    "duration": 298,
    "start_time": "2024-11-18T17:29:40.874Z"
   },
   {
    "duration": 442,
    "start_time": "2024-11-18T17:29:41.173Z"
   },
   {
    "duration": 11,
    "start_time": "2024-11-18T17:42:06.746Z"
   },
   {
    "duration": 41,
    "start_time": "2024-11-18T17:42:36.517Z"
   },
   {
    "duration": 37,
    "start_time": "2024-11-18T17:42:44.237Z"
   },
   {
    "duration": 1633,
    "start_time": "2024-11-18T17:44:36.894Z"
   },
   {
    "duration": 46,
    "start_time": "2024-11-18T17:44:38.529Z"
   },
   {
    "duration": 17,
    "start_time": "2024-11-18T17:44:38.577Z"
   },
   {
    "duration": 10,
    "start_time": "2024-11-18T17:44:38.595Z"
   },
   {
    "duration": 4,
    "start_time": "2024-11-18T17:44:38.607Z"
   },
   {
    "duration": 22,
    "start_time": "2024-11-18T17:44:38.612Z"
   },
   {
    "duration": 3,
    "start_time": "2024-11-18T17:44:38.636Z"
   },
   {
    "duration": 62,
    "start_time": "2024-11-18T17:44:38.640Z"
   },
   {
    "duration": 256,
    "start_time": "2024-11-18T17:44:38.704Z"
   },
   {
    "duration": 228,
    "start_time": "2024-11-18T17:44:38.961Z"
   },
   {
    "duration": 270,
    "start_time": "2024-11-18T17:44:39.191Z"
   },
   {
    "duration": 142,
    "start_time": "2024-11-18T17:44:39.463Z"
   },
   {
    "duration": 831,
    "start_time": "2024-11-18T17:44:39.607Z"
   },
   {
    "duration": 317,
    "start_time": "2024-11-18T17:44:40.441Z"
   },
   {
    "duration": 702,
    "start_time": "2024-11-18T17:44:40.760Z"
   },
   {
    "duration": 7,
    "start_time": "2024-11-18T17:44:41.469Z"
   },
   {
    "duration": 67,
    "start_time": "2024-11-18T17:44:41.478Z"
   },
   {
    "duration": 3,
    "start_time": "2024-11-18T17:44:41.546Z"
   },
   {
    "duration": 340,
    "start_time": "2024-11-18T17:44:41.550Z"
   },
   {
    "duration": 53191,
    "start_time": "2024-11-18T17:44:41.892Z"
   },
   {
    "duration": 41489,
    "start_time": "2024-11-18T17:45:35.084Z"
   },
   {
    "duration": 99,
    "start_time": "2024-11-18T17:46:16.575Z"
   },
   {
    "duration": 1660,
    "start_time": "2024-11-18T17:47:10.158Z"
   },
   {
    "duration": 47,
    "start_time": "2024-11-18T17:47:11.819Z"
   },
   {
    "duration": 17,
    "start_time": "2024-11-18T17:47:11.868Z"
   },
   {
    "duration": 10,
    "start_time": "2024-11-18T17:47:11.886Z"
   },
   {
    "duration": 4,
    "start_time": "2024-11-18T17:47:11.897Z"
   },
   {
    "duration": 35,
    "start_time": "2024-11-18T17:47:11.902Z"
   },
   {
    "duration": 24,
    "start_time": "2024-11-18T17:47:11.939Z"
   },
   {
    "duration": 34,
    "start_time": "2024-11-18T17:47:11.965Z"
   },
   {
    "duration": 249,
    "start_time": "2024-11-18T17:47:12.000Z"
   },
   {
    "duration": 229,
    "start_time": "2024-11-18T17:47:12.250Z"
   },
   {
    "duration": 259,
    "start_time": "2024-11-18T17:47:12.480Z"
   },
   {
    "duration": 158,
    "start_time": "2024-11-18T17:47:12.741Z"
   },
   {
    "duration": 369,
    "start_time": "2024-11-18T17:47:12.901Z"
   },
   {
    "duration": 314,
    "start_time": "2024-11-18T17:47:13.272Z"
   },
   {
    "duration": 707,
    "start_time": "2024-11-18T17:47:13.588Z"
   },
   {
    "duration": 7,
    "start_time": "2024-11-18T17:47:14.296Z"
   },
   {
    "duration": 5,
    "start_time": "2024-11-18T17:47:14.305Z"
   },
   {
    "duration": 12,
    "start_time": "2024-11-18T17:47:14.312Z"
   },
   {
    "duration": 186,
    "start_time": "2024-11-18T17:47:14.326Z"
   },
   {
    "duration": 23126,
    "start_time": "2024-11-18T17:47:14.514Z"
   },
   {
    "duration": 51938,
    "start_time": "2024-11-18T17:47:37.642Z"
   },
   {
    "duration": 101,
    "start_time": "2024-11-18T17:48:29.581Z"
   },
   {
    "duration": 1670,
    "start_time": "2024-11-18T17:48:49.881Z"
   },
   {
    "duration": 47,
    "start_time": "2024-11-18T17:48:51.552Z"
   },
   {
    "duration": 16,
    "start_time": "2024-11-18T17:48:51.601Z"
   },
   {
    "duration": 9,
    "start_time": "2024-11-18T17:48:51.618Z"
   },
   {
    "duration": 10,
    "start_time": "2024-11-18T17:48:51.629Z"
   },
   {
    "duration": 18,
    "start_time": "2024-11-18T17:48:51.640Z"
   },
   {
    "duration": 4,
    "start_time": "2024-11-18T17:48:51.659Z"
   },
   {
    "duration": 25,
    "start_time": "2024-11-18T17:48:51.664Z"
   },
   {
    "duration": 275,
    "start_time": "2024-11-18T17:48:51.690Z"
   },
   {
    "duration": 240,
    "start_time": "2024-11-18T17:48:51.969Z"
   },
   {
    "duration": 260,
    "start_time": "2024-11-18T17:48:52.210Z"
   },
   {
    "duration": 147,
    "start_time": "2024-11-18T17:48:52.471Z"
   },
   {
    "duration": 377,
    "start_time": "2024-11-18T17:48:52.619Z"
   },
   {
    "duration": 319,
    "start_time": "2024-11-18T17:48:52.999Z"
   },
   {
    "duration": 733,
    "start_time": "2024-11-18T17:48:53.320Z"
   },
   {
    "duration": 15,
    "start_time": "2024-11-18T17:48:54.055Z"
   },
   {
    "duration": 36,
    "start_time": "2024-11-18T17:48:54.072Z"
   },
   {
    "duration": 22,
    "start_time": "2024-11-18T17:48:54.110Z"
   },
   {
    "duration": 176,
    "start_time": "2024-11-18T17:48:54.134Z"
   },
   {
    "duration": 22864,
    "start_time": "2024-11-18T17:48:54.312Z"
   },
   {
    "duration": 45197,
    "start_time": "2024-11-18T17:49:17.177Z"
   },
   {
    "duration": 19,
    "start_time": "2024-11-18T17:50:02.375Z"
   },
   {
    "duration": 139,
    "start_time": "2024-11-18T17:57:13.454Z"
   },
   {
    "duration": 4,
    "start_time": "2024-11-18T17:57:41.606Z"
   },
   {
    "duration": 179,
    "start_time": "2024-11-18T17:57:48.526Z"
   },
   {
    "duration": 28,
    "start_time": "2024-11-18T17:59:10.005Z"
   },
   {
    "duration": 1711,
    "start_time": "2024-11-18T18:08:09.201Z"
   },
   {
    "duration": 48,
    "start_time": "2024-11-18T18:08:10.914Z"
   },
   {
    "duration": 23,
    "start_time": "2024-11-18T18:08:10.964Z"
   },
   {
    "duration": 9,
    "start_time": "2024-11-18T18:08:10.989Z"
   },
   {
    "duration": 4,
    "start_time": "2024-11-18T18:08:11.000Z"
   },
   {
    "duration": 36,
    "start_time": "2024-11-18T18:08:11.006Z"
   },
   {
    "duration": 28,
    "start_time": "2024-11-18T18:08:11.044Z"
   },
   {
    "duration": 63,
    "start_time": "2024-11-18T18:08:11.075Z"
   },
   {
    "duration": 288,
    "start_time": "2024-11-18T18:08:11.139Z"
   },
   {
    "duration": 244,
    "start_time": "2024-11-18T18:08:11.429Z"
   },
   {
    "duration": 274,
    "start_time": "2024-11-18T18:08:11.675Z"
   },
   {
    "duration": 161,
    "start_time": "2024-11-18T18:08:11.951Z"
   },
   {
    "duration": 2580,
    "start_time": "2024-11-18T18:08:12.114Z"
   },
   {
    "duration": 287,
    "start_time": "2024-11-18T18:08:14.697Z"
   },
   {
    "duration": 673,
    "start_time": "2024-11-18T18:08:14.985Z"
   },
   {
    "duration": 15,
    "start_time": "2024-11-18T18:08:15.660Z"
   },
   {
    "duration": 67,
    "start_time": "2024-11-18T18:08:15.677Z"
   },
   {
    "duration": 8,
    "start_time": "2024-11-18T18:08:15.745Z"
   },
   {
    "duration": 3033,
    "start_time": "2024-11-18T18:08:15.754Z"
   },
   {
    "duration": 2289,
    "start_time": "2024-11-18T18:08:18.789Z"
   },
   {
    "duration": 119700,
    "start_time": "2024-11-18T18:08:21.088Z"
   },
   {
    "duration": 405595,
    "start_time": "2024-11-18T18:10:20.790Z"
   },
   {
    "duration": 119,
    "start_time": "2024-11-18T18:17:06.387Z"
   },
   {
    "duration": 1783,
    "start_time": "2024-11-18T18:20:35.443Z"
   },
   {
    "duration": 48,
    "start_time": "2024-11-18T18:20:37.228Z"
   },
   {
    "duration": 18,
    "start_time": "2024-11-18T18:20:37.278Z"
   },
   {
    "duration": 10,
    "start_time": "2024-11-18T18:20:37.298Z"
   },
   {
    "duration": 15,
    "start_time": "2024-11-18T18:20:37.310Z"
   },
   {
    "duration": 52,
    "start_time": "2024-11-18T18:20:37.327Z"
   },
   {
    "duration": 3,
    "start_time": "2024-11-18T18:20:37.381Z"
   },
   {
    "duration": 106,
    "start_time": "2024-11-18T18:20:37.386Z"
   },
   {
    "duration": 264,
    "start_time": "2024-11-18T18:20:37.493Z"
   },
   {
    "duration": 256,
    "start_time": "2024-11-18T18:20:37.758Z"
   },
   {
    "duration": 298,
    "start_time": "2024-11-18T18:20:38.017Z"
   },
   {
    "duration": 145,
    "start_time": "2024-11-18T18:20:38.316Z"
   },
   {
    "duration": 6456,
    "start_time": "2024-11-18T18:20:38.463Z"
   },
   {
    "duration": 288,
    "start_time": "2024-11-18T18:20:44.921Z"
   },
   {
    "duration": 764,
    "start_time": "2024-11-18T18:20:45.211Z"
   },
   {
    "duration": 10,
    "start_time": "2024-11-18T18:20:45.977Z"
   },
   {
    "duration": 4,
    "start_time": "2024-11-18T18:20:45.989Z"
   },
   {
    "duration": 3,
    "start_time": "2024-11-18T18:20:45.995Z"
   },
   {
    "duration": 3189,
    "start_time": "2024-11-18T18:20:45.999Z"
   },
   {
    "duration": 1699,
    "start_time": "2024-11-18T18:20:49.274Z"
   },
   {
    "duration": 209680,
    "start_time": "2024-11-18T18:20:50.975Z"
   },
   {
    "duration": 112715,
    "start_time": "2024-11-18T18:24:20.657Z"
   },
   {
    "duration": 304,
    "start_time": "2024-11-18T18:26:13.374Z"
   },
   {
    "duration": 1373,
    "start_time": "2024-11-18T18:28:41.675Z"
   },
   {
    "duration": 371,
    "start_time": "2024-11-18T18:30:14.048Z"
   },
   {
    "duration": 164,
    "start_time": "2024-11-18T18:33:22.629Z"
   },
   {
    "duration": 1625,
    "start_time": "2024-11-18T18:37:27.009Z"
   },
   {
    "duration": 48,
    "start_time": "2024-11-18T18:37:28.635Z"
   },
   {
    "duration": 17,
    "start_time": "2024-11-18T18:37:28.684Z"
   },
   {
    "duration": 9,
    "start_time": "2024-11-18T18:37:28.703Z"
   },
   {
    "duration": 4,
    "start_time": "2024-11-18T18:37:28.713Z"
   },
   {
    "duration": 69,
    "start_time": "2024-11-18T18:37:28.718Z"
   },
   {
    "duration": 3,
    "start_time": "2024-11-18T18:37:28.789Z"
   },
   {
    "duration": 103,
    "start_time": "2024-11-18T18:37:28.794Z"
   },
   {
    "duration": 256,
    "start_time": "2024-11-18T18:37:28.899Z"
   },
   {
    "duration": 241,
    "start_time": "2024-11-18T18:37:29.156Z"
   },
   {
    "duration": 264,
    "start_time": "2024-11-18T18:37:29.398Z"
   },
   {
    "duration": 139,
    "start_time": "2024-11-18T18:37:29.664Z"
   },
   {
    "duration": 344,
    "start_time": "2024-11-18T18:37:29.805Z"
   },
   {
    "duration": 304,
    "start_time": "2024-11-18T18:37:30.151Z"
   },
   {
    "duration": 707,
    "start_time": "2024-11-18T18:37:30.456Z"
   },
   {
    "duration": 9,
    "start_time": "2024-11-18T18:37:31.164Z"
   },
   {
    "duration": 14,
    "start_time": "2024-11-18T18:37:31.175Z"
   },
   {
    "duration": 13,
    "start_time": "2024-11-18T18:37:31.191Z"
   },
   {
    "duration": 2473,
    "start_time": "2024-11-18T18:37:31.205Z"
   },
   {
    "duration": 195295,
    "start_time": "2024-11-18T18:37:33.680Z"
   },
   {
    "duration": 71205,
    "start_time": "2024-11-18T18:40:48.977Z"
   },
   {
    "duration": 307,
    "start_time": "2024-11-18T18:42:00.183Z"
   },
   {
    "duration": 1749,
    "start_time": "2024-11-19T17:34:16.704Z"
   },
   {
    "duration": 96,
    "start_time": "2024-11-19T17:34:21.588Z"
   },
   {
    "duration": 17,
    "start_time": "2024-11-19T17:34:24.032Z"
   },
   {
    "duration": 8,
    "start_time": "2024-11-19T17:34:26.975Z"
   },
   {
    "duration": 3,
    "start_time": "2024-11-19T17:34:31.061Z"
   },
   {
    "duration": 12,
    "start_time": "2024-11-19T17:34:32.956Z"
   },
   {
    "duration": 227,
    "start_time": "2024-11-19T17:34:35.624Z"
   },
   {
    "duration": 193,
    "start_time": "2024-11-19T17:34:39.885Z"
   },
   {
    "duration": 216,
    "start_time": "2024-11-19T17:34:45.306Z"
   },
   {
    "duration": 116,
    "start_time": "2024-11-19T17:35:23.182Z"
   },
   {
    "duration": 120,
    "start_time": "2024-11-19T17:38:25.670Z"
   },
   {
    "duration": 688,
    "start_time": "2024-11-19T17:38:37.880Z"
   },
   {
    "duration": 3,
    "start_time": "2024-11-19T17:38:43.116Z"
   },
   {
    "duration": 26,
    "start_time": "2024-11-19T17:39:07.706Z"
   },
   {
    "duration": 4,
    "start_time": "2024-11-19T17:39:27.589Z"
   },
   {
    "duration": 19,
    "start_time": "2024-11-19T17:39:29.636Z"
   },
   {
    "duration": 10,
    "start_time": "2024-11-19T17:39:51.751Z"
   },
   {
    "duration": 5,
    "start_time": "2024-11-19T17:39:53.881Z"
   },
   {
    "duration": 5,
    "start_time": "2024-11-19T17:40:01.728Z"
   },
   {
    "duration": 3,
    "start_time": "2024-11-19T17:40:03.631Z"
   },
   {
    "duration": 2067,
    "start_time": "2024-11-19T17:40:05.293Z"
   },
   {
    "duration": 178180,
    "start_time": "2024-11-19T17:40:10.068Z"
   },
   {
    "duration": 39249,
    "start_time": "2024-11-19T17:43:08.249Z"
   },
   {
    "duration": 0,
    "start_time": "2024-11-19T17:43:47.500Z"
   },
   {
    "duration": 1535,
    "start_time": "2024-11-19T17:43:51.460Z"
   },
   {
    "duration": 47,
    "start_time": "2024-11-19T17:43:52.996Z"
   },
   {
    "duration": 16,
    "start_time": "2024-11-19T17:43:53.045Z"
   },
   {
    "duration": 8,
    "start_time": "2024-11-19T17:43:53.062Z"
   },
   {
    "duration": 3,
    "start_time": "2024-11-19T17:43:53.072Z"
   },
   {
    "duration": 9,
    "start_time": "2024-11-19T17:43:53.076Z"
   },
   {
    "duration": 239,
    "start_time": "2024-11-19T17:43:53.086Z"
   },
   {
    "duration": 208,
    "start_time": "2024-11-19T17:43:53.326Z"
   },
   {
    "duration": 240,
    "start_time": "2024-11-19T17:43:53.536Z"
   },
   {
    "duration": 128,
    "start_time": "2024-11-19T17:43:53.777Z"
   },
   {
    "duration": 128,
    "start_time": "2024-11-19T17:43:53.906Z"
   },
   {
    "duration": 572,
    "start_time": "2024-11-19T17:43:54.036Z"
   },
   {
    "duration": 3,
    "start_time": "2024-11-19T17:43:54.609Z"
   },
   {
    "duration": 85,
    "start_time": "2024-11-19T17:43:54.615Z"
   },
   {
    "duration": 71,
    "start_time": "2024-11-19T17:43:54.701Z"
   },
   {
    "duration": 4,
    "start_time": "2024-11-19T17:43:54.774Z"
   },
   {
    "duration": 8,
    "start_time": "2024-11-19T17:43:54.779Z"
   },
   {
    "duration": 1971,
    "start_time": "2024-11-19T17:43:54.788Z"
   },
   {
    "duration": 177702,
    "start_time": "2024-11-19T17:43:56.761Z"
   },
   {
    "duration": 77796,
    "start_time": "2024-11-19T17:46:54.464Z"
   },
   {
    "duration": 30,
    "start_time": "2024-11-19T17:48:12.261Z"
   },
   {
    "duration": 185,
    "start_time": "2024-11-19T17:50:04.647Z"
   },
   {
    "duration": 1801,
    "start_time": "2024-11-20T10:23:49.675Z"
   },
   {
    "duration": 175,
    "start_time": "2024-11-20T10:23:51.478Z"
   },
   {
    "duration": 19,
    "start_time": "2024-11-20T10:23:51.655Z"
   },
   {
    "duration": 8,
    "start_time": "2024-11-20T10:23:51.676Z"
   },
   {
    "duration": 3,
    "start_time": "2024-11-20T10:23:51.686Z"
   },
   {
    "duration": 14,
    "start_time": "2024-11-20T10:23:51.690Z"
   },
   {
    "duration": 263,
    "start_time": "2024-11-20T10:23:51.705Z"
   },
   {
    "duration": 244,
    "start_time": "2024-11-20T10:23:51.970Z"
   },
   {
    "duration": 264,
    "start_time": "2024-11-20T10:23:52.216Z"
   },
   {
    "duration": 142,
    "start_time": "2024-11-20T10:23:52.482Z"
   },
   {
    "duration": 146,
    "start_time": "2024-11-20T10:23:52.626Z"
   },
   {
    "duration": 780,
    "start_time": "2024-11-20T10:23:52.773Z"
   },
   {
    "duration": 4,
    "start_time": "2024-11-20T10:23:53.554Z"
   },
   {
    "duration": 85,
    "start_time": "2024-11-20T10:23:53.559Z"
   },
   {
    "duration": 11,
    "start_time": "2024-11-20T10:23:53.646Z"
   },
   {
    "duration": 5,
    "start_time": "2024-11-20T10:23:53.659Z"
   },
   {
    "duration": 28,
    "start_time": "2024-11-20T10:23:53.666Z"
   },
   {
    "duration": 2629,
    "start_time": "2024-11-20T10:23:53.696Z"
   },
   {
    "duration": 167710,
    "start_time": "2024-11-20T10:23:56.327Z"
   },
   {
    "duration": 60383,
    "start_time": "2024-11-20T10:26:44.039Z"
   },
   {
    "duration": 37,
    "start_time": "2024-11-20T10:27:44.423Z"
   },
   {
    "duration": 219,
    "start_time": "2024-11-20T10:27:44.462Z"
   },
   {
    "duration": 12,
    "start_time": "2024-11-20T10:33:26.495Z"
   },
   {
    "duration": 175,
    "start_time": "2024-11-20T10:33:35.441Z"
   },
   {
    "duration": 1664,
    "start_time": "2024-11-20T10:35:09.986Z"
   },
   {
    "duration": 53,
    "start_time": "2024-11-20T10:35:11.652Z"
   },
   {
    "duration": 18,
    "start_time": "2024-11-20T10:35:11.707Z"
   },
   {
    "duration": 10,
    "start_time": "2024-11-20T10:35:11.726Z"
   },
   {
    "duration": 3,
    "start_time": "2024-11-20T10:35:11.738Z"
   },
   {
    "duration": 10,
    "start_time": "2024-11-20T10:35:11.743Z"
   },
   {
    "duration": 270,
    "start_time": "2024-11-20T10:35:11.755Z"
   },
   {
    "duration": 238,
    "start_time": "2024-11-20T10:35:12.026Z"
   },
   {
    "duration": 259,
    "start_time": "2024-11-20T10:35:12.265Z"
   },
   {
    "duration": 136,
    "start_time": "2024-11-20T10:35:12.526Z"
   },
   {
    "duration": 146,
    "start_time": "2024-11-20T10:35:12.663Z"
   },
   {
    "duration": 625,
    "start_time": "2024-11-20T10:35:12.811Z"
   },
   {
    "duration": 4,
    "start_time": "2024-11-20T10:35:13.437Z"
   },
   {
    "duration": 38,
    "start_time": "2024-11-20T10:35:13.443Z"
   },
   {
    "duration": 109,
    "start_time": "2024-11-20T10:35:13.483Z"
   },
   {
    "duration": 42,
    "start_time": "2024-11-20T10:35:13.593Z"
   },
   {
    "duration": 3,
    "start_time": "2024-11-20T10:35:13.637Z"
   },
   {
    "duration": 2584,
    "start_time": "2024-11-20T10:35:13.642Z"
   },
   {
    "duration": 161097,
    "start_time": "2024-11-20T10:35:16.228Z"
   },
   {
    "duration": 61500,
    "start_time": "2024-11-20T10:37:57.328Z"
   },
   {
    "duration": 95,
    "start_time": "2024-11-20T10:38:58.829Z"
   },
   {
    "duration": 215,
    "start_time": "2024-11-20T10:38:58.926Z"
   },
   {
    "duration": 1633,
    "start_time": "2024-11-20T10:40:59.400Z"
   },
   {
    "duration": 53,
    "start_time": "2024-11-20T10:41:01.034Z"
   },
   {
    "duration": 15,
    "start_time": "2024-11-20T10:41:01.089Z"
   },
   {
    "duration": 65,
    "start_time": "2024-11-20T10:41:01.105Z"
   },
   {
    "duration": 31,
    "start_time": "2024-11-20T10:41:01.172Z"
   },
   {
    "duration": 35,
    "start_time": "2024-11-20T10:41:01.204Z"
   },
   {
    "duration": 269,
    "start_time": "2024-11-20T10:41:01.240Z"
   },
   {
    "duration": 223,
    "start_time": "2024-11-20T10:41:01.511Z"
   },
   {
    "duration": 262,
    "start_time": "2024-11-20T10:41:01.735Z"
   },
   {
    "duration": 137,
    "start_time": "2024-11-20T10:41:01.999Z"
   },
   {
    "duration": 136,
    "start_time": "2024-11-20T10:41:02.138Z"
   },
   {
    "duration": 645,
    "start_time": "2024-11-20T10:41:02.276Z"
   },
   {
    "duration": 5,
    "start_time": "2024-11-20T10:41:02.923Z"
   },
   {
    "duration": 160,
    "start_time": "2024-11-20T10:41:02.932Z"
   },
   {
    "duration": 10,
    "start_time": "2024-11-20T10:41:03.094Z"
   },
   {
    "duration": 68,
    "start_time": "2024-11-20T10:41:03.105Z"
   },
   {
    "duration": 35,
    "start_time": "2024-11-20T10:41:03.174Z"
   },
   {
    "duration": 2418,
    "start_time": "2024-11-20T10:41:03.210Z"
   },
   {
    "duration": 159595,
    "start_time": "2024-11-20T10:41:05.631Z"
   },
   {
    "duration": 61306,
    "start_time": "2024-11-20T10:43:45.227Z"
   },
   {
    "duration": 94,
    "start_time": "2024-11-20T10:44:46.535Z"
   },
   {
    "duration": 255,
    "start_time": "2024-11-20T10:44:46.630Z"
   }
  ],
  "kernelspec": {
   "display_name": "Python 3 (ipykernel)",
   "language": "python",
   "name": "python3"
  },
  "language_info": {
   "codemirror_mode": {
    "name": "ipython",
    "version": 3
   },
   "file_extension": ".py",
   "mimetype": "text/x-python",
   "name": "python",
   "nbconvert_exporter": "python",
   "pygments_lexer": "ipython3",
   "version": "3.9.5"
  },
  "toc": {
   "base_numbering": 1,
   "nav_menu": {},
   "number_sections": true,
   "sideBar": true,
   "skip_h1_title": true,
   "title_cell": "Содержание",
   "title_sidebar": "Contents",
   "toc_cell": true,
   "toc_position": {},
   "toc_section_display": true,
   "toc_window_display": true
  }
 },
 "nbformat": 4,
 "nbformat_minor": 2
}
