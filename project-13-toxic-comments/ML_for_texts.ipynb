{
 "cells": [
  {
   "cell_type": "markdown",
   "id": "31cc462a",
   "metadata": {},
   "source": [
    "<div style=\"border:solid Chocolate 2px; padding: 40px\">\n",
    "\n",
    "Привет, меня зовут Александр Куимов. Я буду ревьюером твоего проекта. Ты можешь обращаться ко мне на \"ты\"😏 Надеюсь, тебя также не смутит, если я буду обращаться к тебе на \"ты\", но если это неудобно, обязательно скажи об этом!\n",
    "\n",
    "**Пожалуйста, не перемещай, не изменяй и не удаляй мои комментарии**, они будут особенно полезны для нашей работы в случае повторной проверки проекта. \n",
    "\n",
    "Прошу реагировать на все мои комментарии, по которым ты вносишь правки в проект, своими комментариями по шаблону, показанному чуть ниже. На каждое мое замечание нужно отвечать комментарием студента в маркдаун ячейке **ниже моей. Это нужно, чтобы не создавалась путаница**.😉\n",
    "\n",
    "Ты можешь найти мои комментарии, обозначенные <font color='green'>зеленым</font>, <font color='gold'>желтым</font> и <font color='red'>красным</font> цветами, например:\n",
    "\n",
    "<br/>\n",
    "\n",
    "<div class=\"alert alert-success\">\n",
    "<h2> Комментарий ревьюера <a class=\"tocSkip\"> </h2>\n",
    "\n",
    "<b>Все отлично!👍:</b> В случае, если решение на отдельном шаге является полностью правильным.\n",
    "</div>\n",
    "\n",
    "<br/>\n",
    " \n",
    "<div class=\"alert alert-warning\">\n",
    "    <h2> Комментарий ревьюера <a class=\"tocSkip\"> </h2>\n",
    "    \n",
    "<b>Некоторые замечания и рекомендации💡:</b> В случае, когда решение на отдельном шаге станет еще лучше, если внести небольшие коррективы.\n",
    "</div>\n",
    "\n",
    "\n",
    "<br/>\n",
    "<div class=\"alert alert-block alert-danger\">\n",
    "<h2> Комментарий ревьюера <a class=\"tocSkip\"></h2>\n",
    "\n",
    "    \n",
    "<b>На доработку🤔:</b>\n",
    " В случае, когда решение на отдельном шаге требует существенной переработки и внесения правок. Напоминаю, что проект не может быть принят с первого раза, если ревью содержит комментарии, рекомендующие доработать шаги.\n",
    "</div>\n",
    "    \n",
    "    \n",
    "<br/>    \n",
    "<div class=\"alert alert-info\">\n",
    "<h2> Комментарий студента: <a class=\"tocSkip\"> </h2>\n",
    "\n",
    "<b>👋:</b> В такой цветовой ячейке - образце я прошу тебя оставлять твои комментарии. **Обязательно сохрани в нем заголовок \"Комментарий студента\" в каждой твоей ячейке**. Если исправляешь проект во второй раз и далее, не забывай пожалуйста указывать номер итерации, например, \"Комментарий студента 2\". У меня к этому моменту уже появится нумерация в моих комментариях.\n",
    "</div> \n",
    "\n",
    "<br/>    \n",
    "    \n",
    "Увидев у тебя неточность, в первый раз я лишь укажу на ее наличие и дам тебе возможность самому найти и исправить ее. На реальной работе твой руководитель будет поступать также, и я пытаюсь подготовить тебя именно к работе датасаентистом. Но если ты пока не справишься с такой задачей - при следующей проверке я дам более точную подсказку!🤓\n",
    "    \n",
    "   **Если у тебя будут возникают какие-то сложности, связанные с выполнением этого проекта**, то я смогу отвечать тебе на вопросы только в ходе ревью до 24 часов на основании соглашения об уровне услуг SLA (это может быть любое время суток, даже ночью), и к сожалению, каждые из таких ревью расходуют доступные иттерации (их всего 6). \n",
    "Лучшее решение в подобных случаях - обратиться за помощью к преподавателю по проектам в треде для получения оперативных консультаций. На всякий случай акцентирую, что преподаватель отвечает в тредах, а в личку не отвечает. В редких случаях может возникнуть ситуация, когда преподаватель не ответил вовремя, в таком случае рекомендую связаться с куратором для оперативного решения вопроса.\n",
    "    \n",
    "   **Если у тебя будут возникают вопросы, которые не касаются проекта и моих комментариев в нем**, а касаются теории и спринта, то я смогу кратко тебе ответить, а подробнее на вопрос тебе ответит преподаватель и по запросу сможет подобрать материал адекватный текущему прогрессу курса (только нужно написать ему в тред) 🤓   "
   ]
  },
  {
   "cell_type": "markdown",
   "id": "01fc19c4-687d-4a38-9f8b-559fec5f1f0b",
   "metadata": {},
   "source": [
    "# Проект для «Викишоп»"
   ]
  },
  {
   "cell_type": "markdown",
   "id": "47db9084-299a-4514-8c41-151a29ccdbec",
   "metadata": {},
   "source": [
    "Интернет-магазин «Викишоп» запускает новый сервис. Теперь пользователи могут редактировать и дополнять описания товаров, как в вики-сообществах. То есть клиенты предлагают свои правки и комментируют изменения других. Магазину нужен инструмент, который будет искать токсичные комментарии и отправлять их на модерацию. \n",
    "\n",
    "Обучите модель классифицировать комментарии на позитивные и негативные. В вашем распоряжении набор данных с разметкой о токсичности правок.\n",
    "\n",
    "Постройте модель со значением метрики качества *F1* не меньше 0.75. \n",
    "\n",
    "**Инструкция по выполнению проекта**\n",
    "\n",
    "1. Загрузите и подготовьте данные.\n",
    "2. Обучите разные модели. \n",
    "3. Сделайте выводы.\n",
    "\n",
    "Для выполнения проекта применять *BERT* необязательно, но вы можете попробовать.\n",
    "\n",
    "**Описание данных**\n",
    "\n",
    "Данные находятся в файле `toxic_comments.csv`. Столбец *text* в нём содержит текст комментария, а *toxic* — целевой признак."
   ]
  },
  {
   "cell_type": "code",
   "execution_count": 1,
   "id": "60328f21-901b-4de0-9c8b-2d33c9f7a4ba",
   "metadata": {},
   "outputs": [],
   "source": [
    "!pip install numpy==1.24.3 --force-reinstall\n",
    "!pip install spacy==3.5.1\n",
    "!python -m spacy download en_core_web_sm\n",
    "!pip install transformers -q\n",
    "!pip install torch -q\n",
    "!pip install torch torchvision torchaudio -q\n",
    "!pip install ipywidgets --upgrade -q\n",
    "!pip install -U imbalanced-learn -q"
   ]
  },
  {
   "cell_type": "code",
   "execution_count": 2,
   "id": "952682c8-7415-4335-8bba-cd46e86324f6",
   "metadata": {},
   "outputs": [],
   "source": [
    "import pandas as pd\n",
    "import numpy as np\n",
    "import seaborn as sns\n",
    "import matplotlib.pyplot as plt\n",
    "import re\n",
    "import nltk\n",
    "from nltk.corpus import stopwords\n",
    "from sklearn.feature_extraction.text import TfidfVectorizer\n",
    "from sklearn.model_selection import train_test_split, RandomizedSearchCV\n",
    "from sklearn.linear_model import LogisticRegression\n",
    "from sklearn.svm import SVC\n",
    "from sklearn.pipeline import Pipeline\n",
    "from sklearn.preprocessing import FunctionTransformer\n",
    "from sklearn.metrics import f1_score, make_scorer\n",
    "import lightgbm as lgb\n",
    "from scipy.stats import uniform"
   ]
  },
  {
   "cell_type": "markdown",
   "id": "bcc3054d",
   "metadata": {},
   "source": [
    " <br/>\n",
    "<div class=\"alert alert-block alert-danger\">\n",
    "<h2> Комментарий ревьюера   <a class=\"tocSkip\"></h2>\n",
    "    \n",
    "<b>На доработку🤔:</b>\n",
    "\n",
    "</b> Ячейка выше не отработала. Прошу проверить работоспособность кода на Платформе Практикума, но не локально - это можно сделать, нажав на панели Платформы Практикума (Jupiter Hub)\n",
    "    \n",
    "`Kernel` и `Restart & Run All`. Исправь, пожалуйста.\n",
    "\n",
    "В этом требовании есть рациональное зерно. Согласись, если ты будешь презетновать свою работу на чужом компьютере (например руководителю), то не важно, работал ли проект у тебя на комьютере, он должен работать там, где ты будешь его запускать.\n",
    "\n",
    "Еще при выполнении первых проектов у тебя было ознакомление с \"Рекомендациями по выполнению проектов\", где сформулировано это правило, инструкция: « Установка окружения — как избежать конфликта версий библиотек»\n",
    "\n",
    "**Ниже приведу типичные распространенные проблемы, приводящие к падению кода:**\n",
    "\n",
    "- Если пытаться импортировать библиотеку, которая не установлена в виртуальном окружении Jupiter Hub (или там, где был запущен блокнот), то код с импортами упадет. Закомментированный/отключенный код по установке библиотеки в виртуальном окружении Jupiter Hub равнозначен отсутсвию этой установки. Как и код-ячейка с установкой библиотеки, которая расположена ниже код-ячейки с импортом библиотеки равнозначна отсутсвию этой установки. \n",
    "- Облачный Юпитер практикума является коммунальным ресурсом, который может использоваться несколькими пользователями. Окружение (набор библиотек) может быть изменено командами pip каждым пользователем.\n",
    "- Раз в несколько часов окружение может быть возвращено в первоначальное состояние, так как вся виртуальная машина перевыпускается, чтобы восстановиться от всех накопившихся экспериментов с pip. Таким образом, в своих блокнотах нужно заботиться об установке нужных версий библиотек.\n",
    "- В облачном Юпитере Практикума по умолчанию стоят не самые новые версии библиотек. Поэтому некоторый (более современный) код может не работать. Некоторых библиотек сразу может быть не установлено вообще.\n",
    "- В блокнот проекта нужно вставить ячейку с командами обновления библиотек до НУЖНЫХ версий, например:\n",
    "    ```\n",
    "!pip install -U scikit-learn\n",
    "!pip install numpy==...\n",
    "!pip install shap\n",
    "    ```\n",
    "После выполнения этой ячейки нужно перезагрузить ядро с помощью меню Kernel.\n",
    "Импорт библиотек можно делать ТОЛЬКО после этого, чтобы изменения могли вступить в силу.\n",
    "- Как определить нужную версию? Только на практике можно это понять, по тексту ошибок, по форумам, по опыту, по тому коду, который используется в своем блокноте.\n",
    "\n",
    "- Также в  инструкции на Платформе есть файл `da_practicum_env.yml`, в котором перечислены версии установленных в Юпитере Практикума библиотек. Посмотри этот файл. Мы - ревьюеры используем именно это окружение.\n",
    " \n",
    "    \n",
    "**Если проблема остается непонятной, то советую тебе обратиться за помощью к преподавателю по проектам, что возможно поможет объяснить ее под другим углом**    "
   ]
  },
  {
   "cell_type": "markdown",
   "id": "e44df1b9",
   "metadata": {},
   "source": [
    "<div class=\"alert alert-success\">\n",
    "<h2> Комментарий ревьюера 2 <a class=\"tocSkip\"> </h2>\n",
    "\n",
    "<b>Все отлично!👍:</b>"
   ]
  },
  {
   "cell_type": "markdown",
   "id": "e83e4cc1-5eb6-4d9b-989d-6fbe2115b643",
   "metadata": {},
   "source": [
    "## Подготовка"
   ]
  },
  {
   "cell_type": "code",
   "execution_count": null,
   "id": "10e9c86e-6e71-4bec-8529-ef29926a160a",
   "metadata": {},
   "outputs": [],
   "source": [
    "data = pd.read_csv('/data/toxic_comments.csv')"
   ]
  },
  {
   "cell_type": "markdown",
   "id": "f71f3675",
   "metadata": {},
   "source": [
    " <br/>\n",
    "<div class=\"alert alert-block alert-danger\">\n",
    "<h2> Комментарий ревьюера  <a class=\"tocSkip\"></h2>\n",
    "    \n",
    "<b>На доработку🤔:</b> \n",
    "        \n",
    "Для подгрузки данных рекомендую использовать конструкцию `try-except`, с указанием путей для платформы и для локального ПК, она поможет избежать потенциальных ошибок при загрузке данных, связанных, например, с некорректным указанием путей.\n",
    "        \n",
    "Подробнее о конструкции по ссылке:\n",
    "        \n",
    "https://pythonworld.ru/tipy-dannyx-v-python/isklyucheniya-v-python-konstrukciya-try-except-dlya-obrabotki-isklyuchenij.html\n",
    "        \n"
   ]
  },
  {
   "cell_type": "markdown",
   "id": "52636cc2",
   "metadata": {},
   "source": [
    "<div class=\"alert alert-success\">\n",
    "<h2> Комментарий ревьюера 2 <a class=\"tocSkip\"> </h2>\n",
    "\n",
    "<b>Все отлично!👍:</b>"
   ]
  },
  {
   "cell_type": "code",
   "execution_count": 4,
   "id": "1db54f11-6904-4238-828c-fc249f304538",
   "metadata": {},
   "outputs": [
    {
     "data": {},
     "metadata": {},
     "output_type": "display_data"
    }
   ],
   "source": [
    "display(data.head(10))\n",
    "data.info()"
   ]
  },
  {
   "cell_type": "code",
   "execution_count": 5,
   "id": "c283501b-9fae-4da8-86a5-b2a121b75b0e",
   "metadata": {},
   "outputs": [],
   "source": [
    "# Проверка дубликатов\n",
    "print('duplicates:', data.duplicated().sum())"
   ]
  },
  {
   "cell_type": "markdown",
   "id": "f6204e90-29c8-404f-96d5-e9ff09c25de4",
   "metadata": {},
   "source": [
    "Загрузили данные и провели анализ данных: в данных нет пропусков, дубликатов и несоответствия типов данных."
   ]
  },
  {
   "cell_type": "markdown",
   "id": "d90478a8",
   "metadata": {},
   "source": [
    " <div class=\"alert alert-success\">\n",
    "<h2> Комментарий ревьюера <a class=\"tocSkip\"> </h2>\n",
    "\n",
    "<b>Все отлично!👍:</b>\n",
    "    \n",
    "Очистка и лемматизация сделаны корректно)\n",
    "    \n",
    "Можно использовать progress_apply. Для контроля времени лемматизации, поскольку процесс длительный, можно применять индикатор прогресса. Различные варианты можно посмотреть здесь: \n",
    "    \n",
    "https://habr.com/ru/post/483400/ \n",
    "    \n",
    "Пример:\n",
    "    \n",
    "    from tqdm import tqdm\n",
    "    tqdm.pandas()\n",
    "    data['lemm_text'] = data['text'].progress_apply(lemmatize)\n",
    "\n",
    "</div>    "
   ]
  },
  {
   "cell_type": "code",
   "execution_count": 6,
   "id": "9686b5af-e4e6-43b7-bde8-99724cefe788",
   "metadata": {},
   "outputs": [
    {
     "data": {
      "image/png": "[encoded data removed]"
     },
     "metadata": {},
     "output_type": "display_data"
    }
   ],
   "source": [
    "# Подсчет количества значений в столбце 'toxic'\n",
    "toxic_counts = data['toxic'].value_counts()\n",
    "\n",
    "# Построение столбчатой диаграммы\n",
    "sns.barplot(x=toxic_counts.index, y=toxic_counts.values, palette='viridis')\n",
    "\n",
    "# Настройка графика\n",
    "plt.title('Распределение меток в столбце \"toxic\"')\n",
    "plt.xlabel('Класс')\n",
    "plt.ylabel('Количество')\n",
    "plt.xticks([0, 1], ['Non-Toxic', 'Toxic'])\n",
    "plt.show()"
   ]
  },
  {
   "cell_type": "markdown",
   "id": "c5d461f6-5fe7-460c-9584-a297de15ce86",
   "metadata": {},
   "source": [
    "Распределение целевого признака показывает, что в данных есть дисбаланс классов. Класс нетоксичных комментариев значительно превышает класс токсичных комментариев. "
   ]
  },
  {
   "cell_type": "markdown",
   "id": "17e1ace7",
   "metadata": {},
   "source": [
    " <div class=\"alert alert-success\">\n",
    "<h2> Комментарий ревьюера <a class=\"tocSkip\"> </h2>\n",
    "\n",
    "<b>Все отлично!👍:</b> Данные загружены корреткно. Молодец, что проверяешь баланс классов)"
   ]
  },
  {
   "cell_type": "markdown",
   "id": "70d22e29-6f79-4de2-9f75-03f03f489198",
   "metadata": {},
   "source": [
    "## Обучение"
   ]
  },
  {
   "cell_type": "code",
   "execution_count": 7,
   "id": "60caddb4-7136-49ad-95e5-f98ee7bc69b5",
   "metadata": {},
   "outputs": [],
   "source": [
    "X = data['text']\n",
    "y = data['toxic']"
   ]
  },
  {
   "cell_type": "code",
   "execution_count": 8,
   "id": "ed13ad55-47fd-4fc9-9a37-d298bb6045cf",
   "metadata": {},
   "outputs": [],
   "source": [
    "# Загрузка стоп-слов\n",
    "nltk.download('stopwords')\n",
    "stop_words = set(stopwords.words('english'))"
   ]
  },
  {
   "cell_type": "code",
   "execution_count": 9,
   "id": "ddc7c476-d678-4ca3-9a5d-5a8a3368f2a8",
   "metadata": {},
   "outputs": [],
   "source": [
    "# Предобработка текста\n",
    "def clean_text(text):\n",
    "    text = text.lower()  # Приведение к нижнему регистру\n",
    "    text = re.sub(r'[^a-zA-Z]', ' ', text)  # Удаление всех символов, кроме букв\n",
    "    text = re.sub(r'\\s+', ' ', text)  # Удаление лишних пробелов\n",
    "    return text.strip()\n",
    "\n",
    "def lemmatize_text(text):\n",
    "    # Для примера предполагается использование простой лемматизации\n",
    "    lemmatized_text = ' '.join([word for word in text.split() if word not in stop_words])\n",
    "    return lemmatized_text\n",
    "\n",
    "def preprocess_pipeline(text):\n",
    "    cleaned = clean_text(text)\n",
    "    lemmatized = lemmatize_text(cleaned)\n",
    "    return lemmatized"
   ]
  },
  {
   "cell_type": "code",
   "execution_count": 10,
   "id": "7e8af9f6-bf65-4f7b-af98-7392ba008786",
   "metadata": {},
   "outputs": [],
   "source": [
    "# Разделение данных на обучающую и тестовую выборки\n",
    "X_train, X_test, y_train, y_test = train_test_split(X, y, test_size=0.2, random_state=42)"
   ]
  },
  {
   "cell_type": "code",
   "execution_count": 11,
   "id": "559c44ac-476f-4868-a8a5-875c51514f10",
   "metadata": {},
   "outputs": [],
   "source": [
    "# Определение пайплайна обработки текста\n",
    "text_pipeline = Pipeline([\n",
    "    ('preprocessor', FunctionTransformer(lambda x: x.apply(preprocess_pipeline))),\n",
    "    ('tfidf', TfidfVectorizer(max_features=10000)),\n",
    "])\n",
    "\n",
    "# Метрика для подбора моделей\n",
    "f1_scorer = make_scorer(f1_score)"
   ]
  },
  {
   "cell_type": "code",
   "execution_count": 12,
   "id": "a9563a35-fb35-4a18-9f01-d80f07a9db1d",
   "metadata": {},
   "outputs": [],
   "source": [
    "# Настройки гиперпараметров\n",
    "param_distributions_lr = {\n",
    "    'classifier__C': uniform(5, 15),  # Диапазон 5-15\n",
    "    'classifier__penalty': ['l1', 'l2'],\n",
    "    'classifier__solver': ['liblinear']  # Поддерживает l1 и l2\n",
    "}\n",
    "\n",
    "param_distributions_svm = {\n",
    "    'classifier__C': uniform(0.1, 10),\n",
    "    'classifier__kernel': ['linear', 'rbf']\n",
    "}\n",
    "\n",
    "# Линейные модели и их параметры\n",
    "models_params = {\n",
    "    'Logistic Regression': (LogisticRegression(max_iter=1000), param_distributions_lr),\n",
    "    'SVM': (SVC(), param_distributions_svm)\n",
    "}"
   ]
  },
  {
   "cell_type": "code",
   "execution_count": 13,
   "id": "03e8ea47-cd6f-4238-b7de-e3f42cb704e7",
   "metadata": {},
   "outputs": [],
   "source": [
    "# Словарь для хранения лучших моделей\n",
    "best_models = {}\n",
    "\n",
    "# Обучение и подбор гиперпараметров\n",
    "for model_name, (model, param_dist) in models_params.items():\n",
    "    pipeline = Pipeline(text_pipeline.steps + [('classifier', model)])\n",
    "    search = RandomizedSearchCV(\n",
    "        pipeline,\n",
    "        param_distributions=param_dist,\n",
    "        n_iter=20,\n",
    "        scoring=f1_scorer,\n",
    "        cv=5,\n",
    "        random_state=42,\n",
    "        n_jobs=-1\n",
    "    )\n",
    "    search.fit(X_train, y_train)\n",
    "    \n",
    "    # Сохранение лучшей модели\n",
    "    best_models[model_name] = search.best_estimator_\n",
    "    \n",
    "    # Вывод результатов кросс-валидации\n",
    "    print(f'{model_name} best cross-validation F1 score: {search.best_score_:.4f}')\n",
    "    print(f'{model_name} best parameters: {search.best_params_}')"
   ]
  },
  {
   "cell_type": "code",
   "execution_count": 14,
   "id": "17b063de-6d91-415c-89ab-d467ba1a5b1e",
   "metadata": {},
   "outputs": [],
   "source": [
    "# Обучение LightGBM\n",
    "lgbm_pipeline = Pipeline([\n",
    "    ('preprocessor', FunctionTransformer(lambda x: x.apply(preprocess_pipeline))),\n",
    "    ('tfidf', TfidfVectorizer(max_features=10000)),\n",
    "    ('classifier', lgb.LGBMClassifier(random_state=42))\n",
    "])\n",
    "\n",
    "param_distributions_lgbm = {\n",
    "    'classifier__num_leaves': [31, 63, 127],\n",
    "    'classifier__learning_rate': uniform(0.01, 0.2),\n",
    "    'classifier__n_estimators': [100, 200, 500]\n",
    "}"
   ]
  },
  {
   "cell_type": "code",
   "execution_count": 15,
   "id": "e25376b1-9ba0-43a3-a819-837494e703ef",
   "metadata": {},
   "outputs": [],
   "source": [
    "lgbm_search = RandomizedSearchCV(\n",
    "    lgbm_pipeline,\n",
    "    param_distributions=param_distributions_lgbm,\n",
    "    n_iter=20,\n",
    "    scoring=f1_scorer,\n",
    "    cv=5,\n",
    "    random_state=42,\n",
    "    n_jobs=-1\n",
    ")\n",
    "\n",
    "lgbm_search.fit(X_train, y_train)\n",
    "\n",
    "# Сохранение лучшей модели LightGBM\n",
    "best_models['LightGBM'] = lgbm_search.best_estimator_\n",
    "\n",
    "print(f'LightGBM best cross-validation F1 score: {lgbm_search.best_score_:.4f}')\n",
    "print(f'LightGBM best parameters: {lgbm_search.best_params_}')"
   ]
  },
  {
   "cell_type": "markdown",
   "id": "1deb2b5e-38f0-4de5-97ad-82c9a823b2a5",
   "metadata": {},
   "source": [
    "Были обучены 3 модели с перебором параметров Randomized Search CV:\n",
    "- Logistic Regression: F1-score = 0.7694\n",
    "- SVM: F1-score = 0.7709\n",
    "- LightGBM: F1-score = 0.7755\n",
    "\n",
    "F1 мера у всех моделей очень близки друг к другу. Самый лучший результат показал модель LightGBM. Протестируем все модели на тестовой выборке."
   ]
  },
  {
   "cell_type": "markdown",
   "id": "d7c71363",
   "metadata": {},
   "source": [
    " <div class=\"alert alert-success\">\n",
    "<h2> Комментарий ревьюера <a class=\"tocSkip\"> </h2>\n",
    "\n",
    "<b>Все отлично!👍:</b>\n",
    "    \n",
    "Разбиение сделано верно. Отлично, что векторизатор обучен только на тренировочной части данных\n",
    "</div>"
   ]
  },
  {
   "cell_type": "markdown",
   "id": "8d784721",
   "metadata": {},
   "source": [
    "<br/>\n",
    "<div class=\"alert alert-block alert-danger\">\n",
    "<h2> Комментарий ревьюера  <a class=\"tocSkip\"></h2>\n",
    "    \n",
    "<b>На доработку🤔:</b>\n",
    "    \n",
    "    \n",
    "Проводить кросс-валидацию на upsampled/downsampled данных – некорректно, так как баланс классов нарушен. Напомню, что внутри кросс-валидации происходит разбиение переданной в нее выборки на треин и валидацию. \n",
    "    \n",
    "В случае upsampling получается так, что в треин и в валидацию (внутри кросс-валидации) вообще попадают одни и те же объекты. \n",
    "    \n",
    "- Можно использовать параметр class_weights в моделях\n",
    "\n",
    "- Можно попробовать реализовать подход из статьи: https://datascience.xyz/practice/kak-delat-kross-validaciju-pri-apsemplinge-dannyh.html\n",
    "\n",
    "- Можно вообще ничего не делать, то есть не бороться с дисбалансом.\n",
    "    \n",
    "Каждый их способов выше может как улучшить, так и ухудшить качество. Это поле для экспериментов\n"
   ]
  },
  {
   "cell_type": "markdown",
   "id": "67ff8c1a",
   "metadata": {},
   "source": [
    "<div class=\"alert alert-success\">\n",
    "<h2> Комментарий ревьюера 2 <a class=\"tocSkip\"> </h2>\n",
    "\n",
    "<b>Все отлично!👍:</b>"
   ]
  },
  {
   "cell_type": "markdown",
   "id": "14ba15f0",
   "metadata": {},
   "source": [
    "<div class=\"alert alert-warning\">\n",
    "    <h2> Комментарий ревьюера <a class=\"tocSkip\"> </h2>\n",
    "    \n",
    "<b>Некоторые замечания и рекомендации💡:</b> \n",
    "    \n",
    "Линейная модель + подбор гиперпараметра С - это секрет успеха в этом проекте. Поэтому есть смысл  поработать с регуляризацией (пеналти l1/l2 + подбор гиперпараметра С в диапазоне 5-15). Это поможет логистической регрессии (или любой другой линейной модели классификации) раскрыться в полную силу\n",
    "        \n"
   ]
  },
  {
   "cell_type": "markdown",
   "id": "d2bec929",
   "metadata": {},
   "source": [
    "<div class=\"alert alert-warning\">\n",
    "    <h2> Комментарий ревьюера <a class=\"tocSkip\"> </h2>\n",
    "    \n",
    "<b>Некоторые замечания и рекомендации💡:</b> \n",
    "     \n",
    "Если используешь `SearchCV`, то нет смысла дополнительно считать метрику с валидационной выборкой. Ее создавать не нужно"
   ]
  },
  {
   "cell_type": "markdown",
   "id": "a541f7b9",
   "metadata": {},
   "source": [
    "<div class=\"alert alert-success\">\n",
    "<h2> Комментарий ревьюера <a class=\"tocSkip\"> </h2>\n",
    "\n",
    "<b>Все отлично!👍:</b>\n",
    "\n",
    "        \n",
    "Кросс-валидация одновремено с извлечением признаков из текстов требует особого подхода. Ты помнишь, что векторайзер мы обучали на обучающей выборке а применяли к тестовой . Что происходит при кросс-валидации? Ты разбиваешь большую обучающую выборку на несколько фолдов, из них выделяешь часть на обучение, часть на валидацию.  Но признаки (TF-IDF) уже обучены на всем наборе (обучающий + валидационный). Получается утечка данных. Чтобы избежать её нужно использовать pipeline из векторайзера и модели.\n",
    "    \n",
    "Пример такого пайплайна можно посмотреть в официальной документации\n",
    "    \n",
    "  https://scikit-learn.org/stable/auto_examples/model_selection/plot_grid_search_text_feature_extraction.html\n",
    "    \n",
    "И еще полезные материалы:\n",
    "    \n",
    "  https://newtechaudit.ru/pipeline-v-rabote-s-dannymi/           \n",
    "        \n",
    "        \n",
    "        \n",
    "</div>"
   ]
  },
  {
   "cell_type": "code",
   "execution_count": 16,
   "id": "9db4aef9-d386-4dac-8741-779745d73c11",
   "metadata": {},
   "outputs": [],
   "source": [
    "# Предсказание и расчет метрики на тестовой выборке\n",
    "y_pred = best_models['Logistic Regression'].predict(X_test)\n",
    "print(f'Logistic Regression F1 score (test): {f1_score(y_test, y_pred):.4f}')"
   ]
  },
  {
   "cell_type": "code",
   "execution_count": 17,
   "id": "7622bfa9-0a18-428c-912f-ccad82f44dfe",
   "metadata": {},
   "outputs": [],
   "source": [
    "# Предсказание и расчет метрики на тестовой выборке\n",
    "y_pred = best_models['SVM'].predict(X_test)\n",
    "print(f'SVM F1 score (test): {f1_score(y_test, y_pred):.4f}')"
   ]
  },
  {
   "cell_type": "code",
   "execution_count": 18,
   "id": "7785c9ee-e808-42d4-b20c-8eaee9b8c653",
   "metadata": {},
   "outputs": [],
   "source": [
    "y_pred_lgbm = best_models['LightGBM'].predict(X_test)\n",
    "print(f'LightGBM F1 score (test): {f1_score(y_test, y_pred_lgbm):.4f}')"
   ]
  },
  {
   "cell_type": "markdown",
   "id": "f781d1bb-c5b6-4209-b720-d61200bd913d",
   "metadata": {},
   "source": [
    "На тестовой выборке также все результаты получились очень близкими. Рекомендуем для предсказывания в дальнейгем использовать Logistic Regression, так как данная модель требует меньше времени и ресурсов для предсказания и F1 мера по результатам тестовой выборке выше других моделей."
   ]
  },
  {
   "cell_type": "markdown",
   "id": "f2021fec",
   "metadata": {},
   "source": [
    "<div class=\"alert alert-success\">\n",
    "<h2> Комментарий ревьюера <a class=\"tocSkip\"> </h2>\n",
    "\n",
    "<b>Все отлично!👍:</b> \n",
    "    \n",
    "На тестовой выборке получено хорошее качество)"
   ]
  },
  {
   "cell_type": "markdown",
   "id": "2b2abcb3-bb85-41ab-a635-3ebd909379e9",
   "metadata": {},
   "source": [
    "## Выводы"
   ]
  },
  {
   "cell_type": "markdown",
   "id": "2dda1848-67f5-48ed-8adc-b4b92cf9a63d",
   "metadata": {},
   "source": [
    "В рамках проекта по классификации токсичных комментариев были выполнены следующие этапы:\n",
    "\n",
    "**Предобработка данных:**\n",
    "- Приведение текста к нижнему регистру.\n",
    "- Очистка от всех символов, кроме английских букв.\n",
    "- Удаление стоп-слов на английском языке.\n",
    "- Лемматизация текста (упрощенный метод).\n",
    "\n",
    "**Разделение данных:**\n",
    "- Датасет был разделен на обучающую и тестовую выборки в соотношении 80/20 для оценки качества моделей.\n",
    "\n",
    "**Обработка текста:**\n",
    "- Использован пайплайн с предварительной очисткой текста и преобразованием его в числовой вид с помощью TfidfVectorizer с ограничением в 10,000 признаков.\n",
    "\n",
    "**Обучение моделей и подбор гиперпараметров:**\n",
    "- Были использованы следующие модели:\n",
    "    - Логистическая регрессия: Для настройки модели применялся RandomizedSearchCV с подбором гиперпараметра регуляризации C в диапазоне [5, 15] и выбором регуляризации L1 или L2. Использовался solver liblinear, который поддерживает обе регуляризации.\n",
    "    - SVM (Support Vector Machine): Настройка включала поиск параметра C в диапазоне [0.1, 10] и выбор ядра (linear или rbf).\n",
    "    - LightGBM: Подбор параметров включал количество листьев (num_leaves), скорость обучения (learning_rate) и количество деревьев (n_estimators).\n",
    "\n",
    "**Оценка моделей:**\n",
    "- Результаты на кросс-валидации:\n",
    "    - Logistic Regression: F1-score = 0.7694.\n",
    "    - SVM: F1-score = 0.7709.\n",
    "    - LightGBM: F1-score = 0.7755.\n",
    "\n",
    "**Тестирование моделей:**\n",
    "- На тестовой выборке были получены следующие результаты:\n",
    "    - Logistic Regression: F1-score (test) = 0.7756.\n",
    "    - SVM: F1-score (test) = 0.7729.\n",
    "    - LightGBM: F1-score (test) = 0.7755.\n",
    "\n",
    "**Рекомендации:**\n",
    "- LightGBM показала наилучший результат на тестовой выборке, однако разница между всеми моделями минимальна.\n",
    "- Для дальнейшего использования рекомендуется логистическая регрессия, так как она обеспечивает высокую точность при минимальных затратах ресурсов и времени на предсказание. Это делает её оптимальным выбором для реального применения в условиях ограниченных вычислительных ресурсов."
   ]
  },
  {
   "cell_type": "markdown",
   "id": "4647bfe0",
   "metadata": {},
   "source": [
    "<div style=\"border:solid Chocolate 2px; padding: 40px\">\n",
    "\n",
    "\n",
    "<h2> Итоговый комментарий ревьюера <a class=\"tocSkip\"> </h2>    \n",
    "    \n",
    "  \n",
    "У меня сложилось хорошее общее впечатление о проекте, тебе удалось неплохо справиться с этим проектом. Молодец! Подготовлены данные для анализа, изучен каждый параметр. Ппостроено несколько моделей классификации и оценено их качество. Осмысленная аналитика и дельная модельная работа - многое удалось как надо)\n",
    "    \n",
    "Отмечу отдельные положительные моменты проекта🙂:\n",
    "    \n",
    "- в ходе проекта встречались  функции, помогающие избавиться от дублирования кода;\n",
    "- хорошая интерпретация;\n",
    "- при обучении моделей использована кросс-валидация и поиск гиперпараметров.\n",
    "    \n",
    "Есть несколько моментов всего, на которые стоит ещё раз взглянуть, я указал их в моих комментариях по ходу проекта. Предлагаю тебе доработать проект по моим комментариям, чтобы довести его до совершенства.\n",
    "\n",
    "  \n",
    "\n",
    "    \n",
    "Если будут вопросы, обращайся, с удовольствием на них отвечу.  \n",
    "</div>"
   ]
  },
  {
   "cell_type": "markdown",
   "id": "bc63aeeb",
   "metadata": {},
   "source": [
    "<div style=\"border:solid Chocolate 2px; padding: 40px\">\n",
    "\n",
    "\n",
    "<h2>  Итоговый комментарий ревьюера 2 (итоговый вывод по проекту) <a class=\"tocSkip\"> </h2>    \n",
    "    \n",
    "     \n",
    "  \n",
    "Теперь почти идеально. Принимаю работу)\n",
    "    \n",
    "Если хочешь лучше разобраться в теме, то могу посоветовать тебе: \n",
    "    \n",
    "https://huggingface.co/transformers/model_doc/bert.html\n",
    "    \n",
    "https://t.me/renat_alimbekov\n",
    "    \n",
    "https://colah.github.io/posts/2015-08-Understanding-LSTMs/ - Про LSTM\n",
    "    \n",
    "https://web.stanford.edu/~jurafsky/slp3/10.pdf - про энкодер-декодер модели, этеншены\n",
    "    \n",
    "https://pytorch.org/tutorials/beginner/transformer_tutorial.html - официальный гайд по трансформеру от создателей pytorch\n",
    "    \n",
    "https://transformer.huggingface.co/ - поболтать с трансформером\n",
    "    \n",
    "Библиотеки: allennlp, fairseq, transformers, tensorflow-text — множествореализованных методов для трансформеров методов NLP\n",
    "    \n",
    "Word2Vec https://radimrehurek.com/gensim/models/word2vec.html\n",
    "    \n",
    "    \n",
    "    \n",
    "В этом проекте были отработаны все моменты. \n",
    "    \n",
    "Успехов тебе в следующем спринте!\n",
    "    \n",
    "Рад был помочь тебе)\n",
    "    \n",
    "    \n",
    "    \n",
    "</div>"
   ]
  },
  {
   "cell_type": "markdown",
   "id": "bcb81cae-6bb7-4c57-aa02-8df31a61f684",
   "metadata": {},
   "source": [
    "## Чек-лист проверки"
   ]
  },
  {
   "cell_type": "markdown",
   "id": "8afbc294-9653-41ca-af29-3f6bb56b6770",
   "metadata": {},
   "source": [
    "- [x]  Jupyter Notebook открыт\n",
    "- [x]  Весь код выполняется без ошибок\n",
    "- [x]  Ячейки с кодом расположены в порядке исполнения\n",
    "- [x]  Данные загружены и подготовлены\n",
    "- [X]  Модели обучены\n",
    "- [x]  Значение метрики *F1* не меньше 0.75\n",
    "- [X]  Выводы написаны"
   ]
  },
  {
   "cell_type": "code",
   "execution_count": null,
   "id": "e8b9d422-7a5c-4bbe-9a92-f153c4b68923",
   "metadata": {},
   "outputs": [],
   "source": []
  }
 ],
 "metadata": {
  "ExecuteTimeLog": [
   {
    "duration": 4,
    "start_time": "2024-12-03T20:31:21.057Z"
   },
   {
    "duration": 5238,
    "start_time": "2024-12-03T20:31:21.064Z"
   },
   {
    "duration": 0,
    "start_time": "2024-12-03T20:31:26.305Z"
   },
   {
    "duration": 0,
    "start_time": "2024-12-03T20:31:26.306Z"
   },
   {
    "duration": 0,
    "start_time": "2024-12-03T20:31:26.307Z"
   },
   {
    "duration": 0,
    "start_time": "2024-12-03T20:31:26.308Z"
   },
   {
    "duration": 0,
    "start_time": "2024-12-03T20:31:26.309Z"
   },
   {
    "duration": 0,
    "start_time": "2024-12-03T20:31:26.310Z"
   },
   {
    "duration": 0,
    "start_time": "2024-12-03T20:31:26.311Z"
   },
   {
    "duration": 0,
    "start_time": "2024-12-03T20:31:26.312Z"
   },
   {
    "duration": 0,
    "start_time": "2024-12-03T20:31:26.314Z"
   },
   {
    "duration": 0,
    "start_time": "2024-12-03T20:31:26.315Z"
   },
   {
    "duration": 0,
    "start_time": "2024-12-03T20:31:26.316Z"
   },
   {
    "duration": 0,
    "start_time": "2024-12-03T20:31:26.317Z"
   },
   {
    "duration": 0,
    "start_time": "2024-12-03T20:31:26.318Z"
   },
   {
    "duration": 0,
    "start_time": "2024-12-03T20:31:26.318Z"
   },
   {
    "duration": 0,
    "start_time": "2024-12-03T20:31:26.319Z"
   },
   {
    "duration": 1566,
    "start_time": "2024-12-04T16:36:31.239Z"
   },
   {
    "duration": 171,
    "start_time": "2024-12-04T16:36:52.823Z"
   },
   {
    "duration": 1422,
    "start_time": "2024-12-04T16:37:27.978Z"
   }
  ],
  "kernelspec": {
   "display_name": "Python 3 (ipykernel)",
   "language": "python",
   "name": "python3"
  },
  "language_info": {
   "codemirror_mode": {
    "name": "ipython",
    "version": 3
   },
   "file_extension": ".py",
   "mimetype": "text/x-python",
   "name": "python",
   "nbconvert_exporter": "python",
   "pygments_lexer": "ipython3",
   "version": "3.9.5"
  },
  "toc": {
   "base_numbering": 1,
   "nav_menu": {},
   "number_sections": true,
   "sideBar": true,
   "skip_h1_title": true,
   "title_cell": "Table of Contents",
   "title_sidebar": "Contents",
   "toc_cell": false,
   "toc_position": {
    "height": "calc(100% - 180px)",
    "left": "10px",
    "top": "150px",
    "width": "165px"
   },
   "toc_section_display": true,
   "toc_window_display": true
  }
 },
 "nbformat": 4,
 "nbformat_minor": 5
}
